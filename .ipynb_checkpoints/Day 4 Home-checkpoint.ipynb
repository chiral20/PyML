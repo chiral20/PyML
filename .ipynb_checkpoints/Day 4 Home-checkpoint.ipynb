{
 "cells": [
  {
   "cell_type": "markdown",
   "metadata": {},
   "source": [
    "# Day 4"
   ]
  },
  {
   "cell_type": "code",
   "execution_count": 1,
   "metadata": {},
   "outputs": [],
   "source": [
    "import numpy as np\n",
    "import pandas as pd\n",
    "import matplotlib.pyplot as plt\n",
    "\n",
    "%matplotlib inline"
   ]
  },
  {
   "cell_type": "markdown",
   "metadata": {},
   "source": [
    "### RandomForest"
   ]
  },
  {
   "cell_type": "code",
   "execution_count": 2,
   "metadata": {},
   "outputs": [
    {
     "data": {
      "text/plain": [
       "array([0, 1, 2, 3, 4, 5, 6, 7, 8, 9])"
      ]
     },
     "execution_count": 2,
     "metadata": {},
     "output_type": "execute_result"
    }
   ],
   "source": [
    "samples = np.arange(10)\n",
    "samples"
   ]
  },
  {
   "cell_type": "markdown",
   "metadata": {},
   "source": [
    " 부트스트랩 샘플링"
   ]
  },
  {
   "cell_type": "code",
   "execution_count": 3,
   "metadata": {},
   "outputs": [
    {
     "data": {
      "text/plain": [
       "array([0, 2, 7, 5, 6, 2, 3, 1, 4, 1])"
      ]
     },
     "execution_count": 3,
     "metadata": {},
     "output_type": "execute_result"
    }
   ],
   "source": [
    "sample_1 = np.random.choice(samples, len(samples))  # 같은 개수\n",
    "sample_1"
   ]
  },
  {
   "cell_type": "markdown",
   "metadata": {},
   "source": [
    " (결과를 보면) 중복을 허용한다 -> 데이터를 뽑고, 다시 넣은 뒤에 다시 데이터를 뽑을 수 있도록\n",
    " 위 결과 --> array([3, 4, 9, 4, 4, 4, 8, 6, 7, 4])"
   ]
  },
  {
   "cell_type": "code",
   "execution_count": 4,
   "metadata": {},
   "outputs": [
    {
     "data": {
      "text/plain": [
       "array([8, 0, 6, 3, 5, 7, 3, 9, 6, 0])"
      ]
     },
     "execution_count": 4,
     "metadata": {},
     "output_type": "execute_result"
    }
   ],
   "source": [
    "sample_2 = np.random.choice(samples, len(samples))\n",
    "sample_2"
   ]
  },
  {
   "cell_type": "markdown",
   "metadata": {},
   "source": [
    "#### Random Forest "
   ]
  },
  {
   "cell_type": "code",
   "execution_count": 5,
   "metadata": {},
   "outputs": [],
   "source": [
    "from sklearn.tree import DecisionTreeClassifier # 의사결정트리"
   ]
  },
  {
   "cell_type": "code",
   "execution_count": 6,
   "metadata": {},
   "outputs": [],
   "source": [
    "from sklearn.ensemble import RandomForestClassifier # 랜덤포레스트"
   ]
  },
  {
   "cell_type": "code",
   "execution_count": 7,
   "metadata": {},
   "outputs": [],
   "source": [
    "from sklearn.model_selection import train_test_split"
   ]
  },
  {
   "cell_type": "code",
   "execution_count": 12,
   "metadata": {},
   "outputs": [
    {
     "ename": "SyntaxError",
     "evalue": "invalid syntax (<ipython-input-12-19976b1c28dc>, line 1)",
     "output_type": "error",
     "traceback": [
      "\u001b[1;36m  File \u001b[1;32m\"<ipython-input-12-19976b1c28dc>\"\u001b[1;36m, line \u001b[1;32m1\u001b[0m\n\u001b[1;33m    RandomForestClassifier? # 주요 파라미터를 확인하는 방법\u001b[0m\n\u001b[1;37m                          ^\u001b[0m\n\u001b[1;31mSyntaxError\u001b[0m\u001b[1;31m:\u001b[0m invalid syntax\n"
     ]
    }
   ],
   "source": [
    "RandomForestClassifier? # 주요 파라미터를 확인하는 방법"
   ]
  },
  {
   "cell_type": "code",
   "execution_count": 13,
   "metadata": {},
   "outputs": [],
   "source": [
    "forest = RandomForestClassifier(n_estimators = 10, max_features='auto') # 모델의 갯수를 설정하는 것 (10개)\n",
    "  # 과적합이 개선되지 않으면 100개이상이 될 수도 있다 (<--매개변수의 튜닝)\n",
    "  # max_features : 최대 특성 수 (한 개의 특성만으로도 트리를 만들 수 있으므로 반드시 사용할 수가 아니라\n",
    "  # 사용할 수 있는 가능성의 숫자이다)  "
   ]
  },
  {
   "cell_type": "code",
   "execution_count": 14,
   "metadata": {},
   "outputs": [],
   "source": [
    "cancer = pd.read_csv('data/cancer.csv')\n",
    "\n",
    "y = cancer['type']\n",
    "X = cancer.values[:, 1:].astype('float32')"
   ]
  },
  {
   "cell_type": "code",
   "execution_count": 15,
   "metadata": {},
   "outputs": [],
   "source": [
    "X_train, X_test, y_train, y_test = train_test_split(X, y)"
   ]
  },
  {
   "cell_type": "code",
   "execution_count": 16,
   "metadata": {},
   "outputs": [
    {
     "data": {
      "text/plain": [
       "(1.0, 0.9230769230769231)"
      ]
     },
     "execution_count": 16,
     "metadata": {},
     "output_type": "execute_result"
    }
   ],
   "source": [
    "tree = DecisionTreeClassifier().fit(X_train, y_train)\n",
    "tree.score(X_train, y_train), tree.score(X_test, y_test)"
   ]
  },
  {
   "cell_type": "code",
   "execution_count": 17,
   "metadata": {},
   "outputs": [
    {
     "name": "stderr",
     "output_type": "stream",
     "text": [
      "C:\\Users\\jhhong\\Anaconda3\\lib\\site-packages\\sklearn\\ensemble\\forest.py:246: FutureWarning: The default value of n_estimators will change from 10 in version 0.20 to 100 in 0.22.\n",
      "  \"10 in version 0.20 to 100 in 0.22.\", FutureWarning)\n"
     ]
    },
    {
     "data": {
      "text/plain": [
       "(0.9953051643192489, 0.951048951048951)"
      ]
     },
     "execution_count": 17,
     "metadata": {},
     "output_type": "execute_result"
    }
   ],
   "source": [
    "forest = RandomForestClassifier().fit(X_train, y_train)\n",
    "forest.score(X_train, y_train), forest.score(X_test, y_test) "
   ]
  },
  {
   "cell_type": "code",
   "execution_count": 18,
   "metadata": {},
   "outputs": [
    {
     "data": {
      "text/plain": [
       "(1.0, 0.951048951048951)"
      ]
     },
     "execution_count": 18,
     "metadata": {},
     "output_type": "execute_result"
    }
   ],
   "source": [
    "forest = RandomForestClassifier(n_estimators = 100).fit(X_train, y_train) # 모델의 갯수를 10개에서 100개 증가\n",
    "forest.score(X_train, y_train), forest.score(X_test, y_test) "
   ]
  },
  {
   "cell_type": "code",
   "execution_count": 19,
   "metadata": {},
   "outputs": [
    {
     "data": {
      "text/plain": [
       "(1.0, 0.958041958041958)"
      ]
     },
     "execution_count": 19,
     "metadata": {},
     "output_type": "execute_result"
    }
   ],
   "source": [
    "forest = RandomForestClassifier(n_estimators = 100, n_jobs = -1).fit(X_train, y_train)\n",
    "forest.score(X_train, y_train), forest.score(X_test, y_test) \n",
    "\n",
    "# n_jobs = -1 사용할 수 있는 모든 코어를 알아서 쓴다"
   ]
  },
  {
   "cell_type": "markdown",
   "metadata": {},
   "source": [
    "더욱 종합적인 특성 중요도를 알 수 있다\n",
    "\n",
    "단일트리보다 훨씬 안정적이고, 신뢰할만하다"
   ]
  },
  {
   "cell_type": "code",
   "execution_count": 20,
   "metadata": {},
   "outputs": [
    {
     "data": {
      "text/plain": [
       "<matplotlib.axes._subplots.AxesSubplot at 0x27a5a982630>"
      ]
     },
     "execution_count": 20,
     "metadata": {},
     "output_type": "execute_result"
    },
    {
     "data": {
      "image/png": "[encoded data removed]",
      "text/plain": [
       "<Figure size 432x288 with 1 Axes>"
      ]
     },
     "metadata": {
      "needs_background": "light"
     },
     "output_type": "display_data"
    }
   ],
   "source": [
    "imp_f = forest.feature_importances_  # 특성 중요도\n",
    "n_f = cancer.columns[1:] # 특성명\n",
    "imp_f = pd.Series(imp_f, index = n_f)\n",
    "imp_f.plot(kind ='barh')"
   ]
  },
  {
   "cell_type": "code",
   "execution_count": 21,
   "metadata": {},
   "outputs": [
    {
     "data": {
      "text/plain": [
       "<matplotlib.axes._subplots.AxesSubplot at 0x27a5a8c8860>"
      ]
     },
     "execution_count": 21,
     "metadata": {},
     "output_type": "execute_result"
    },
    {
     "data": {
      "image/png": "[encoded data removed]",
      "text/plain": [
       "<Figure size 432x288 with 1 Axes>"
      ]
     },
     "metadata": {
      "needs_background": "light"
     },
     "output_type": "display_data"
    }
   ],
   "source": [
    "imp_f.sort_values().plot(kind ='barh')"
   ]
  },
  {
   "cell_type": "markdown",
   "metadata": {},
   "source": [
    "#### random forest -> regressor로 활용\n",
    "\n",
    "잘 작동하지만, 외삽을 할 수 없다는 단점이 있다 (p112)"
   ]
  },
  {
   "cell_type": "code",
   "execution_count": 22,
   "metadata": {},
   "outputs": [],
   "source": [
    "boston = pd.read_csv('data/boston.csv')"
   ]
  },
  {
   "cell_type": "code",
   "execution_count": 23,
   "metadata": {},
   "outputs": [],
   "source": [
    "y = boston['Price']\n",
    "X = boston.values[:, 1:].astype('float32')\n",
    "\n",
    "X_train, X_test, y_train, y_test = train_test_split(X, y)"
   ]
  },
  {
   "cell_type": "code",
   "execution_count": 24,
   "metadata": {},
   "outputs": [],
   "source": [
    "from sklearn.ensemble import RandomForestRegressor"
   ]
  },
  {
   "cell_type": "code",
   "execution_count": 25,
   "metadata": {},
   "outputs": [
    {
     "name": "stderr",
     "output_type": "stream",
     "text": [
      "C:\\Users\\jhhong\\Anaconda3\\lib\\site-packages\\sklearn\\ensemble\\forest.py:246: FutureWarning: The default value of n_estimators will change from 10 in version 0.20 to 100 in 0.22.\n",
      "  \"10 in version 0.20 to 100 in 0.22.\", FutureWarning)\n"
     ]
    },
    {
     "data": {
      "text/plain": [
       "(0.9750514437437111, 0.8343346119367661)"
      ]
     },
     "execution_count": 25,
     "metadata": {},
     "output_type": "execute_result"
    }
   ],
   "source": [
    "tree_reg = RandomForestRegressor().fit(X_train, y_train)\n",
    "tree_reg.score(X_train, y_train),tree_reg.score(X_test, y_test)"
   ]
  },
  {
   "cell_type": "markdown",
   "metadata": {},
   "source": [
    "과적합이 발생하므로 --> 파라미터를 조절해본다"
   ]
  },
  {
   "cell_type": "code",
   "execution_count": 26,
   "metadata": {},
   "outputs": [
    {
     "name": "stdout",
     "output_type": "stream",
     "text": [
      "나무: 100 훈련: 0.9806074738462972 시험: 0.8330903617344387\n",
      "나무: 200 훈련: 0.9809814042804762 시험: 0.8302897783167221\n",
      "나무: 300 훈련: 0.9809660564867128 시험: 0.8391276245118298\n",
      "나무: 1000 훈련: 0.9814056064936136 시험: 0.8390170613311716\n"
     ]
    }
   ],
   "source": [
    "for n_tree in [100, 200, 300, 1000]:  # 나무개수\n",
    "    tree_reg = RandomForestRegressor(n_estimators = n_tree).fit(X_train, y_train)\n",
    "    train_score = tree_reg.score(X_train, y_train) # 훈련점수\n",
    "    test_score = tree_reg.score(X_test, y_test) # 시험점수\n",
    "    print('나무:', n_tree, '훈련:' , train_score, '시험:' , test_score)"
   ]
  },
  {
   "cell_type": "markdown",
   "metadata": {},
   "source": [
    "외삽 : 훈련 데이터 범위 밖의 데이터\n",
    "\n",
    "결정트리 모델군을 회귀에 적용할 때, 주의할 점 (p112)"
   ]
  },
  {
   "cell_type": "code",
   "execution_count": 27,
   "metadata": {},
   "outputs": [],
   "source": [
    "ram_price = pd.read_csv('data/ram_price.csv') # RAM 가격 (1메가바이트 당의 가격)"
   ]
  },
  {
   "cell_type": "code",
   "execution_count": 74,
   "metadata": {},
   "outputs": [
    {
     "data": {
      "text/html": [
       "<div>\n",
       "<style>\n",
       "    .dataframe thead tr:only-child th {\n",
       "        text-align: right;\n",
       "    }\n",
       "\n",
       "    .dataframe thead th {\n",
       "        text-align: left;\n",
       "    }\n",
       "\n",
       "    .dataframe tbody tr th {\n",
       "        vertical-align: top;\n",
       "    }\n",
       "</style>\n",
       "<table border=\"1\" class=\"dataframe\">\n",
       "  <thead>\n",
       "    <tr style=\"text-align: right;\">\n",
       "      <th></th>\n",
       "      <th>date</th>\n",
       "      <th>price</th>\n",
       "    </tr>\n",
       "  </thead>\n",
       "  <tbody>\n",
       "    <tr>\n",
       "      <th>0</th>\n",
       "      <td>1957.0</td>\n",
       "      <td>411041792.0</td>\n",
       "    </tr>\n",
       "    <tr>\n",
       "      <th>1</th>\n",
       "      <td>1959.0</td>\n",
       "      <td>67947725.0</td>\n",
       "    </tr>\n",
       "    <tr>\n",
       "      <th>2</th>\n",
       "      <td>1960.0</td>\n",
       "      <td>5242880.0</td>\n",
       "    </tr>\n",
       "  </tbody>\n",
       "</table>\n",
       "</div>"
      ],
      "text/plain": [
       "     date        price\n",
       "0  1957.0  411041792.0\n",
       "1  1959.0   67947725.0\n",
       "2  1960.0    5242880.0"
      ]
     },
     "execution_count": 74,
     "metadata": {},
     "output_type": "execute_result"
    }
   ],
   "source": [
    "ram_price [:3]"
   ]
  },
  {
   "cell_type": "code",
   "execution_count": 75,
   "metadata": {},
   "outputs": [
    {
     "data": {
      "text/plain": [
       "<matplotlib.axes._subplots.AxesSubplot at 0x240bce47208>"
      ]
     },
     "execution_count": 75,
     "metadata": {},
     "output_type": "execute_result"
    },
    {
     "data": {
      "image/png": "[encoded data removed]",
      "text/plain": [
       "<matplotlib.figure.Figure at 0x240bce63320>"
      ]
     },
     "metadata": {},
     "output_type": "display_data"
    }
   ],
   "source": [
    "ram_price.set_index('date').plot(logy=True)"
   ]
  },
  {
   "cell_type": "code",
   "execution_count": 76,
   "metadata": {},
   "outputs": [
    {
     "data": {
      "text/plain": [
       "<matplotlib.axes._subplots.AxesSubplot at 0x240bef3af98>"
      ]
     },
     "execution_count": 76,
     "metadata": {},
     "output_type": "execute_result"
    },
    {
     "data": {
      "image/png": "[encoded data removed]",
      "text/plain": [
       "<matplotlib.figure.Figure at 0x240bef3a9e8>"
      ]
     },
     "metadata": {},
     "output_type": "display_data"
    }
   ],
   "source": [
    "ram_price.set_index('date').plot(logy=False) # 로그로 처리하지 않은 경우"
   ]
  },
  {
   "cell_type": "code",
   "execution_count": 77,
   "metadata": {
    "collapsed": true
   },
   "outputs": [],
   "source": [
    "y = ram_price['price']\n",
    "X = ram_price.values[:, 0].astype('float32')"
   ]
  },
  {
   "cell_type": "code",
   "execution_count": 79,
   "metadata": {},
   "outputs": [
    {
     "data": {
      "text/plain": [
       "(333, 1)"
      ]
     },
     "execution_count": 79,
     "metadata": {},
     "output_type": "execute_result"
    }
   ],
   "source": [
    "X = X.reshape(-1,1) # 특징이 하나만 있어도 2차원의 형상을 유지해야한다 (-1은 0축값 사용하는 것)\n",
    "X.shape "
   ]
  },
  {
   "cell_type": "code",
   "execution_count": 80,
   "metadata": {
    "collapsed": true
   },
   "outputs": [
    {
     "data": {
      "text/plain": [
       "array([[ 1957.        ],\n",
       "       [ 1959.        ],\n",
       "       [ 1960.        ],\n",
       "       [ 1965.        ],\n",
       "       [ 1970.        ],\n",
       "       [ 1973.        ],\n",
       "       [ 1974.        ],\n",
       "       [ 1975.        ],\n",
       "       [ 1975.07995605],\n",
       "       [ 1975.25      ],\n",
       "       [ 1975.75      ],\n",
       "       [ 1976.        ],\n",
       "       [ 1976.17004395],\n",
       "       [ 1976.42004395],\n",
       "       [ 1976.57995605],\n",
       "       [ 1977.07995605],\n",
       "       [ 1978.17004395],\n",
       "       [ 1978.25      ],\n",
       "       [ 1978.32995605],\n",
       "       [ 1978.5       ],\n",
       "       [ 1978.57995605],\n",
       "       [ 1978.75      ],\n",
       "       [ 1979.        ],\n",
       "       [ 1979.75      ],\n",
       "       [ 1980.        ],\n",
       "       [ 1981.        ],\n",
       "       [ 1981.57995605],\n",
       "       [ 1982.        ],\n",
       "       [ 1982.17004395],\n",
       "       [ 1982.67004395],\n",
       "       [ 1983.        ],\n",
       "       [ 1983.67004395],\n",
       "       [ 1984.        ],\n",
       "       [ 1984.57995605],\n",
       "       [ 1985.        ],\n",
       "       [ 1985.32995605],\n",
       "       [ 1985.42004395],\n",
       "       [ 1985.5       ],\n",
       "       [ 1985.57995605],\n",
       "       [ 1985.67004395],\n",
       "       [ 1985.82995605],\n",
       "       [ 1985.92004395],\n",
       "       [ 1986.        ],\n",
       "       [ 1986.07995605],\n",
       "       [ 1986.17004395],\n",
       "       [ 1986.25      ],\n",
       "       [ 1986.32995605],\n",
       "       [ 1986.42004395],\n",
       "       [ 1986.5       ],\n",
       "       [ 1986.57995605],\n",
       "       [ 1986.67004395],\n",
       "       [ 1986.75      ],\n",
       "       [ 1986.92004395],\n",
       "       [ 1987.        ],\n",
       "       [ 1987.07995605],\n",
       "       [ 1987.17004395],\n",
       "       [ 1987.25      ],\n",
       "       [ 1987.32995605],\n",
       "       [ 1987.42004395],\n",
       "       [ 1987.5       ],\n",
       "       [ 1987.57995605],\n",
       "       [ 1987.67004395],\n",
       "       [ 1987.75      ],\n",
       "       [ 1987.82995605],\n",
       "       [ 1987.92004395],\n",
       "       [ 1988.        ],\n",
       "       [ 1988.07995605],\n",
       "       [ 1988.17004395],\n",
       "       [ 1988.32995605],\n",
       "       [ 1988.42004395],\n",
       "       [ 1988.5       ],\n",
       "       [ 1988.57995605],\n",
       "       [ 1988.67004395],\n",
       "       [ 1988.75      ],\n",
       "       [ 1988.82995605],\n",
       "       [ 1988.92004395],\n",
       "       [ 1989.        ],\n",
       "       [ 1989.07995605],\n",
       "       [ 1989.17004395],\n",
       "       [ 1989.25      ],\n",
       "       [ 1989.42004395],\n",
       "       [ 1989.5       ],\n",
       "       [ 1989.57995605],\n",
       "       [ 1989.67004395],\n",
       "       [ 1989.75      ],\n",
       "       [ 1989.82995605],\n",
       "       [ 1989.92004395],\n",
       "       [ 1990.        ],\n",
       "       [ 1990.17004395],\n",
       "       [ 1990.32995605],\n",
       "       [ 1990.42004395],\n",
       "       [ 1990.5       ],\n",
       "       [ 1990.57995605],\n",
       "       [ 1990.67004395],\n",
       "       [ 1990.75      ],\n",
       "       [ 1990.82995605],\n",
       "       [ 1990.92004395],\n",
       "       [ 1991.        ],\n",
       "       [ 1991.07995605],\n",
       "       [ 1991.17004395],\n",
       "       [ 1991.25      ],\n",
       "       [ 1991.32995605],\n",
       "       [ 1991.42004395],\n",
       "       [ 1991.5       ],\n",
       "       [ 1991.57995605],\n",
       "       [ 1991.67004395],\n",
       "       [ 1991.75      ],\n",
       "       [ 1991.82995605],\n",
       "       [ 1991.92004395],\n",
       "       [ 1992.        ],\n",
       "       [ 1992.07995605],\n",
       "       [ 1992.17004395],\n",
       "       [ 1992.25      ],\n",
       "       [ 1992.32995605],\n",
       "       [ 1992.42004395],\n",
       "       [ 1992.5       ],\n",
       "       [ 1992.57995605],\n",
       "       [ 1992.67004395],\n",
       "       [ 1992.75      ],\n",
       "       [ 1992.82995605],\n",
       "       [ 1992.92004395],\n",
       "       [ 1993.        ],\n",
       "       [ 1993.07995605],\n",
       "       [ 1993.17004395],\n",
       "       [ 1993.25      ],\n",
       "       [ 1993.32995605],\n",
       "       [ 1993.42004395],\n",
       "       [ 1993.5       ],\n",
       "       [ 1993.57995605],\n",
       "       [ 1993.67004395],\n",
       "       [ 1993.75      ],\n",
       "       [ 1993.82995605],\n",
       "       [ 1993.92004395],\n",
       "       [ 1994.        ],\n",
       "       [ 1994.07995605],\n",
       "       [ 1994.17004395],\n",
       "       [ 1994.25      ],\n",
       "       [ 1994.32995605],\n",
       "       [ 1994.42004395],\n",
       "       [ 1994.5       ],\n",
       "       [ 1994.57995605],\n",
       "       [ 1994.67004395],\n",
       "       [ 1994.75      ],\n",
       "       [ 1994.82995605],\n",
       "       [ 1994.92004395],\n",
       "       [ 1995.        ],\n",
       "       [ 1995.07995605],\n",
       "       [ 1995.17004395],\n",
       "       [ 1995.25      ],\n",
       "       [ 1995.32995605],\n",
       "       [ 1995.42004395],\n",
       "       [ 1995.5       ],\n",
       "       [ 1995.57995605],\n",
       "       [ 1995.67004395],\n",
       "       [ 1995.75      ],\n",
       "       [ 1995.82995605],\n",
       "       [ 1995.92004395],\n",
       "       [ 1996.        ],\n",
       "       [ 1996.07995605],\n",
       "       [ 1996.17004395],\n",
       "       [ 1996.25      ],\n",
       "       [ 1996.32995605],\n",
       "       [ 1996.42004395],\n",
       "       [ 1996.5       ],\n",
       "       [ 1996.57995605],\n",
       "       [ 1996.67004395],\n",
       "       [ 1996.75      ],\n",
       "       [ 1996.82995605],\n",
       "       [ 1996.92004395],\n",
       "       [ 1997.        ],\n",
       "       [ 1997.07995605],\n",
       "       [ 1997.17004395],\n",
       "       [ 1997.25      ],\n",
       "       [ 1997.32995605],\n",
       "       [ 1997.42004395],\n",
       "       [ 1997.5       ],\n",
       "       [ 1997.57995605],\n",
       "       [ 1997.67004395],\n",
       "       [ 1997.75      ],\n",
       "       [ 1997.82995605],\n",
       "       [ 1997.92004395],\n",
       "       [ 1998.        ],\n",
       "       [ 1998.07995605],\n",
       "       [ 1998.17004395],\n",
       "       [ 1998.25      ],\n",
       "       [ 1998.32995605],\n",
       "       [ 1998.42004395],\n",
       "       [ 1998.57995605],\n",
       "       [ 1998.67004395],\n",
       "       [ 1998.75      ],\n",
       "       [ 1998.82995605],\n",
       "       [ 1998.92004395],\n",
       "       [ 1999.07995605],\n",
       "       [ 1999.13000488],\n",
       "       [ 1999.17004395],\n",
       "       [ 1999.25      ],\n",
       "       [ 1999.32995605],\n",
       "       [ 1999.5       ],\n",
       "       [ 1999.67004395],\n",
       "       [ 1999.75      ],\n",
       "       [ 1999.82995605],\n",
       "       [ 1999.92004395],\n",
       "       [ 2000.        ],\n",
       "       [ 2000.07995605],\n",
       "       [ 2000.17004395],\n",
       "       [ 2000.25      ],\n",
       "       [ 2000.32995605],\n",
       "       [ 2000.42004395],\n",
       "       [ 2000.5       ],\n",
       "       [ 2000.57995605],\n",
       "       [ 2000.67004395],\n",
       "       [ 2000.75      ],\n",
       "       [ 2000.82995605],\n",
       "       [ 2000.92004395],\n",
       "       [ 2001.        ],\n",
       "       [ 2001.07995605],\n",
       "       [ 2001.17004395],\n",
       "       [ 2001.25      ],\n",
       "       [ 2001.32995605],\n",
       "       [ 2001.42004395],\n",
       "       [ 2001.5       ],\n",
       "       [ 2001.5       ],\n",
       "       [ 2001.57995605],\n",
       "       [ 2001.67004395],\n",
       "       [ 2001.75      ],\n",
       "       [ 2001.77001953],\n",
       "       [ 2002.07995605],\n",
       "       [ 2002.07995605],\n",
       "       [ 2002.25      ],\n",
       "       [ 2002.32995605],\n",
       "       [ 2002.42004395],\n",
       "       [ 2002.57995605],\n",
       "       [ 2002.75      ],\n",
       "       [ 2003.17004395],\n",
       "       [ 2003.25      ],\n",
       "       [ 2003.32995605],\n",
       "       [ 2003.42004395],\n",
       "       [ 2003.5       ],\n",
       "       [ 2003.57995605],\n",
       "       [ 2003.67004395],\n",
       "       [ 2003.75      ],\n",
       "       [ 2003.82995605],\n",
       "       [ 2003.98999023],\n",
       "       [ 2004.        ],\n",
       "       [ 2004.07995605],\n",
       "       [ 2004.17004395],\n",
       "       [ 2004.32995605],\n",
       "       [ 2004.42004395],\n",
       "       [ 2004.5       ],\n",
       "       [ 2005.25      ],\n",
       "       [ 2005.42004395],\n",
       "       [ 2005.82995605],\n",
       "       [ 2005.92004395],\n",
       "       [ 2006.17004395],\n",
       "       [ 2006.32995605],\n",
       "       [ 2006.5       ],\n",
       "       [ 2006.67004395],\n",
       "       [ 2006.75      ],\n",
       "       [ 2006.82995605],\n",
       "       [ 2006.98999023],\n",
       "       [ 2007.        ],\n",
       "       [ 2007.07995605],\n",
       "       [ 2007.17004395],\n",
       "       [ 2007.32995605],\n",
       "       [ 2007.5       ],\n",
       "       [ 2007.67004395],\n",
       "       [ 2007.75      ],\n",
       "       [ 2007.82995605],\n",
       "       [ 2007.92004395],\n",
       "       [ 2008.        ],\n",
       "       [ 2008.07995605],\n",
       "       [ 2008.32995605],\n",
       "       [ 2008.5       ],\n",
       "       [ 2008.57995605],\n",
       "       [ 2008.67004395],\n",
       "       [ 2008.82995605],\n",
       "       [ 2008.92004395],\n",
       "       [ 2009.        ],\n",
       "       [ 2009.07995605],\n",
       "       [ 2009.25      ],\n",
       "       [ 2009.42004395],\n",
       "       [ 2009.5       ],\n",
       "       [ 2009.57995605],\n",
       "       [ 2009.75      ],\n",
       "       [ 2009.92004395],\n",
       "       [ 2010.        ],\n",
       "       [ 2010.07995605],\n",
       "       [ 2010.17004395],\n",
       "       [ 2010.32995605],\n",
       "       [ 2010.5       ],\n",
       "       [ 2010.57995605],\n",
       "       [ 2010.75      ],\n",
       "       [ 2010.82995605],\n",
       "       [ 2010.92004395],\n",
       "       [ 2011.        ],\n",
       "       [ 2011.07995605],\n",
       "       [ 2011.32995605],\n",
       "       [ 2011.42004395],\n",
       "       [ 2011.67004395],\n",
       "       [ 2011.75      ],\n",
       "       [ 2012.        ],\n",
       "       [ 2012.07995605],\n",
       "       [ 2012.25      ],\n",
       "       [ 2012.32995605],\n",
       "       [ 2012.57995605],\n",
       "       [ 2012.67004395],\n",
       "       [ 2012.82995605],\n",
       "       [ 2013.        ],\n",
       "       [ 2013.07995605],\n",
       "       [ 2013.32995605],\n",
       "       [ 2013.42004395],\n",
       "       [ 2013.57995605],\n",
       "       [ 2013.67004395],\n",
       "       [ 2013.75      ],\n",
       "       [ 2013.82995605],\n",
       "       [ 2013.92004395],\n",
       "       [ 2014.07995605],\n",
       "       [ 2014.17004395],\n",
       "       [ 2014.25      ],\n",
       "       [ 2014.42004395],\n",
       "       [ 2014.57995605],\n",
       "       [ 2014.67004395],\n",
       "       [ 2014.82995605],\n",
       "       [ 2015.        ],\n",
       "       [ 2015.07995605],\n",
       "       [ 2015.25      ],\n",
       "       [ 2015.32995605],\n",
       "       [ 2015.5       ],\n",
       "       [ 2015.57995605],\n",
       "       [ 2015.67004395],\n",
       "       [ 2015.75      ],\n",
       "       [ 2015.82995605],\n",
       "       [ 2015.92004395]], dtype=float32)"
      ]
     },
     "execution_count": 80,
     "metadata": {},
     "output_type": "execute_result"
    }
   ],
   "source": [
    "X"
   ]
  },
  {
   "cell_type": "code",
   "execution_count": 82,
   "metadata": {
    "collapsed": true
   },
   "outputs": [],
   "source": [
    "X_train, X_test, y_train, y_test = train_test_split(X, y, shuffle = False) #섞지 않는 이유, 그래프를 그릴 목적"
   ]
  },
  {
   "cell_type": "code",
   "execution_count": 83,
   "metadata": {
    "collapsed": true
   },
   "outputs": [],
   "source": [
    "from sklearn.tree import DecisionTreeRegressor\n",
    "from sklearn.ensemble import RandomForestRegressor"
   ]
  },
  {
   "cell_type": "code",
   "execution_count": 84,
   "metadata": {
    "collapsed": true
   },
   "outputs": [],
   "source": [
    "tree_reg = DecisionTreeRegressor().fit(X_train, y_train)"
   ]
  },
  {
   "cell_type": "code",
   "execution_count": 86,
   "metadata": {},
   "outputs": [
    {
     "data": {
      "text/plain": [
       "(1.0, -14.414393924451142)"
      ]
     },
     "execution_count": 86,
     "metadata": {},
     "output_type": "execute_result"
    }
   ],
   "source": [
    "tree_reg.score(X_train, y_train), tree_reg.score(X_test, y_test)"
   ]
  },
  {
   "cell_type": "markdown",
   "metadata": {},
   "source": [
    "regressor를 사용하고 시험 점수를 봤는데... \n",
    "(-14.4로 나왔다) R^2가 -가 나온 것은 (너무 틀리면 -가 나오기도) --> 0으로 보면 된다\n",
    "즉... R^2 <=0 일수도 있다"
   ]
  },
  {
   "cell_type": "code",
   "execution_count": 85,
   "metadata": {
    "collapsed": true
   },
   "outputs": [],
   "source": [
    "y_train_pred = tree_reg.predict(X_train)\n",
    "y_test_pred = tree_reg.predict(X_test)"
   ]
  },
  {
   "cell_type": "code",
   "execution_count": 88,
   "metadata": {},
   "outputs": [
    {
     "data": {
      "text/plain": [
       "[<matplotlib.lines.Line2D at 0x240bc57b080>]"
      ]
     },
     "execution_count": 88,
     "metadata": {},
     "output_type": "execute_result"
    },
    {
     "data": {
      "image/png": "[encoded data removed]",
      "text/plain": [
       "<matplotlib.figure.Figure at 0x240bcac4cf8>"
      ]
     },
     "metadata": {},
     "output_type": "display_data"
    }
   ],
   "source": [
    "graph = ram_price.set_index('date').plot(logy=True)\n",
    "graph.plot(X_train.flatten(), y_train_pred, color = 'g')\n",
    "graph.plot(X_test.flatten(), y_test_pred, color ='r')"
   ]
  },
  {
   "cell_type": "markdown",
   "metadata": {},
   "source": [
    "훈련데이터 (초록색)은 원본인 파란색과 완벽하게 일치한다 (훈련 스코어가 1.0인 이유)\n",
    "시험점수는 마지막값을 그대로 사용하는 것이다 (빨간 라인)\n",
    "\n",
    "#### randomforest에서 회귀를 사용하는 경우에는 \n",
    "\n",
    "훈련 때의 최대, 최소를 벗어나는 경우에는 예측을 아예 할 수가 없다"
   ]
  },
  {
   "cell_type": "markdown",
   "metadata": {},
   "source": [
    "#### 외삽의 문제를 해결하는 방법 -> 선형모델\n",
    "\n",
    "선형모델은 외삽의 문제를 겪지 않는다"
   ]
  },
  {
   "cell_type": "code",
   "execution_count": 89,
   "metadata": {
    "collapsed": true
   },
   "outputs": [],
   "source": [
    "from sklearn.linear_model import Ridge"
   ]
  },
  {
   "cell_type": "code",
   "execution_count": 90,
   "metadata": {},
   "outputs": [
    {
     "data": {
      "text/plain": [
       "(0.093874125864519153, -1.6896646873064077e+17)"
      ]
     },
     "execution_count": 90,
     "metadata": {},
     "output_type": "execute_result"
    }
   ],
   "source": [
    "ridge = Ridge(alpha = 1.0).fit(X_train, y_train)\n",
    "ridge.score(X_train, y_train),ridge.score(X_test, y_test)"
   ]
  },
  {
   "cell_type": "markdown",
   "metadata": {},
   "source": [
    "(0.093874125864519153, -1.6896646873064077e+17) 훈련점수도 낮고, 시험점수도 낮다..."
   ]
  },
  {
   "cell_type": "code",
   "execution_count": 92,
   "metadata": {},
   "outputs": [],
   "source": [
    "y2_train_pred = ridge.predict(X_train)\n",
    "y2_test_pred = ridge.predict(X_test)"
   ]
  },
  {
   "cell_type": "code",
   "execution_count": 102,
   "metadata": {},
   "outputs": [
    {
     "data": {
      "text/plain": [
       "[<matplotlib.lines.Line2D at 0x240bf27b390>]"
      ]
     },
     "execution_count": 102,
     "metadata": {},
     "output_type": "execute_result"
    },
    {
     "data": {
      "image/png": "[encoded data removed]",
      "text/plain": [
       "<matplotlib.figure.Figure at 0x240bf27b4a8>"
      ]
     },
     "metadata": {},
     "output_type": "display_data"
    }
   ],
   "source": [
    "graph = ram_price.set_index('date').plot(logy=True)\n",
    "graph.plot(X_train.flatten(), y2_train_pred, color = 'g')\n",
    "graph.plot(X_test.flatten(), y2_test_pred, color ='r')"
   ]
  },
  {
   "cell_type": "markdown",
   "metadata": {},
   "source": [
    "로그 스케일로 그래프를 (y축)변환을 했으므로"
   ]
  },
  {
   "cell_type": "code",
   "execution_count": 95,
   "metadata": {
    "collapsed": true
   },
   "outputs": [],
   "source": [
    "logy_train = np.log(y_train)\n",
    "logy_test = np.log(y_test)"
   ]
  },
  {
   "cell_type": "code",
   "execution_count": 99,
   "metadata": {},
   "outputs": [
    {
     "data": {
      "text/plain": [
       "(0.96861558742967291, 0.37520572842523031)"
      ]
     },
     "execution_count": 99,
     "metadata": {},
     "output_type": "execute_result"
    }
   ],
   "source": [
    "ridge = Ridge(alpha = 1.0).fit(X_train, logy_train)\n",
    "ridge.score(X_train, logy_train),ridge.score(X_test, logy_test)"
   ]
  },
  {
   "cell_type": "code",
   "execution_count": 106,
   "metadata": {
    "collapsed": true
   },
   "outputs": [],
   "source": [
    "logy_train_pred = ridge.predict(X_train)\n",
    "logy_test_pred = ridge.predict(X_test)"
   ]
  },
  {
   "cell_type": "code",
   "execution_count": 108,
   "metadata": {},
   "outputs": [
    {
     "data": {
      "text/plain": [
       "[<matplotlib.lines.Line2D at 0x240bf4b80f0>]"
      ]
     },
     "execution_count": 108,
     "metadata": {},
     "output_type": "execute_result"
    },
    {
     "data": {
      "image/png": "[encoded data removed]",
      "text/plain": [
       "<matplotlib.figure.Figure at 0x240bf4c5d68>"
      ]
     },
     "metadata": {},
     "output_type": "display_data"
    }
   ],
   "source": [
    "log_graph = ram_price.set_index('date').plot(logy=True)\n",
    "log_graph.plot(X_train.flatten(), np.exp(logy_train_pred), color = 'g')\n",
    "log_graph.plot(X_test.flatten(), np.exp(logy_test_pred), color ='r')"
   ]
  },
  {
   "cell_type": "markdown",
   "metadata": {},
   "source": [
    "#### 훈련된 모델을 파일로 내보내기"
   ]
  },
  {
   "cell_type": "code",
   "execution_count": 123,
   "metadata": {
    "collapsed": true
   },
   "outputs": [],
   "source": [
    "import pickle # 바닐라 파이썬에서 제공하는 기능"
   ]
  },
  {
   "cell_type": "code",
   "execution_count": 130,
   "metadata": {
    "collapsed": true
   },
   "outputs": [],
   "source": [
    "model = ridge"
   ]
  },
  {
   "cell_type": "code",
   "execution_count": 131,
   "metadata": {},
   "outputs": [],
   "source": [
    "with open('trained_model.pkl', 'wb') as pkl_file:  # 'wb'는 쓰기모드이면서 binary 파일로 연다는 의미\n",
    "    pickle.dump(model, pkl_file)"
   ]
  },
  {
   "cell_type": "code",
   "execution_count": 133,
   "metadata": {
    "collapsed": true
   },
   "outputs": [],
   "source": [
    "del model"
   ]
  },
  {
   "cell_type": "code",
   "execution_count": 138,
   "metadata": {},
   "outputs": [
    {
     "data": {
      "text/plain": [
       "Ridge(alpha=1.0, copy_X=True, fit_intercept=True, max_iter=None,\n",
       "   normalize=False, random_state=None, solver='auto', tol=0.001)"
      ]
     },
     "execution_count": 138,
     "metadata": {},
     "output_type": "execute_result"
    }
   ],
   "source": [
    "model"
   ]
  },
  {
   "cell_type": "markdown",
   "metadata": {},
   "source": [
    "#### pkl 파일에서 꺼내오기"
   ]
  },
  {
   "cell_type": "code",
   "execution_count": 135,
   "metadata": {
    "collapsed": true
   },
   "outputs": [],
   "source": [
    "with open('trained_model.pkl','rb') as pkl_file: # 'rb' = read binary\n",
    "    model = pickle.load(pkl_file)"
   ]
  },
  {
   "cell_type": "code",
   "execution_count": 136,
   "metadata": {
    "collapsed": true
   },
   "outputs": [],
   "source": [
    "y_pred = model.predict(X)"
   ]
  },
  {
   "cell_type": "code",
   "execution_count": 137,
   "metadata": {
    "collapsed": true
   },
   "outputs": [
    {
     "data": {
      "text/plain": [
       "array([  1.93800049e+01,   1.84849243e+01,   1.80374146e+01,\n",
       "         1.57997437e+01,   1.35620728e+01,   1.22194824e+01,\n",
       "         1.17719727e+01,   1.13244019e+01,   1.12886353e+01,\n",
       "         1.12125244e+01,   1.09887695e+01,   1.08768921e+01,\n",
       "         1.08007812e+01,   1.06889038e+01,   1.06173096e+01,\n",
       "         1.03935547e+01,   9.90570068e+00,   9.86993408e+00,\n",
       "         9.83416748e+00,   9.75805664e+00,   9.72229004e+00,\n",
       "         9.64617920e+00,   9.53430176e+00,   9.19866943e+00,\n",
       "         9.08679199e+00,   8.63922119e+00,   8.37969971e+00,\n",
       "         8.19171143e+00,   8.11560059e+00,   7.89184570e+00,\n",
       "         7.74414062e+00,   7.44427490e+00,   7.29663086e+00,\n",
       "         7.03710938e+00,   6.84912109e+00,   6.70141602e+00,\n",
       "         6.66113281e+00,   6.62536621e+00,   6.58953857e+00,\n",
       "         6.54925537e+00,   6.47766113e+00,   6.43737793e+00,\n",
       "         6.40155029e+00,   6.36578369e+00,   6.32550049e+00,\n",
       "         6.28967285e+00,   6.25390625e+00,   6.21356201e+00,\n",
       "         6.17779541e+00,   6.14202881e+00,   6.10168457e+00,\n",
       "         6.06591797e+00,   5.98980713e+00,   5.95404053e+00,\n",
       "         5.91827393e+00,   5.87792969e+00,   5.84216309e+00,\n",
       "         5.80639648e+00,   5.76605225e+00,   5.73028564e+00,\n",
       "         5.69451904e+00,   5.65417480e+00,   5.61840820e+00,\n",
       "         5.58258057e+00,   5.54229736e+00,   5.50653076e+00,\n",
       "         5.47070312e+00,   5.43041992e+00,   5.35882568e+00,\n",
       "         5.31854248e+00,   5.28271484e+00,   5.24694824e+00,\n",
       "         5.20666504e+00,   5.17083740e+00,   5.13507080e+00,\n",
       "         5.09478760e+00,   5.05895996e+00,   5.02319336e+00,\n",
       "         4.98284912e+00,   4.94708252e+00,   4.87097168e+00,\n",
       "         4.83520508e+00,   4.79943848e+00,   4.75909424e+00,\n",
       "         4.72332764e+00,   4.68756104e+00,   4.64721680e+00,\n",
       "         4.61145020e+00,   4.53533936e+00,   4.46380615e+00,\n",
       "         4.42346191e+00,   4.38769531e+00,   4.35186768e+00,\n",
       "         4.31158447e+00,   4.27581787e+00,   4.23999023e+00,\n",
       "         4.19970703e+00,   4.16394043e+00,   4.12811279e+00,\n",
       "         4.08782959e+00,   4.05200195e+00,   4.01623535e+00,\n",
       "         3.97595215e+00,   3.94012451e+00,   3.90435791e+00,\n",
       "         3.86407471e+00,   3.82824707e+00,   3.79248047e+00,\n",
       "         3.75213623e+00,   3.71636963e+00,   3.68060303e+00,\n",
       "         3.64025879e+00,   3.60449219e+00,   3.56872559e+00,\n",
       "         3.52838135e+00,   3.49261475e+00,   3.45684814e+00,\n",
       "         3.41650391e+00,   3.38073730e+00,   3.34497070e+00,\n",
       "         3.30462646e+00,   3.26885986e+00,   3.23309326e+00,\n",
       "         3.19274902e+00,   3.15698242e+00,   3.12115479e+00,\n",
       "         3.08087158e+00,   3.04510498e+00,   3.00927734e+00,\n",
       "         2.96899414e+00,   2.93322754e+00,   2.89739990e+00,\n",
       "         2.85711670e+00,   2.82128906e+00,   2.78552246e+00,\n",
       "         2.74523926e+00,   2.70941162e+00,   2.67364502e+00,\n",
       "         2.63336182e+00,   2.59753418e+00,   2.56176758e+00,\n",
       "         2.52142334e+00,   2.48565674e+00,   2.44989014e+00,\n",
       "         2.40954590e+00,   2.37377930e+00,   2.33801270e+00,\n",
       "         2.29766846e+00,   2.26190186e+00,   2.22613525e+00,\n",
       "         2.18579102e+00,   2.15002441e+00,   2.11425781e+00,\n",
       "         2.07391357e+00,   2.03814697e+00,   2.00238037e+00,\n",
       "         1.96203613e+00,   1.92626953e+00,   1.89044189e+00,\n",
       "         1.85015869e+00,   1.81439209e+00,   1.77856445e+00,\n",
       "         1.73828125e+00,   1.70251465e+00,   1.66668701e+00,\n",
       "         1.62640381e+00,   1.59057617e+00,   1.55480957e+00,\n",
       "         1.51452637e+00,   1.47869873e+00,   1.44293213e+00,\n",
       "         1.40264893e+00,   1.36682129e+00,   1.33105469e+00,\n",
       "         1.29071045e+00,   1.25494385e+00,   1.21917725e+00,\n",
       "         1.17883301e+00,   1.14306641e+00,   1.10729980e+00,\n",
       "         1.06695557e+00,   1.03118896e+00,   9.95422363e-01,\n",
       "         9.55078125e-01,   9.19311523e-01,   8.83544922e-01,\n",
       "         8.43200684e-01,   7.71667480e-01,   7.31323242e-01,\n",
       "         6.95556641e-01,   6.59729004e-01,   6.19445801e-01,\n",
       "         5.47851562e-01,   5.25451660e-01,   5.07568359e-01,\n",
       "         4.71801758e-01,   4.35974121e-01,   3.59863281e-01,\n",
       "         2.83813477e-01,   2.47985840e-01,   2.12219238e-01,\n",
       "         1.71936035e-01,   1.36108398e-01,   1.00341797e-01,\n",
       "         5.99975586e-02,   2.42309570e-02,  -1.15356445e-02,\n",
       "        -5.18798828e-02,  -8.76464844e-02,  -1.23413086e-01,\n",
       "        -1.63757324e-01,  -1.99523926e-01,  -2.35290527e-01,\n",
       "        -2.75634766e-01,  -3.11401367e-01,  -3.47167969e-01,\n",
       "        -3.87512207e-01,  -4.23278809e-01,  -4.59045410e-01,\n",
       "        -4.99389648e-01,  -5.35156250e-01,  -5.35156250e-01,\n",
       "        -5.70983887e-01,  -6.11267090e-01,  -6.47033691e-01,\n",
       "        -6.56005859e-01,  -7.94738770e-01,  -7.94738770e-01,\n",
       "        -8.70849609e-01,  -9.06616211e-01,  -9.46899414e-01,\n",
       "        -1.01849365e+00,  -1.09460449e+00,  -1.28259277e+00,\n",
       "        -1.31835938e+00,  -1.35412598e+00,  -1.39447021e+00,\n",
       "        -1.43023682e+00,  -1.46600342e+00,  -1.50634766e+00,\n",
       "        -1.54211426e+00,  -1.57788086e+00,  -1.64953613e+00,\n",
       "        -1.65399170e+00,  -1.68975830e+00,  -1.73010254e+00,\n",
       "        -1.80169678e+00,  -1.84197998e+00,  -1.87774658e+00,\n",
       "        -2.21343994e+00,  -2.28948975e+00,  -2.47296143e+00,\n",
       "        -2.51330566e+00,  -2.62518311e+00,  -2.69671631e+00,\n",
       "        -2.77282715e+00,  -2.84893799e+00,  -2.88470459e+00,\n",
       "        -2.92047119e+00,  -2.99212646e+00,  -2.99658203e+00,\n",
       "        -3.03234863e+00,  -3.07269287e+00,  -3.14428711e+00,\n",
       "        -3.22033691e+00,  -3.29644775e+00,  -3.33221436e+00,\n",
       "        -3.36804199e+00,  -3.40832520e+00,  -3.44415283e+00,\n",
       "        -3.47991943e+00,  -3.59179688e+00,  -3.66790771e+00,\n",
       "        -3.70367432e+00,  -3.74401855e+00,  -3.81555176e+00,\n",
       "        -3.85589600e+00,  -3.89166260e+00,  -3.92742920e+00,\n",
       "        -4.00354004e+00,  -4.07965088e+00,  -4.11541748e+00,\n",
       "        -4.15118408e+00,  -4.22729492e+00,  -4.30340576e+00,\n",
       "        -4.33917236e+00,  -4.37500000e+00,  -4.41528320e+00,\n",
       "        -4.48687744e+00,  -4.56292725e+00,  -4.59875488e+00,\n",
       "        -4.67486572e+00,  -4.71063232e+00,  -4.75091553e+00,\n",
       "        -4.78674316e+00,  -4.82250977e+00,  -4.93438721e+00,\n",
       "        -4.97473145e+00,  -5.08660889e+00,  -5.12237549e+00,\n",
       "        -5.23425293e+00,  -5.27001953e+00,  -5.34613037e+00,\n",
       "        -5.38189697e+00,  -5.49377441e+00,  -5.53411865e+00,\n",
       "        -5.60571289e+00,  -5.68176270e+00,  -5.71759033e+00,\n",
       "        -5.82946777e+00,  -5.86975098e+00,  -5.94134521e+00,\n",
       "        -5.98162842e+00,  -6.01745605e+00,  -6.05322266e+00,\n",
       "        -6.09350586e+00,  -6.16510010e+00,  -6.20544434e+00,\n",
       "        -6.24121094e+00,  -6.31732178e+00,  -6.38885498e+00,\n",
       "        -6.42919922e+00,  -6.50073242e+00,  -6.57684326e+00,\n",
       "        -6.61260986e+00,  -6.68872070e+00,  -6.72448730e+00,\n",
       "        -6.80059814e+00,  -6.83642578e+00,  -6.87670898e+00,\n",
       "        -6.91247559e+00,  -6.94830322e+00,  -6.98858643e+00], dtype=float32)"
      ]
     },
     "execution_count": 137,
     "metadata": {},
     "output_type": "execute_result"
    }
   ],
   "source": [
    "y_pred"
   ]
  },
  {
   "cell_type": "markdown",
   "metadata": {},
   "source": [
    "## GRBT (p122)"
   ]
  },
  {
   "cell_type": "code",
   "execution_count": 139,
   "metadata": {
    "collapsed": true
   },
   "outputs": [],
   "source": [
    "y = cancer['type']\n",
    "X = cancer.values[:, 1:].astype('float32')\n",
    "\n",
    "X_train, X_test, y_train, y_test = train_test_split(X, y)"
   ]
  },
  {
   "cell_type": "code",
   "execution_count": 140,
   "metadata": {
    "collapsed": true
   },
   "outputs": [],
   "source": [
    "from sklearn.ensemble import GradientBoostingClassifier"
   ]
  },
  {
   "cell_type": "code",
   "execution_count": 141,
   "metadata": {
    "collapsed": true
   },
   "outputs": [],
   "source": [
    "GradientBoostingClassifier?"
   ]
  },
  {
   "cell_type": "code",
   "execution_count": 143,
   "metadata": {
    "collapsed": true
   },
   "outputs": [],
   "source": [
    "grbt = GradientBoostingClassifier(n_estimators  = 100, max_depth= 3, learning_rate= 0.1)\n",
    "  # learning_rate : 이전 오차를 얼마나 강하게 보정하는가 라는 의미"
   ]
  },
  {
   "cell_type": "code",
   "execution_count": 144,
   "metadata": {},
   "outputs": [
    {
     "data": {
      "text/plain": [
       "GradientBoostingClassifier(criterion='friedman_mse', init=None,\n",
       "              learning_rate=0.1, loss='deviance', max_depth=3,\n",
       "              max_features=None, max_leaf_nodes=None,\n",
       "              min_impurity_decrease=0.0, min_impurity_split=None,\n",
       "              min_samples_leaf=1, min_samples_split=2,\n",
       "              min_weight_fraction_leaf=0.0, n_estimators=100,\n",
       "              presort='auto', random_state=None, subsample=1.0, verbose=0,\n",
       "              warm_start=False)"
      ]
     },
     "execution_count": 144,
     "metadata": {},
     "output_type": "execute_result"
    }
   ],
   "source": [
    "grbt.fit(X_train, y_train)"
   ]
  },
  {
   "cell_type": "code",
   "execution_count": 145,
   "metadata": {},
   "outputs": [
    {
     "data": {
      "text/plain": [
       "(1.0, 0.95804195804195802)"
      ]
     },
     "execution_count": 145,
     "metadata": {},
     "output_type": "execute_result"
    }
   ],
   "source": [
    "grbt.score(X_train, y_train), grbt.score(X_test, y_test)"
   ]
  },
  {
   "cell_type": "code",
   "execution_count": 146,
   "metadata": {},
   "outputs": [
    {
     "data": {
      "text/plain": [
       "(0.99530516431924887, 0.95804195804195802)"
      ]
     },
     "execution_count": 146,
     "metadata": {},
     "output_type": "execute_result"
    }
   ],
   "source": [
    "forest = RandomForestClassifier()\n",
    "forest.fit(X_train, y_train)\n",
    "forest.score(X_train, y_train), forest.score(X_test, y_test)"
   ]
  },
  {
   "cell_type": "markdown",
   "metadata": {},
   "source": [
    "#### gbrt는 설정에 민감하다. 위 결과를 보면\n",
    "(1.0, 0.95804195804195802) <-- gbrt는 과대적합도 있고, 성능은 R.F와 비슷하다고 해석한다\n",
    "(0.99530516431924887, 0.95804195804195802)\n",
    "\n",
    "과적합이 발생하는 이유 -> 모델이 복잡하기 때문에... (즉 파라미터를 조정해본다)\n",
    "파라미터 (n_estimators, max_depth, learning_rate)"
   ]
  },
  {
   "cell_type": "code",
   "execution_count": 152,
   "metadata": {},
   "outputs": [
    {
     "data": {
      "text/plain": [
       "(0.99295774647887325, 0.94405594405594406)"
      ]
     },
     "execution_count": 152,
     "metadata": {},
     "output_type": "execute_result"
    }
   ],
   "source": [
    "grbt = GradientBoostingClassifier(n_estimators  = 100, max_depth= 1, learning_rate= 0.1)\n",
    "grbt.fit(X_train, y_train)\n",
    "grbt.score(X_train, y_train), grbt.score(X_test, y_test)"
   ]
  },
  {
   "cell_type": "code",
   "execution_count": 157,
   "metadata": {},
   "outputs": [
    {
     "data": {
      "text/plain": [
       "(0.9460093896713615, 0.93706293706293708)"
      ]
     },
     "execution_count": 157,
     "metadata": {},
     "output_type": "execute_result"
    }
   ],
   "source": [
    "grbt = GradientBoostingClassifier(n_estimators  = 10, max_depth= 1, learning_rate= 0.1)\n",
    "grbt.fit(X_train, y_train)\n",
    "grbt.score(X_train, y_train), grbt.score(X_test, y_test)"
   ]
  },
  {
   "cell_type": "code",
   "execution_count": 165,
   "metadata": {},
   "outputs": [
    {
     "data": {
      "text/plain": [
       "(0.98356807511737088, 0.95104895104895104)"
      ]
     },
     "execution_count": 165,
     "metadata": {},
     "output_type": "execute_result"
    }
   ],
   "source": [
    "grbt = GradientBoostingClassifier(n_estimators  = 10, max_depth= 1, learning_rate= 0.5)\n",
    "grbt.fit(X_train, y_train)\n",
    "grbt.score(X_train, y_train), grbt.score(X_test, y_test)"
   ]
  },
  {
   "cell_type": "markdown",
   "metadata": {},
   "source": [
    "매개변수를 설정하는 것이 민감한 모델인 경우에는, 설정하는 것이 부담이되고, 일이 될 수 있다\n",
    " -> 그리드 서치"
   ]
  },
  {
   "cell_type": "markdown",
   "metadata": {},
   "source": [
    "## (p337) 그리드 서치"
   ]
  },
  {
   "cell_type": "markdown",
   "metadata": {},
   "source": [
    "그리드 참색을 활용한 모델 최적 설정 찾기"
   ]
  },
  {
   "cell_type": "code",
   "execution_count": 166,
   "metadata": {
    "collapsed": true
   },
   "outputs": [],
   "source": [
    "set_range = {\n",
    "    'n_estimators' : list(range(50,550,50)),  # 50, 100, 150, ..., 550까지\n",
    "    'max_depth' : [1, 2, 3, 4], \n",
    "    'learning_rate' : [0.001, 0.01, 0.1, 1., 10.] # 경험적으로 로그스케일이 유의미한 차이를 아는데 도움이 되었다\n",
    "} # 설정범위"
   ]
  },
  {
   "cell_type": "code",
   "execution_count": 167,
   "metadata": {
    "collapsed": true
   },
   "outputs": [],
   "source": [
    "from sklearn.model_selection import GridSearchCV"
   ]
  },
  {
   "cell_type": "code",
   "execution_count": 168,
   "metadata": {
    "collapsed": true
   },
   "outputs": [],
   "source": [
    "grid_search = GridSearchCV(estimator=grbt, param_grid= set_range) # grbt : 평가모델을 의미, set_range : 설정조합"
   ]
  },
  {
   "cell_type": "code",
   "execution_count": 169,
   "metadata": {},
   "outputs": [
    {
     "data": {
      "text/plain": [
       "GridSearchCV(cv=None, error_score='raise',\n",
       "       estimator=GradientBoostingClassifier(criterion='friedman_mse', init=None,\n",
       "              learning_rate=0.5, loss='deviance', max_depth=1,\n",
       "              max_features=None, max_leaf_nodes=None,\n",
       "              min_impurity_decrease=0.0, min_impurity_split=None,\n",
       "              min_samples_leaf=1, min_samples_split=2,\n",
       "              min_weight_fraction_leaf=0.0, n_estimators=10,\n",
       "              presort='auto', random_state=None, subsample=1.0, verbose=0,\n",
       "              warm_start=False),\n",
       "       fit_params=None, iid=True, n_jobs=1,\n",
       "       param_grid={'n_estimators': [50, 100, 150, 200, 250, 300, 350, 400, 450, 500], 'max_depth': [1, 2, 3, 4], 'learning_rate': [0.001, 0.01, 0.1, 1.0, 10.0]},\n",
       "       pre_dispatch='2*n_jobs', refit=True, return_train_score='warn',\n",
       "       scoring=None, verbose=0)"
      ]
     },
     "execution_count": 169,
     "metadata": {},
     "output_type": "execute_result"
    }
   ],
   "source": [
    "grid_search.fit(X_train, y_train) # 모델을 훈련하듯이 fit을 한다 (조합을 탐색하므로 시간이 걸릴 수 있다)"
   ]
  },
  {
   "cell_type": "code",
   "execution_count": 170,
   "metadata": {},
   "outputs": [
    {
     "data": {
      "text/plain": [
       "0.971830985915493"
      ]
     },
     "execution_count": 170,
     "metadata": {},
     "output_type": "execute_result"
    }
   ],
   "source": [
    "# 결과를 확인하는 법\n",
    "\n",
    "grid_search.best_score_"
   ]
  },
  {
   "cell_type": "code",
   "execution_count": 171,
   "metadata": {},
   "outputs": [
    {
     "data": {
      "text/plain": [
       "{'learning_rate': 0.1, 'max_depth': 1, 'n_estimators': 350}"
      ]
     },
     "execution_count": 171,
     "metadata": {},
     "output_type": "execute_result"
    }
   ],
   "source": [
    "grid_search.best_params_"
   ]
  },
  {
   "cell_type": "code",
   "execution_count": 172,
   "metadata": {
    "collapsed": true
   },
   "outputs": [],
   "source": [
    "best_model = grid_search.best_estimator_"
   ]
  },
  {
   "cell_type": "code",
   "execution_count": 173,
   "metadata": {},
   "outputs": [
    {
     "data": {
      "text/plain": [
       "(1.0, 0.97202797202797198)"
      ]
     },
     "execution_count": 173,
     "metadata": {},
     "output_type": "execute_result"
    }
   ],
   "source": [
    "best_model.score(X_train, y_train), best_model.score(X_test, y_test)"
   ]
  },
  {
   "cell_type": "markdown",
   "metadata": {},
   "source": [
    "위에 제일 상단의 best_score에는 '0.971830985915493'였는데...\n",
    "\n",
    "하단의 내용에는 \n",
    "(1.0, 0.97202797202797198)으로 나온다 이유는\n",
    "\n",
    "그리드 탐색에는 훈련데이터만 가지고 사용한 것이고..."
   ]
  },
  {
   "cell_type": "markdown",
   "metadata": {},
   "source": [
    "### 조합을 찾는 방법론은 알았는데... 검증에 문제가 있는 것 같다(p324)"
   ]
  },
  {
   "cell_type": "markdown",
   "metadata": {},
   "source": [
    "## 교차 검증"
   ]
  },
  {
   "cell_type": "code",
   "execution_count": 174,
   "metadata": {
    "collapsed": true
   },
   "outputs": [],
   "source": [
    "from sklearn.model_selection import cross_val_score"
   ]
  },
  {
   "cell_type": "code",
   "execution_count": 178,
   "metadata": {},
   "outputs": [],
   "source": [
    "scores = cross_val_score(estimator=grbt, X = X, y = y, cv = 3) \n",
    "  #  대상모델은 grbt, CV가 train, test 로 나누므로, X_train, y_train으로 하지 않고, 통째로 X,y 넣어준다"
   ]
  },
  {
   "cell_type": "code",
   "execution_count": 179,
   "metadata": {},
   "outputs": [
    {
     "data": {
      "text/plain": [
       "array([ 0.93157895,  0.95263158,  0.95238095])"
      ]
     },
     "execution_count": 179,
     "metadata": {},
     "output_type": "execute_result"
    }
   ],
   "source": [
    "scores # 훈련을 3번 한 뒤에 각 test score를 아래에 보여준다"
   ]
  },
  {
   "cell_type": "code",
   "execution_count": 180,
   "metadata": {},
   "outputs": [
    {
     "data": {
      "text/plain": [
       "0.945530492898914"
      ]
     },
     "execution_count": 180,
     "metadata": {},
     "output_type": "execute_result"
    }
   ],
   "source": [
    "np.mean(scores)"
   ]
  },
  {
   "cell_type": "code",
   "execution_count": 183,
   "metadata": {
    "collapsed": true
   },
   "outputs": [],
   "source": [
    "scores = cross_val_score(estimator=grbt, X = X, y = y, cv = 5) "
   ]
  },
  {
   "cell_type": "code",
   "execution_count": 184,
   "metadata": {},
   "outputs": [
    {
     "data": {
      "text/plain": [
       "array([ 0.93043478,  0.93043478,  0.98230088,  0.95575221,  0.94690265])"
      ]
     },
     "execution_count": 184,
     "metadata": {},
     "output_type": "execute_result"
    }
   ],
   "source": [
    "scores # cv = 5인경우 (80%를 훈련데이터로 쓸 수 있기 때문에 성능이 좋아진다 cv=3보다)"
   ]
  },
  {
   "cell_type": "code",
   "execution_count": 185,
   "metadata": {},
   "outputs": [
    {
     "data": {
      "text/plain": [
       "0.9491650634859562"
      ]
     },
     "execution_count": 185,
     "metadata": {},
     "output_type": "execute_result"
    }
   ],
   "source": [
    "np.mean(scores)  # cv = 5인경우"
   ]
  },
  {
   "cell_type": "markdown",
   "metadata": {},
   "source": [
    "### 그리드 서치와 교차검증을 결합한다"
   ]
  },
  {
   "cell_type": "code",
   "execution_count": 186,
   "metadata": {
    "collapsed": true
   },
   "outputs": [],
   "source": [
    "grid_search = GridSearchCV(estimator=grbt, param_grid= set_range, cv = 10)"
   ]
  },
  {
   "cell_type": "code",
   "execution_count": 187,
   "metadata": {},
   "outputs": [
    {
     "data": {
      "text/plain": [
       "GridSearchCV(cv=10, error_score='raise',\n",
       "       estimator=GradientBoostingClassifier(criterion='friedman_mse', init=None,\n",
       "              learning_rate=0.5, loss='deviance', max_depth=1,\n",
       "              max_features=None, max_leaf_nodes=None,\n",
       "              min_impurity_decrease=0.0, min_impurity_split=None,\n",
       "              min_samples_leaf=1, min_samples_split=2,\n",
       "              min_weight_fraction_leaf=0.0, n_estimators=10,\n",
       "              presort='auto', random_state=None, subsample=1.0, verbose=0,\n",
       "              warm_start=False),\n",
       "       fit_params=None, iid=True, n_jobs=1,\n",
       "       param_grid={'n_estimators': [50, 100, 150, 200, 250, 300, 350, 400, 450, 500], 'max_depth': [1, 2, 3, 4], 'learning_rate': [0.001, 0.01, 0.1, 1.0, 10.0]},\n",
       "       pre_dispatch='2*n_jobs', refit=True, return_train_score='warn',\n",
       "       scoring=None, verbose=0)"
      ]
     },
     "execution_count": 187,
     "metadata": {},
     "output_type": "execute_result"
    }
   ],
   "source": [
    "grid_search.fit(X_train, y_train)"
   ]
  },
  {
   "cell_type": "code",
   "execution_count": 188,
   "metadata": {},
   "outputs": [
    {
     "data": {
      "text/plain": [
       "0.971830985915493"
      ]
     },
     "execution_count": 188,
     "metadata": {},
     "output_type": "execute_result"
    }
   ],
   "source": [
    "# CV를 적용한 결과를 확인하는 법\n",
    "grid_search.best_score_"
   ]
  },
  {
   "cell_type": "code",
   "execution_count": 189,
   "metadata": {},
   "outputs": [
    {
     "data": {
      "text/plain": [
       "{'learning_rate': 0.1, 'max_depth': 1, 'n_estimators': 200}"
      ]
     },
     "execution_count": 189,
     "metadata": {},
     "output_type": "execute_result"
    }
   ],
   "source": [
    "grid_search.best_params_"
   ]
  },
  {
   "cell_type": "code",
   "execution_count": 190,
   "metadata": {
    "collapsed": true
   },
   "outputs": [],
   "source": [
    "best_model = grid_search.best_estimator_"
   ]
  },
  {
   "cell_type": "code",
   "execution_count": 191,
   "metadata": {},
   "outputs": [
    {
     "data": {
      "text/plain": [
       "(0.99530516431924887, 0.97202797202797198)"
      ]
     },
     "execution_count": 191,
     "metadata": {},
     "output_type": "execute_result"
    }
   ],
   "source": [
    "best_model.score(X_train, y_train), best_model.score(X_test, y_test)"
   ]
  },
  {
   "cell_type": "markdown",
   "metadata": {},
   "source": [
    "### (p356) 평가 지표와 측정"
   ]
  },
  {
   "cell_type": "markdown",
   "metadata": {},
   "source": [
    "### (p134) Support Vector Machine"
   ]
  },
  {
   "cell_type": "code",
   "execution_count": 192,
   "metadata": {
    "collapsed": true
   },
   "outputs": [],
   "source": [
    "from sklearn.svm import SVC, SVR # SVC 분류기, SVR 회귀"
   ]
  },
  {
   "cell_type": "code",
   "execution_count": 194,
   "metadata": {
    "collapsed": true
   },
   "outputs": [],
   "source": [
    "SVC?"
   ]
  },
  {
   "cell_type": "code",
   "execution_count": 193,
   "metadata": {
    "collapsed": true
   },
   "outputs": [],
   "source": [
    "svc = SVC(kernel ='rbf', C = 1.0, gamma = 'auto') \n",
    "  # kernel : 거리측정방식, rbf = 가우시안 커널\n",
    "  # C : 로지스틱 회의에서 사용한 것과 같음\n",
    "  # gamma가 커지면 거리의 효과가 작아진다"
   ]
  },
  {
   "cell_type": "code",
   "execution_count": 195,
   "metadata": {},
   "outputs": [
    {
     "data": {
      "text/plain": [
       "SVC(C=1.0, cache_size=200, class_weight=None, coef0=0.0,\n",
       "  decision_function_shape='ovr', degree=3, gamma='auto', kernel='rbf',\n",
       "  max_iter=-1, probability=False, random_state=None, shrinking=True,\n",
       "  tol=0.001, verbose=False)"
      ]
     },
     "execution_count": 195,
     "metadata": {},
     "output_type": "execute_result"
    }
   ],
   "source": [
    "svc.fit(X_train, y_train)"
   ]
  },
  {
   "cell_type": "code",
   "execution_count": 196,
   "metadata": {},
   "outputs": [
    {
     "data": {
      "text/plain": [
       "(1.0, 0.60839160839160844)"
      ]
     },
     "execution_count": 196,
     "metadata": {},
     "output_type": "execute_result"
    }
   ],
   "source": [
    "svc.score(X_train, y_train), svc.score(X_test, y_test)"
   ]
  },
  {
   "cell_type": "markdown",
   "metadata": {},
   "source": [
    "(1.0, 0.60839160839160844) test 점수가 좋지 않다\n",
    "\n",
    "왜 ? --> 설정이 까다로운 모델 이면서 데이터에 영향을 많이 받는 모델이다"
   ]
  },
  {
   "cell_type": "markdown",
   "metadata": {},
   "source": [
    "#### SVM은 거리를 기반으로 새 차원을 만들기 때문에 단위에 민감하다"
   ]
  },
  {
   "cell_type": "code",
   "execution_count": 198,
   "metadata": {},
   "outputs": [
    {
     "data": {
      "text/html": [
       "<div>\n",
       "<style>\n",
       "    .dataframe thead tr:only-child th {\n",
       "        text-align: right;\n",
       "    }\n",
       "\n",
       "    .dataframe thead th {\n",
       "        text-align: left;\n",
       "    }\n",
       "\n",
       "    .dataframe tbody tr th {\n",
       "        vertical-align: top;\n",
       "    }\n",
       "</style>\n",
       "<table border=\"1\" class=\"dataframe\">\n",
       "  <thead>\n",
       "    <tr style=\"text-align: right;\">\n",
       "      <th></th>\n",
       "      <th>type</th>\n",
       "      <th>mean radius</th>\n",
       "      <th>mean texture</th>\n",
       "      <th>mean perimeter</th>\n",
       "      <th>mean area</th>\n",
       "      <th>mean smoothness</th>\n",
       "      <th>mean compactness</th>\n",
       "      <th>mean concavity</th>\n",
       "      <th>mean concave points</th>\n",
       "      <th>mean symmetry</th>\n",
       "      <th>...</th>\n",
       "      <th>worst radius</th>\n",
       "      <th>worst texture</th>\n",
       "      <th>worst perimeter</th>\n",
       "      <th>worst area</th>\n",
       "      <th>worst smoothness</th>\n",
       "      <th>worst compactness</th>\n",
       "      <th>worst concavity</th>\n",
       "      <th>worst concave points</th>\n",
       "      <th>worst symmetry</th>\n",
       "      <th>worst fractal dimension</th>\n",
       "    </tr>\n",
       "  </thead>\n",
       "  <tbody>\n",
       "    <tr>\n",
       "      <th>0</th>\n",
       "      <td>malignant</td>\n",
       "      <td>17.99</td>\n",
       "      <td>10.38</td>\n",
       "      <td>122.80</td>\n",
       "      <td>1001.0</td>\n",
       "      <td>0.11840</td>\n",
       "      <td>0.27760</td>\n",
       "      <td>0.3001</td>\n",
       "      <td>0.14710</td>\n",
       "      <td>0.2419</td>\n",
       "      <td>...</td>\n",
       "      <td>25.38</td>\n",
       "      <td>17.33</td>\n",
       "      <td>184.60</td>\n",
       "      <td>2019.0</td>\n",
       "      <td>0.1622</td>\n",
       "      <td>0.6656</td>\n",
       "      <td>0.7119</td>\n",
       "      <td>0.2654</td>\n",
       "      <td>0.4601</td>\n",
       "      <td>0.11890</td>\n",
       "    </tr>\n",
       "    <tr>\n",
       "      <th>1</th>\n",
       "      <td>malignant</td>\n",
       "      <td>20.57</td>\n",
       "      <td>17.77</td>\n",
       "      <td>132.90</td>\n",
       "      <td>1326.0</td>\n",
       "      <td>0.08474</td>\n",
       "      <td>0.07864</td>\n",
       "      <td>0.0869</td>\n",
       "      <td>0.07017</td>\n",
       "      <td>0.1812</td>\n",
       "      <td>...</td>\n",
       "      <td>24.99</td>\n",
       "      <td>23.41</td>\n",
       "      <td>158.80</td>\n",
       "      <td>1956.0</td>\n",
       "      <td>0.1238</td>\n",
       "      <td>0.1866</td>\n",
       "      <td>0.2416</td>\n",
       "      <td>0.1860</td>\n",
       "      <td>0.2750</td>\n",
       "      <td>0.08902</td>\n",
       "    </tr>\n",
       "    <tr>\n",
       "      <th>2</th>\n",
       "      <td>malignant</td>\n",
       "      <td>19.69</td>\n",
       "      <td>21.25</td>\n",
       "      <td>130.00</td>\n",
       "      <td>1203.0</td>\n",
       "      <td>0.10960</td>\n",
       "      <td>0.15990</td>\n",
       "      <td>0.1974</td>\n",
       "      <td>0.12790</td>\n",
       "      <td>0.2069</td>\n",
       "      <td>...</td>\n",
       "      <td>23.57</td>\n",
       "      <td>25.53</td>\n",
       "      <td>152.50</td>\n",
       "      <td>1709.0</td>\n",
       "      <td>0.1444</td>\n",
       "      <td>0.4245</td>\n",
       "      <td>0.4504</td>\n",
       "      <td>0.2430</td>\n",
       "      <td>0.3613</td>\n",
       "      <td>0.08758</td>\n",
       "    </tr>\n",
       "    <tr>\n",
       "      <th>3</th>\n",
       "      <td>malignant</td>\n",
       "      <td>11.42</td>\n",
       "      <td>20.38</td>\n",
       "      <td>77.58</td>\n",
       "      <td>386.1</td>\n",
       "      <td>0.14250</td>\n",
       "      <td>0.28390</td>\n",
       "      <td>0.2414</td>\n",
       "      <td>0.10520</td>\n",
       "      <td>0.2597</td>\n",
       "      <td>...</td>\n",
       "      <td>14.91</td>\n",
       "      <td>26.50</td>\n",
       "      <td>98.87</td>\n",
       "      <td>567.7</td>\n",
       "      <td>0.2098</td>\n",
       "      <td>0.8663</td>\n",
       "      <td>0.6869</td>\n",
       "      <td>0.2575</td>\n",
       "      <td>0.6638</td>\n",
       "      <td>0.17300</td>\n",
       "    </tr>\n",
       "    <tr>\n",
       "      <th>4</th>\n",
       "      <td>malignant</td>\n",
       "      <td>20.29</td>\n",
       "      <td>14.34</td>\n",
       "      <td>135.10</td>\n",
       "      <td>1297.0</td>\n",
       "      <td>0.10030</td>\n",
       "      <td>0.13280</td>\n",
       "      <td>0.1980</td>\n",
       "      <td>0.10430</td>\n",
       "      <td>0.1809</td>\n",
       "      <td>...</td>\n",
       "      <td>22.54</td>\n",
       "      <td>16.67</td>\n",
       "      <td>152.20</td>\n",
       "      <td>1575.0</td>\n",
       "      <td>0.1374</td>\n",
       "      <td>0.2050</td>\n",
       "      <td>0.4000</td>\n",
       "      <td>0.1625</td>\n",
       "      <td>0.2364</td>\n",
       "      <td>0.07678</td>\n",
       "    </tr>\n",
       "  </tbody>\n",
       "</table>\n",
       "<p>5 rows × 31 columns</p>\n",
       "</div>"
      ],
      "text/plain": [
       "        type  mean radius  mean texture  mean perimeter  mean area  \\\n",
       "0  malignant        17.99         10.38          122.80     1001.0   \n",
       "1  malignant        20.57         17.77          132.90     1326.0   \n",
       "2  malignant        19.69         21.25          130.00     1203.0   \n",
       "3  malignant        11.42         20.38           77.58      386.1   \n",
       "4  malignant        20.29         14.34          135.10     1297.0   \n",
       "\n",
       "   mean smoothness  mean compactness  mean concavity  mean concave points  \\\n",
       "0          0.11840           0.27760          0.3001              0.14710   \n",
       "1          0.08474           0.07864          0.0869              0.07017   \n",
       "2          0.10960           0.15990          0.1974              0.12790   \n",
       "3          0.14250           0.28390          0.2414              0.10520   \n",
       "4          0.10030           0.13280          0.1980              0.10430   \n",
       "\n",
       "   mean symmetry           ...             worst radius  worst texture  \\\n",
       "0         0.2419           ...                    25.38          17.33   \n",
       "1         0.1812           ...                    24.99          23.41   \n",
       "2         0.2069           ...                    23.57          25.53   \n",
       "3         0.2597           ...                    14.91          26.50   \n",
       "4         0.1809           ...                    22.54          16.67   \n",
       "\n",
       "   worst perimeter  worst area  worst smoothness  worst compactness  \\\n",
       "0           184.60      2019.0            0.1622             0.6656   \n",
       "1           158.80      1956.0            0.1238             0.1866   \n",
       "2           152.50      1709.0            0.1444             0.4245   \n",
       "3            98.87       567.7            0.2098             0.8663   \n",
       "4           152.20      1575.0            0.1374             0.2050   \n",
       "\n",
       "   worst concavity  worst concave points  worst symmetry  \\\n",
       "0           0.7119                0.2654          0.4601   \n",
       "1           0.2416                0.1860          0.2750   \n",
       "2           0.4504                0.2430          0.3613   \n",
       "3           0.6869                0.2575          0.6638   \n",
       "4           0.4000                0.1625          0.2364   \n",
       "\n",
       "   worst fractal dimension  \n",
       "0                  0.11890  \n",
       "1                  0.08902  \n",
       "2                  0.08758  \n",
       "3                  0.17300  \n",
       "4                  0.07678  \n",
       "\n",
       "[5 rows x 31 columns]"
      ]
     },
     "execution_count": 198,
     "metadata": {},
     "output_type": "execute_result"
    }
   ],
   "source": [
    "cancer[:5]"
   ]
  },
  {
   "cell_type": "markdown",
   "metadata": {},
   "source": [
    "데이터의 각 단위들이 다르다 (스케일이 다르다...)"
   ]
  },
  {
   "cell_type": "markdown",
   "metadata": {},
   "source": [
    "#### (p177) 데이터전처리와 스케일 조정\n",
    "\n",
    "랜덤포리스트는 (결정트리)는 이런 조정이 필요없다\n",
    "\n",
    "but SVM은 까다로워서 잘 맞춰줘야한다"
   ]
  },
  {
   "cell_type": "markdown",
   "metadata": {},
   "source": [
    "(p179) MinMax Scaling"
   ]
  },
  {
   "cell_type": "code",
   "execution_count": 199,
   "metadata": {
    "collapsed": true
   },
   "outputs": [],
   "source": [
    "from sklearn.preprocessing import MinMaxScaler  # 0과 1사이에 값이 분포한다"
   ]
  },
  {
   "cell_type": "code",
   "execution_count": 201,
   "metadata": {
    "collapsed": true
   },
   "outputs": [],
   "source": [
    "change_scale = MinMaxScaler().fit(X_train) # 단위변환기 -> 각 열별 최대, 최소를 구해서 저장하는 함수"
   ]
  },
  {
   "cell_type": "code",
   "execution_count": 202,
   "metadata": {
    "collapsed": true
   },
   "outputs": [],
   "source": [
    "X_train_scaled = change_scale.transform(X_train) # 각 샘플에 스케일을 적용하는 것\n",
    "X_test_scaled = change_scale.transform(X_test)"
   ]
  },
  {
   "cell_type": "code",
   "execution_count": 203,
   "metadata": {},
   "outputs": [
    {
     "data": {
      "text/html": [
       "<div>\n",
       "<style>\n",
       "    .dataframe thead tr:only-child th {\n",
       "        text-align: right;\n",
       "    }\n",
       "\n",
       "    .dataframe thead th {\n",
       "        text-align: left;\n",
       "    }\n",
       "\n",
       "    .dataframe tbody tr th {\n",
       "        vertical-align: top;\n",
       "    }\n",
       "</style>\n",
       "<table border=\"1\" class=\"dataframe\">\n",
       "  <thead>\n",
       "    <tr style=\"text-align: right;\">\n",
       "      <th></th>\n",
       "      <th>mean radius</th>\n",
       "      <th>mean texture</th>\n",
       "      <th>mean perimeter</th>\n",
       "      <th>mean area</th>\n",
       "      <th>mean smoothness</th>\n",
       "      <th>mean compactness</th>\n",
       "      <th>mean concavity</th>\n",
       "      <th>mean concave points</th>\n",
       "      <th>mean symmetry</th>\n",
       "      <th>mean fractal dimension</th>\n",
       "      <th>...</th>\n",
       "      <th>worst radius</th>\n",
       "      <th>worst texture</th>\n",
       "      <th>worst perimeter</th>\n",
       "      <th>worst area</th>\n",
       "      <th>worst smoothness</th>\n",
       "      <th>worst compactness</th>\n",
       "      <th>worst concavity</th>\n",
       "      <th>worst concave points</th>\n",
       "      <th>worst symmetry</th>\n",
       "      <th>worst fractal dimension</th>\n",
       "    </tr>\n",
       "  </thead>\n",
       "  <tbody>\n",
       "    <tr>\n",
       "      <th>0</th>\n",
       "      <td>0.653809</td>\n",
       "      <td>0.389922</td>\n",
       "      <td>0.645641</td>\n",
       "      <td>0.493264</td>\n",
       "      <td>0.574947</td>\n",
       "      <td>0.444819</td>\n",
       "      <td>0.513133</td>\n",
       "      <td>0.585991</td>\n",
       "      <td>0.378743</td>\n",
       "      <td>0.249041</td>\n",
       "      <td>...</td>\n",
       "      <td>0.554857</td>\n",
       "      <td>0.561246</td>\n",
       "      <td>0.552641</td>\n",
       "      <td>0.381203</td>\n",
       "      <td>0.496797</td>\n",
       "      <td>0.365041</td>\n",
       "      <td>0.413658</td>\n",
       "      <td>0.726117</td>\n",
       "      <td>0.180367</td>\n",
       "      <td>0.296287</td>\n",
       "    </tr>\n",
       "    <tr>\n",
       "      <th>1</th>\n",
       "      <td>0.203710</td>\n",
       "      <td>0.235374</td>\n",
       "      <td>0.190387</td>\n",
       "      <td>0.108642</td>\n",
       "      <td>0.532442</td>\n",
       "      <td>0.127508</td>\n",
       "      <td>0.084240</td>\n",
       "      <td>0.135912</td>\n",
       "      <td>0.079859</td>\n",
       "      <td>0.189979</td>\n",
       "      <td>...</td>\n",
       "      <td>0.170017</td>\n",
       "      <td>0.403115</td>\n",
       "      <td>0.160998</td>\n",
       "      <td>0.080166</td>\n",
       "      <td>0.369346</td>\n",
       "      <td>0.082922</td>\n",
       "      <td>0.083546</td>\n",
       "      <td>0.239450</td>\n",
       "      <td>0.028977</td>\n",
       "      <td>0.155900</td>\n",
       "    </tr>\n",
       "    <tr>\n",
       "      <th>2</th>\n",
       "      <td>0.105733</td>\n",
       "      <td>0.246195</td>\n",
       "      <td>0.102194</td>\n",
       "      <td>0.051403</td>\n",
       "      <td>0.514939</td>\n",
       "      <td>0.198331</td>\n",
       "      <td>0.101642</td>\n",
       "      <td>0.092943</td>\n",
       "      <td>0.223723</td>\n",
       "      <td>0.428785</td>\n",
       "      <td>...</td>\n",
       "      <td>0.086690</td>\n",
       "      <td>0.283019</td>\n",
       "      <td>0.087388</td>\n",
       "      <td>0.035580</td>\n",
       "      <td>0.498778</td>\n",
       "      <td>0.163857</td>\n",
       "      <td>0.103834</td>\n",
       "      <td>0.183299</td>\n",
       "      <td>0.190814</td>\n",
       "      <td>0.251272</td>\n",
       "    </tr>\n",
       "    <tr>\n",
       "      <th>3</th>\n",
       "      <td>0.242232</td>\n",
       "      <td>0.300643</td>\n",
       "      <td>0.236360</td>\n",
       "      <td>0.133657</td>\n",
       "      <td>0.464308</td>\n",
       "      <td>0.265076</td>\n",
       "      <td>0.187735</td>\n",
       "      <td>0.199739</td>\n",
       "      <td>0.423958</td>\n",
       "      <td>0.281237</td>\n",
       "      <td>...</td>\n",
       "      <td>0.229954</td>\n",
       "      <td>0.377957</td>\n",
       "      <td>0.211275</td>\n",
       "      <td>0.112718</td>\n",
       "      <td>0.471703</td>\n",
       "      <td>0.231175</td>\n",
       "      <td>0.213339</td>\n",
       "      <td>0.348797</td>\n",
       "      <td>0.285630</td>\n",
       "      <td>0.275178</td>\n",
       "    </tr>\n",
       "    <tr>\n",
       "      <th>4</th>\n",
       "      <td>0.192559</td>\n",
       "      <td>0.165032</td>\n",
       "      <td>0.185118</td>\n",
       "      <td>0.100618</td>\n",
       "      <td>0.526191</td>\n",
       "      <td>0.192933</td>\n",
       "      <td>0.124484</td>\n",
       "      <td>0.102927</td>\n",
       "      <td>0.338227</td>\n",
       "      <td>0.324094</td>\n",
       "      <td>...</td>\n",
       "      <td>0.136028</td>\n",
       "      <td>0.295897</td>\n",
       "      <td>0.140054</td>\n",
       "      <td>0.060540</td>\n",
       "      <td>0.422836</td>\n",
       "      <td>0.190762</td>\n",
       "      <td>0.207348</td>\n",
       "      <td>0.255361</td>\n",
       "      <td>0.271240</td>\n",
       "      <td>0.311631</td>\n",
       "    </tr>\n",
       "  </tbody>\n",
       "</table>\n",
       "<p>5 rows × 30 columns</p>\n",
       "</div>"
      ],
      "text/plain": [
       "   mean radius  mean texture  mean perimeter  mean area  mean smoothness  \\\n",
       "0     0.653809      0.389922        0.645641   0.493264         0.574947   \n",
       "1     0.203710      0.235374        0.190387   0.108642         0.532442   \n",
       "2     0.105733      0.246195        0.102194   0.051403         0.514939   \n",
       "3     0.242232      0.300643        0.236360   0.133657         0.464308   \n",
       "4     0.192559      0.165032        0.185118   0.100618         0.526191   \n",
       "\n",
       "   mean compactness  mean concavity  mean concave points  mean symmetry  \\\n",
       "0          0.444819        0.513133             0.585991       0.378743   \n",
       "1          0.127508        0.084240             0.135912       0.079859   \n",
       "2          0.198331        0.101642             0.092943       0.223723   \n",
       "3          0.265076        0.187735             0.199739       0.423958   \n",
       "4          0.192933        0.124484             0.102927       0.338227   \n",
       "\n",
       "   mean fractal dimension           ...             worst radius  \\\n",
       "0                0.249041           ...                 0.554857   \n",
       "1                0.189979           ...                 0.170017   \n",
       "2                0.428785           ...                 0.086690   \n",
       "3                0.281237           ...                 0.229954   \n",
       "4                0.324094           ...                 0.136028   \n",
       "\n",
       "   worst texture  worst perimeter  worst area  worst smoothness  \\\n",
       "0       0.561246         0.552641    0.381203          0.496797   \n",
       "1       0.403115         0.160998    0.080166          0.369346   \n",
       "2       0.283019         0.087388    0.035580          0.498778   \n",
       "3       0.377957         0.211275    0.112718          0.471703   \n",
       "4       0.295897         0.140054    0.060540          0.422836   \n",
       "\n",
       "   worst compactness  worst concavity  worst concave points  worst symmetry  \\\n",
       "0           0.365041         0.413658              0.726117        0.180367   \n",
       "1           0.082922         0.083546              0.239450        0.028977   \n",
       "2           0.163857         0.103834              0.183299        0.190814   \n",
       "3           0.231175         0.213339              0.348797        0.285630   \n",
       "4           0.190762         0.207348              0.255361        0.271240   \n",
       "\n",
       "   worst fractal dimension  \n",
       "0                 0.296287  \n",
       "1                 0.155900  \n",
       "2                 0.251272  \n",
       "3                 0.275178  \n",
       "4                 0.311631  \n",
       "\n",
       "[5 rows x 30 columns]"
      ]
     },
     "execution_count": 203,
     "metadata": {},
     "output_type": "execute_result"
    }
   ],
   "source": [
    "pd.DataFrame(X_train_scaled, columns=cancer.columns[1:])[:5]"
   ]
  },
  {
   "cell_type": "code",
   "execution_count": 204,
   "metadata": {},
   "outputs": [
    {
     "data": {
      "text/plain": [
       "SVC(C=1.0, cache_size=200, class_weight=None, coef0=0.0,\n",
       "  decision_function_shape='ovr', degree=3, gamma='auto', kernel='rbf',\n",
       "  max_iter=-1, probability=False, random_state=None, shrinking=True,\n",
       "  tol=0.001, verbose=False)"
      ]
     },
     "execution_count": 204,
     "metadata": {},
     "output_type": "execute_result"
    }
   ],
   "source": [
    "svc.fit(X_train_scaled, y_train)"
   ]
  },
  {
   "cell_type": "code",
   "execution_count": 205,
   "metadata": {},
   "outputs": [
    {
     "data": {
      "text/plain": [
       "(0.95539906103286387, 0.93706293706293708)"
      ]
     },
     "execution_count": 205,
     "metadata": {},
     "output_type": "execute_result"
    }
   ],
   "source": [
    "svc.score(X_train_scaled, y_train), svc.score(X_test_scaled, y_test)"
   ]
  },
  {
   "cell_type": "markdown",
   "metadata": {},
   "source": [
    "(0.95539906103286387, 0.93706293706293708)\n",
    "\n",
    "모델의 정확도가 개선되었다... 즉 SVM에게는 데이터의 전처리가 중요하다..."
   ]
  },
  {
   "cell_type": "markdown",
   "metadata": {},
   "source": [
    "그리고 SVM은 파라미터의 설정도 중요하므로 그리드 서치도 해본다"
   ]
  },
  {
   "cell_type": "markdown",
   "metadata": {},
   "source": [
    "cancer 데이터는 30차원의 선형모델도 좋은 성과가 나왔다 (즉... 선형성이 확인된 데이터다)\n",
    "\n",
    "그러므로 SVM을 하면 선형모델보다 좋지 않을 수 있다.\n",
    "\n",
    "따라서 비선형성이 강한 데이터 (boston과 같은)에서 SVM의 효과를 확인할 수 있을 것이다"
   ]
  },
  {
   "cell_type": "markdown",
   "metadata": {},
   "source": [
    "(강사) 선형성이 강한 데이터셋이라면 그냥 선형모델을 쓰는 것이 낫다\n",
    "\n",
    "비선형적 데이터셋에 대해 적용하는 것이 SVM을 쓸만한 이유가 되는 것 (결정트리 모델군과도 비교할만하다)"
   ]
  },
  {
   "cell_type": "code",
   "execution_count": 207,
   "metadata": {
    "collapsed": true
   },
   "outputs": [],
   "source": [
    "y = boston['Price']\n",
    "X = boston.values[:, 1:].astype('float32')"
   ]
  },
  {
   "cell_type": "code",
   "execution_count": 208,
   "metadata": {
    "collapsed": true
   },
   "outputs": [],
   "source": [
    "X_train, X_test, y_train, y_test = train_test_split(X, y)"
   ]
  },
  {
   "cell_type": "code",
   "execution_count": 209,
   "metadata": {
    "collapsed": true
   },
   "outputs": [],
   "source": [
    "change_scale = MinMaxScaler().fit(X_train)\n",
    "X_train_scaled = change_scale.transform(X_train)\n",
    "X_test_scaled = change_scale.transform(X_test)"
   ]
  },
  {
   "cell_type": "code",
   "execution_count": 210,
   "metadata": {},
   "outputs": [
    {
     "data": {
      "text/plain": [
       "GridSearchCV(cv=5, error_score='raise',\n",
       "       estimator=SVR(C=1.0, cache_size=200, coef0=0.0, degree=3, epsilon=0.1, gamma='auto',\n",
       "  kernel='rbf', max_iter=-1, shrinking=True, tol=0.001, verbose=False),\n",
       "       fit_params=None, iid=True, n_jobs=1,\n",
       "       param_grid={'C': [0.001, 0.01, 0.1, 1.0, 10.0, 100.0, 1000.0], 'gamma': [0.001, 0.01, 0.1, 1.0, 10.0, 100.0, 1000.0]},\n",
       "       pre_dispatch='2*n_jobs', refit=True, return_train_score='warn',\n",
       "       scoring=None, verbose=0)"
      ]
     },
     "execution_count": 210,
     "metadata": {},
     "output_type": "execute_result"
    }
   ],
   "source": [
    "set_range = {  # 설정범위\n",
    "    'C' : [0.001, 0.01, 0.1, 1., 10., 100., 1000.],\n",
    "    'gamma' : [0.001, 0.01, 0.1, 1., 10., 100., 1000.]    \n",
    "} \n",
    "\n",
    "svm_gs = GridSearchCV(estimator=SVR(), param_grid= set_range, cv = 5)\n",
    "svm_gs.fit(X_train_scaled, y_train)"
   ]
  },
  {
   "cell_type": "code",
   "execution_count": 212,
   "metadata": {},
   "outputs": [
    {
     "data": {
      "text/plain": [
       "(0.83717996542259066, {'C': 1000.0, 'gamma': 0.1})"
      ]
     },
     "execution_count": 212,
     "metadata": {},
     "output_type": "execute_result"
    }
   ],
   "source": [
    "svm_gs.best_score_, svm_gs.best_params_"
   ]
  },
  {
   "cell_type": "code",
   "execution_count": 213,
   "metadata": {},
   "outputs": [
    {
     "data": {
      "text/plain": [
       "(0.89480571127930086, 0.77927993362036263)"
      ]
     },
     "execution_count": 213,
     "metadata": {},
     "output_type": "execute_result"
    }
   ],
   "source": [
    "best_svr = svm_gs.best_estimator_\n",
    "best_svr.score(X_train_scaled, y_train), best_svr.score(X_test_scaled, y_test)"
   ]
  },
  {
   "cell_type": "markdown",
   "metadata": {},
   "source": [
    "(0.89480571127930086, 0.77927993362036263) 이 점수 중 오른쪽은 결정트리가 못 넘었던 점수이다 (강사 기준, 0.88 이었음)\n",
    "\n",
    "SVM은 까다롭지만, 좋은 결과를 내 줄 수 있는 모델이다"
   ]
  },
  {
   "cell_type": "code",
   "execution_count": 214,
   "metadata": {
    "collapsed": true
   },
   "outputs": [],
   "source": [
    "GridSearchCV?"
   ]
  },
  {
   "cell_type": "markdown",
   "metadata": {},
   "source": [
    "(p177) 스케일링 (정규분포)"
   ]
  },
  {
   "cell_type": "code",
   "execution_count": 215,
   "metadata": {
    "collapsed": true
   },
   "outputs": [],
   "source": [
    "from sklearn.preprocessing import StandardScaler"
   ]
  },
  {
   "cell_type": "code",
   "execution_count": 216,
   "metadata": {
    "collapsed": true
   },
   "outputs": [],
   "source": [
    "change_scale_normal = StandardScaler().fit(X_train, y_train)\n",
    "X_train_normal = change_scale_normal.transform(X_train)"
   ]
  },
  {
   "cell_type": "code",
   "execution_count": 217,
   "metadata": {},
   "outputs": [
    {
     "data": {
      "text/html": [
       "<div>\n",
       "<style>\n",
       "    .dataframe thead tr:only-child th {\n",
       "        text-align: right;\n",
       "    }\n",
       "\n",
       "    .dataframe thead th {\n",
       "        text-align: left;\n",
       "    }\n",
       "\n",
       "    .dataframe tbody tr th {\n",
       "        vertical-align: top;\n",
       "    }\n",
       "</style>\n",
       "<table border=\"1\" class=\"dataframe\">\n",
       "  <thead>\n",
       "    <tr style=\"text-align: right;\">\n",
       "      <th></th>\n",
       "      <th>0</th>\n",
       "      <th>1</th>\n",
       "      <th>2</th>\n",
       "      <th>3</th>\n",
       "      <th>4</th>\n",
       "      <th>5</th>\n",
       "      <th>6</th>\n",
       "      <th>7</th>\n",
       "      <th>8</th>\n",
       "      <th>9</th>\n",
       "      <th>10</th>\n",
       "      <th>11</th>\n",
       "      <th>12</th>\n",
       "    </tr>\n",
       "  </thead>\n",
       "  <tbody>\n",
       "    <tr>\n",
       "      <th>0</th>\n",
       "      <td>0.511717</td>\n",
       "      <td>-0.452543</td>\n",
       "      <td>1.019416</td>\n",
       "      <td>-0.282439</td>\n",
       "      <td>1.283893</td>\n",
       "      <td>-1.044746</td>\n",
       "      <td>1.128140</td>\n",
       "      <td>-1.072938</td>\n",
       "      <td>1.605129</td>\n",
       "      <td>1.483383</td>\n",
       "      <td>0.757382</td>\n",
       "      <td>0.441201</td>\n",
       "      <td>1.642884</td>\n",
       "    </tr>\n",
       "    <tr>\n",
       "      <th>1</th>\n",
       "      <td>0.331217</td>\n",
       "      <td>-0.452543</td>\n",
       "      <td>1.019416</td>\n",
       "      <td>-0.282439</td>\n",
       "      <td>0.254875</td>\n",
       "      <td>0.244156</td>\n",
       "      <td>0.215081</td>\n",
       "      <td>-0.754715</td>\n",
       "      <td>1.605129</td>\n",
       "      <td>1.483383</td>\n",
       "      <td>0.757382</td>\n",
       "      <td>-2.941111</td>\n",
       "      <td>-0.123178</td>\n",
       "    </tr>\n",
       "    <tr>\n",
       "      <th>2</th>\n",
       "      <td>-0.418351</td>\n",
       "      <td>3.215710</td>\n",
       "      <td>-1.590286</td>\n",
       "      <td>-0.282439</td>\n",
       "      <td>-1.182201</td>\n",
       "      <td>2.309248</td>\n",
       "      <td>-1.335669</td>\n",
       "      <td>0.889575</td>\n",
       "      <td>-0.645080</td>\n",
       "      <td>-0.909164</td>\n",
       "      <td>-2.076960</td>\n",
       "      <td>0.410993</td>\n",
       "      <td>-1.400155</td>\n",
       "    </tr>\n",
       "    <tr>\n",
       "      <th>3</th>\n",
       "      <td>-0.258164</td>\n",
       "      <td>-0.452543</td>\n",
       "      <td>-0.454089</td>\n",
       "      <td>-0.282439</td>\n",
       "      <td>-0.153183</td>\n",
       "      <td>-0.432340</td>\n",
       "      <td>0.475955</td>\n",
       "      <td>0.098714</td>\n",
       "      <td>-0.645080</td>\n",
       "      <td>-0.606458</td>\n",
       "      <td>1.148325</td>\n",
       "      <td>-1.417685</td>\n",
       "      <td>2.086866</td>\n",
       "    </tr>\n",
       "    <tr>\n",
       "      <th>4</th>\n",
       "      <td>1.688148</td>\n",
       "      <td>-0.452543</td>\n",
       "      <td>1.019416</td>\n",
       "      <td>-0.282439</td>\n",
       "      <td>1.097605</td>\n",
       "      <td>0.256974</td>\n",
       "      <td>1.128140</td>\n",
       "      <td>-0.929111</td>\n",
       "      <td>1.605129</td>\n",
       "      <td>1.483383</td>\n",
       "      <td>0.757382</td>\n",
       "      <td>-3.741009</td>\n",
       "      <td>2.275735</td>\n",
       "    </tr>\n",
       "  </tbody>\n",
       "</table>\n",
       "</div>"
      ],
      "text/plain": [
       "         0         1         2         3         4         5         6   \\\n",
       "0  0.511717 -0.452543  1.019416 -0.282439  1.283893 -1.044746  1.128140   \n",
       "1  0.331217 -0.452543  1.019416 -0.282439  0.254875  0.244156  0.215081   \n",
       "2 -0.418351  3.215710 -1.590286 -0.282439 -1.182201  2.309248 -1.335669   \n",
       "3 -0.258164 -0.452543 -0.454089 -0.282439 -0.153183 -0.432340  0.475955   \n",
       "4  1.688148 -0.452543  1.019416 -0.282439  1.097605  0.256974  1.128140   \n",
       "\n",
       "         7         8         9         10        11        12  \n",
       "0 -1.072938  1.605129  1.483383  0.757382  0.441201  1.642884  \n",
       "1 -0.754715  1.605129  1.483383  0.757382 -2.941111 -0.123178  \n",
       "2  0.889575 -0.645080 -0.909164 -2.076960  0.410993 -1.400155  \n",
       "3  0.098714 -0.645080 -0.606458  1.148325 -1.417685  2.086866  \n",
       "4 -0.929111  1.605129  1.483383  0.757382 -3.741009  2.275735  "
      ]
     },
     "execution_count": 217,
     "metadata": {},
     "output_type": "execute_result"
    }
   ],
   "source": [
    "pd.DataFrame(X_train_normal)[:5]"
   ]
  },
  {
   "cell_type": "markdown",
   "metadata": {},
   "source": [
    "## 좀 더 실제와 같은 데이터"
   ]
  },
  {
   "cell_type": "code",
   "execution_count": 218,
   "metadata": {},
   "outputs": [
    {
     "data": {
      "text/html": [
       "<div>\n",
       "<style>\n",
       "    .dataframe thead tr:only-child th {\n",
       "        text-align: right;\n",
       "    }\n",
       "\n",
       "    .dataframe thead th {\n",
       "        text-align: left;\n",
       "    }\n",
       "\n",
       "    .dataframe tbody tr th {\n",
       "        vertical-align: top;\n",
       "    }\n",
       "</style>\n",
       "<table border=\"1\" class=\"dataframe\">\n",
       "  <thead>\n",
       "    <tr style=\"text-align: right;\">\n",
       "      <th></th>\n",
       "      <th>location</th>\n",
       "      <th>date</th>\n",
       "      <th>weekDay</th>\n",
       "      <th>avgTemp</th>\n",
       "      <th>highestTemp</th>\n",
       "      <th>lowestTemp</th>\n",
       "      <th>precipitation</th>\n",
       "      <th>snow</th>\n",
       "      <th>windSpeed</th>\n",
       "      <th>humidity</th>\n",
       "      <th>cloud</th>\n",
       "      <th>dayTime</th>\n",
       "      <th>weather</th>\n",
       "    </tr>\n",
       "  </thead>\n",
       "  <tbody>\n",
       "    <tr>\n",
       "      <th>0</th>\n",
       "      <td>seoul</td>\n",
       "      <td>2013-08-01</td>\n",
       "      <td>thur</td>\n",
       "      <td>28.0</td>\n",
       "      <td>32.1</td>\n",
       "      <td>24.5</td>\n",
       "      <td>-</td>\n",
       "      <td>-</td>\n",
       "      <td>1.8</td>\n",
       "      <td>66</td>\n",
       "      <td>7.1</td>\n",
       "      <td>6.0</td>\n",
       "      <td>구름많음</td>\n",
       "    </tr>\n",
       "    <tr>\n",
       "      <th>1</th>\n",
       "      <td>seoul</td>\n",
       "      <td>2013-08-02</td>\n",
       "      <td>fri</td>\n",
       "      <td>27.4</td>\n",
       "      <td>29.3</td>\n",
       "      <td>25.2</td>\n",
       "      <td>7.5</td>\n",
       "      <td>-</td>\n",
       "      <td>2.1</td>\n",
       "      <td>79</td>\n",
       "      <td>9.1</td>\n",
       "      <td>0.9</td>\n",
       "      <td>흐림/안개/비</td>\n",
       "    </tr>\n",
       "    <tr>\n",
       "      <th>2</th>\n",
       "      <td>seoul</td>\n",
       "      <td>2013-08-03</td>\n",
       "      <td>sat</td>\n",
       "      <td>28.9</td>\n",
       "      <td>32.6</td>\n",
       "      <td>26.7</td>\n",
       "      <td>0.1</td>\n",
       "      <td>-</td>\n",
       "      <td>3.6</td>\n",
       "      <td>72</td>\n",
       "      <td>8.1</td>\n",
       "      <td>8.9</td>\n",
       "      <td>흐림/소나기</td>\n",
       "    </tr>\n",
       "    <tr>\n",
       "      <th>3</th>\n",
       "      <td>seoul</td>\n",
       "      <td>2013-08-04</td>\n",
       "      <td>sun</td>\n",
       "      <td>28.3</td>\n",
       "      <td>31.3</td>\n",
       "      <td>26.4</td>\n",
       "      <td>4.5</td>\n",
       "      <td>-</td>\n",
       "      <td>2.5</td>\n",
       "      <td>76</td>\n",
       "      <td>8.0</td>\n",
       "      <td>4.7</td>\n",
       "      <td>흐림/소나기/안개</td>\n",
       "    </tr>\n",
       "    <tr>\n",
       "      <th>4</th>\n",
       "      <td>seoul</td>\n",
       "      <td>2013-08-05</td>\n",
       "      <td>mon</td>\n",
       "      <td>27.7</td>\n",
       "      <td>30.1</td>\n",
       "      <td>26.4</td>\n",
       "      <td>7</td>\n",
       "      <td>-</td>\n",
       "      <td>3.3</td>\n",
       "      <td>78</td>\n",
       "      <td>7.0</td>\n",
       "      <td>4.5</td>\n",
       "      <td>구름많음/안개/천둥번개/비</td>\n",
       "    </tr>\n",
       "    <tr>\n",
       "      <th>5</th>\n",
       "      <td>seoul</td>\n",
       "      <td>2013-08-06</td>\n",
       "      <td>tue</td>\n",
       "      <td>26.4</td>\n",
       "      <td>27.6</td>\n",
       "      <td>23.0</td>\n",
       "      <td>45</td>\n",
       "      <td>-</td>\n",
       "      <td>2.3</td>\n",
       "      <td>81</td>\n",
       "      <td>6.6</td>\n",
       "      <td>2.8</td>\n",
       "      <td>구름많음/안개/천둥번개/비</td>\n",
       "    </tr>\n",
       "    <tr>\n",
       "      <th>6</th>\n",
       "      <td>seoul</td>\n",
       "      <td>2013-08-07</td>\n",
       "      <td>wed</td>\n",
       "      <td>28.7</td>\n",
       "      <td>32.1</td>\n",
       "      <td>25.0</td>\n",
       "      <td>-</td>\n",
       "      <td>-</td>\n",
       "      <td>2.2</td>\n",
       "      <td>73</td>\n",
       "      <td>7.5</td>\n",
       "      <td>1.3</td>\n",
       "      <td>구름많음</td>\n",
       "    </tr>\n",
       "    <tr>\n",
       "      <th>7</th>\n",
       "      <td>seoul</td>\n",
       "      <td>2013-08-08</td>\n",
       "      <td>thur</td>\n",
       "      <td>29.3</td>\n",
       "      <td>32.8</td>\n",
       "      <td>27.3</td>\n",
       "      <td>-</td>\n",
       "      <td>-</td>\n",
       "      <td>3.9</td>\n",
       "      <td>73</td>\n",
       "      <td>7.4</td>\n",
       "      <td>5.0</td>\n",
       "      <td>구름많음/안개</td>\n",
       "    </tr>\n",
       "    <tr>\n",
       "      <th>8</th>\n",
       "      <td>seoul</td>\n",
       "      <td>2013-08-09</td>\n",
       "      <td>fri</td>\n",
       "      <td>29.2</td>\n",
       "      <td>30.8</td>\n",
       "      <td>27.9</td>\n",
       "      <td>0</td>\n",
       "      <td>-</td>\n",
       "      <td>4.0</td>\n",
       "      <td>79</td>\n",
       "      <td>9.9</td>\n",
       "      <td>0.1</td>\n",
       "      <td>흐림/안개</td>\n",
       "    </tr>\n",
       "    <tr>\n",
       "      <th>9</th>\n",
       "      <td>seoul</td>\n",
       "      <td>2013-08-10</td>\n",
       "      <td>sat</td>\n",
       "      <td>28.0</td>\n",
       "      <td>29.4</td>\n",
       "      <td>25.8</td>\n",
       "      <td>2</td>\n",
       "      <td>-</td>\n",
       "      <td>2.3</td>\n",
       "      <td>81</td>\n",
       "      <td>7.1</td>\n",
       "      <td>2.6</td>\n",
       "      <td>구름많음/안개/천둥번개/비</td>\n",
       "    </tr>\n",
       "    <tr>\n",
       "      <th>10</th>\n",
       "      <td>seoul</td>\n",
       "      <td>2013-08-11</td>\n",
       "      <td>sun</td>\n",
       "      <td>28.7</td>\n",
       "      <td>33.2</td>\n",
       "      <td>24.2</td>\n",
       "      <td>-</td>\n",
       "      <td>-</td>\n",
       "      <td>2.2</td>\n",
       "      <td>72</td>\n",
       "      <td>5.8</td>\n",
       "      <td>9.6</td>\n",
       "      <td>구름많음/안개</td>\n",
       "    </tr>\n",
       "    <tr>\n",
       "      <th>11</th>\n",
       "      <td>seoul</td>\n",
       "      <td>2013-08-12</td>\n",
       "      <td>mon</td>\n",
       "      <td>29.3</td>\n",
       "      <td>32.6</td>\n",
       "      <td>27.1</td>\n",
       "      <td>-</td>\n",
       "      <td>-</td>\n",
       "      <td>2.9</td>\n",
       "      <td>69</td>\n",
       "      <td>5.2</td>\n",
       "      <td>10.7</td>\n",
       "      <td>구름많음</td>\n",
       "    </tr>\n",
       "    <tr>\n",
       "      <th>12</th>\n",
       "      <td>seoul</td>\n",
       "      <td>2013-08-13</td>\n",
       "      <td>tue</td>\n",
       "      <td>29.0</td>\n",
       "      <td>32.9</td>\n",
       "      <td>26.6</td>\n",
       "      <td>-</td>\n",
       "      <td>-</td>\n",
       "      <td>2.9</td>\n",
       "      <td>66</td>\n",
       "      <td>4.8</td>\n",
       "      <td>11.5</td>\n",
       "      <td>구름조금</td>\n",
       "    </tr>\n",
       "    <tr>\n",
       "      <th>13</th>\n",
       "      <td>seoul</td>\n",
       "      <td>2013-08-14</td>\n",
       "      <td>wed</td>\n",
       "      <td>28.6</td>\n",
       "      <td>32.0</td>\n",
       "      <td>26.2</td>\n",
       "      <td>-</td>\n",
       "      <td>-</td>\n",
       "      <td>2.7</td>\n",
       "      <td>66</td>\n",
       "      <td>5.0</td>\n",
       "      <td>9.9</td>\n",
       "      <td>구름많음</td>\n",
       "    </tr>\n",
       "    <tr>\n",
       "      <th>14</th>\n",
       "      <td>seoul</td>\n",
       "      <td>2013-08-15</td>\n",
       "      <td>thur</td>\n",
       "      <td>28.7</td>\n",
       "      <td>32.4</td>\n",
       "      <td>25.8</td>\n",
       "      <td>0</td>\n",
       "      <td>-</td>\n",
       "      <td>3.2</td>\n",
       "      <td>71</td>\n",
       "      <td>6.6</td>\n",
       "      <td>7.9</td>\n",
       "      <td>구름많음/소나기</td>\n",
       "    </tr>\n",
       "    <tr>\n",
       "      <th>15</th>\n",
       "      <td>seoul</td>\n",
       "      <td>2013-08-16</td>\n",
       "      <td>fri</td>\n",
       "      <td>28.7</td>\n",
       "      <td>31.7</td>\n",
       "      <td>26.1</td>\n",
       "      <td>4.5</td>\n",
       "      <td>-</td>\n",
       "      <td>3.8</td>\n",
       "      <td>71</td>\n",
       "      <td>7.5</td>\n",
       "      <td>7.2</td>\n",
       "      <td>구름많음/소나기</td>\n",
       "    </tr>\n",
       "    <tr>\n",
       "      <th>16</th>\n",
       "      <td>seoul</td>\n",
       "      <td>2013-08-17</td>\n",
       "      <td>sat</td>\n",
       "      <td>28.7</td>\n",
       "      <td>31.6</td>\n",
       "      <td>27.1</td>\n",
       "      <td>-</td>\n",
       "      <td>-</td>\n",
       "      <td>5.0</td>\n",
       "      <td>69</td>\n",
       "      <td>7.5</td>\n",
       "      <td>6.9</td>\n",
       "      <td>구름많음</td>\n",
       "    </tr>\n",
       "    <tr>\n",
       "      <th>17</th>\n",
       "      <td>seoul</td>\n",
       "      <td>2013-08-18</td>\n",
       "      <td>sun</td>\n",
       "      <td>28.3</td>\n",
       "      <td>31.5</td>\n",
       "      <td>26.0</td>\n",
       "      <td>13</td>\n",
       "      <td>-</td>\n",
       "      <td>4.1</td>\n",
       "      <td>72</td>\n",
       "      <td>9.8</td>\n",
       "      <td>2.8</td>\n",
       "      <td>흐림/안개/비</td>\n",
       "    </tr>\n",
       "    <tr>\n",
       "      <th>18</th>\n",
       "      <td>seoul</td>\n",
       "      <td>2013-08-19</td>\n",
       "      <td>mon</td>\n",
       "      <td>28.2</td>\n",
       "      <td>32.3</td>\n",
       "      <td>25.7</td>\n",
       "      <td>6</td>\n",
       "      <td>-</td>\n",
       "      <td>2.6</td>\n",
       "      <td>69</td>\n",
       "      <td>4.9</td>\n",
       "      <td>9.7</td>\n",
       "      <td>구름조금/안개/비</td>\n",
       "    </tr>\n",
       "    <tr>\n",
       "      <th>19</th>\n",
       "      <td>seoul</td>\n",
       "      <td>2013-08-20</td>\n",
       "      <td>tue</td>\n",
       "      <td>27.4</td>\n",
       "      <td>32.3</td>\n",
       "      <td>23.0</td>\n",
       "      <td>-</td>\n",
       "      <td>-</td>\n",
       "      <td>1.8</td>\n",
       "      <td>62</td>\n",
       "      <td>3.0</td>\n",
       "      <td>10.6</td>\n",
       "      <td>구름조금</td>\n",
       "    </tr>\n",
       "    <tr>\n",
       "      <th>20</th>\n",
       "      <td>seoul</td>\n",
       "      <td>2013-08-21</td>\n",
       "      <td>wed</td>\n",
       "      <td>28.8</td>\n",
       "      <td>33.9</td>\n",
       "      <td>24.2</td>\n",
       "      <td>-</td>\n",
       "      <td>-</td>\n",
       "      <td>2.4</td>\n",
       "      <td>55</td>\n",
       "      <td>3.8</td>\n",
       "      <td>11.6</td>\n",
       "      <td>구름조금</td>\n",
       "    </tr>\n",
       "    <tr>\n",
       "      <th>21</th>\n",
       "      <td>seoul</td>\n",
       "      <td>2013-08-22</td>\n",
       "      <td>thur</td>\n",
       "      <td>29.3</td>\n",
       "      <td>32.3</td>\n",
       "      <td>26.3</td>\n",
       "      <td>0</td>\n",
       "      <td>-</td>\n",
       "      <td>2.4</td>\n",
       "      <td>58</td>\n",
       "      <td>6.8</td>\n",
       "      <td>8.8</td>\n",
       "      <td>구름많음</td>\n",
       "    </tr>\n",
       "    <tr>\n",
       "      <th>22</th>\n",
       "      <td>seoul</td>\n",
       "      <td>2013-08-23</td>\n",
       "      <td>fri</td>\n",
       "      <td>25.7</td>\n",
       "      <td>28.7</td>\n",
       "      <td>23.7</td>\n",
       "      <td>35</td>\n",
       "      <td>-</td>\n",
       "      <td>2.4</td>\n",
       "      <td>78</td>\n",
       "      <td>8.2</td>\n",
       "      <td>1.0</td>\n",
       "      <td>흐림/안개/비</td>\n",
       "    </tr>\n",
       "    <tr>\n",
       "      <th>23</th>\n",
       "      <td>seoul</td>\n",
       "      <td>2013-08-24</td>\n",
       "      <td>sat</td>\n",
       "      <td>26.6</td>\n",
       "      <td>31.5</td>\n",
       "      <td>21.9</td>\n",
       "      <td>-</td>\n",
       "      <td>-</td>\n",
       "      <td>1.8</td>\n",
       "      <td>61</td>\n",
       "      <td>2.4</td>\n",
       "      <td>10.9</td>\n",
       "      <td>구름조금</td>\n",
       "    </tr>\n",
       "    <tr>\n",
       "      <th>24</th>\n",
       "      <td>seoul</td>\n",
       "      <td>2013-08-25</td>\n",
       "      <td>sun</td>\n",
       "      <td>27.1</td>\n",
       "      <td>32.1</td>\n",
       "      <td>22.0</td>\n",
       "      <td>-</td>\n",
       "      <td>-</td>\n",
       "      <td>1.7</td>\n",
       "      <td>53</td>\n",
       "      <td>4.1</td>\n",
       "      <td>12.0</td>\n",
       "      <td>구름조금</td>\n",
       "    </tr>\n",
       "    <tr>\n",
       "      <th>25</th>\n",
       "      <td>seoul</td>\n",
       "      <td>2013-08-26</td>\n",
       "      <td>mon</td>\n",
       "      <td>27.0</td>\n",
       "      <td>31.6</td>\n",
       "      <td>22.8</td>\n",
       "      <td>-</td>\n",
       "      <td>-</td>\n",
       "      <td>2.4</td>\n",
       "      <td>55</td>\n",
       "      <td>1.6</td>\n",
       "      <td>12.1</td>\n",
       "      <td>맑음</td>\n",
       "    </tr>\n",
       "    <tr>\n",
       "      <th>26</th>\n",
       "      <td>seoul</td>\n",
       "      <td>2013-08-27</td>\n",
       "      <td>tue</td>\n",
       "      <td>25.6</td>\n",
       "      <td>29.3</td>\n",
       "      <td>22.5</td>\n",
       "      <td>-</td>\n",
       "      <td>-</td>\n",
       "      <td>2.5</td>\n",
       "      <td>61</td>\n",
       "      <td>2.4</td>\n",
       "      <td>11.5</td>\n",
       "      <td>구름조금/안개</td>\n",
       "    </tr>\n",
       "    <tr>\n",
       "      <th>27</th>\n",
       "      <td>seoul</td>\n",
       "      <td>2013-08-28</td>\n",
       "      <td>wed</td>\n",
       "      <td>26.4</td>\n",
       "      <td>30.8</td>\n",
       "      <td>22.7</td>\n",
       "      <td>-</td>\n",
       "      <td>-</td>\n",
       "      <td>2.9</td>\n",
       "      <td>59</td>\n",
       "      <td>5.4</td>\n",
       "      <td>9.7</td>\n",
       "      <td>구름많음/안개</td>\n",
       "    </tr>\n",
       "    <tr>\n",
       "      <th>28</th>\n",
       "      <td>seoul</td>\n",
       "      <td>2013-08-29</td>\n",
       "      <td>thur</td>\n",
       "      <td>25.5</td>\n",
       "      <td>26.7</td>\n",
       "      <td>24.5</td>\n",
       "      <td>21.5</td>\n",
       "      <td>-</td>\n",
       "      <td>4.2</td>\n",
       "      <td>78</td>\n",
       "      <td>9.4</td>\n",
       "      <td>0.0</td>\n",
       "      <td>흐림/안개/천둥번개/비</td>\n",
       "    </tr>\n",
       "    <tr>\n",
       "      <th>29</th>\n",
       "      <td>seoul</td>\n",
       "      <td>2013-08-30</td>\n",
       "      <td>fri</td>\n",
       "      <td>25.1</td>\n",
       "      <td>28.3</td>\n",
       "      <td>22.3</td>\n",
       "      <td>-</td>\n",
       "      <td>-</td>\n",
       "      <td>3.4</td>\n",
       "      <td>69</td>\n",
       "      <td>5.1</td>\n",
       "      <td>10.7</td>\n",
       "      <td>구름많음</td>\n",
       "    </tr>\n",
       "    <tr>\n",
       "      <th>...</th>\n",
       "      <td>...</td>\n",
       "      <td>...</td>\n",
       "      <td>...</td>\n",
       "      <td>...</td>\n",
       "      <td>...</td>\n",
       "      <td>...</td>\n",
       "      <td>...</td>\n",
       "      <td>...</td>\n",
       "      <td>...</td>\n",
       "      <td>...</td>\n",
       "      <td>...</td>\n",
       "      <td>...</td>\n",
       "      <td>...</td>\n",
       "    </tr>\n",
       "    <tr>\n",
       "      <th>1430</th>\n",
       "      <td>suwon</td>\n",
       "      <td>2015-07-02</td>\n",
       "      <td>thur</td>\n",
       "      <td>23.4</td>\n",
       "      <td>29.9</td>\n",
       "      <td>19.6</td>\n",
       "      <td>-</td>\n",
       "      <td>-</td>\n",
       "      <td>2.5</td>\n",
       "      <td>74</td>\n",
       "      <td>5.4</td>\n",
       "      <td>8.1</td>\n",
       "      <td>구름많음/안개</td>\n",
       "    </tr>\n",
       "    <tr>\n",
       "      <th>1431</th>\n",
       "      <td>suwon</td>\n",
       "      <td>2015-07-03</td>\n",
       "      <td>fri</td>\n",
       "      <td>22.7</td>\n",
       "      <td>28.8</td>\n",
       "      <td>18.8</td>\n",
       "      <td>-</td>\n",
       "      <td>-</td>\n",
       "      <td>2.1</td>\n",
       "      <td>69</td>\n",
       "      <td>3.5</td>\n",
       "      <td>11.1</td>\n",
       "      <td>구름조금/안개</td>\n",
       "    </tr>\n",
       "    <tr>\n",
       "      <th>1432</th>\n",
       "      <td>suwon</td>\n",
       "      <td>2015-07-04</td>\n",
       "      <td>sat</td>\n",
       "      <td>23.1</td>\n",
       "      <td>30.2</td>\n",
       "      <td>16.8</td>\n",
       "      <td>-</td>\n",
       "      <td>-</td>\n",
       "      <td>1.7</td>\n",
       "      <td>60</td>\n",
       "      <td>1.5</td>\n",
       "      <td>12.0</td>\n",
       "      <td>맑음/안개</td>\n",
       "    </tr>\n",
       "    <tr>\n",
       "      <th>1433</th>\n",
       "      <td>suwon</td>\n",
       "      <td>2015-07-05</td>\n",
       "      <td>sun</td>\n",
       "      <td>23.3</td>\n",
       "      <td>29.7</td>\n",
       "      <td>18.1</td>\n",
       "      <td>-</td>\n",
       "      <td>-</td>\n",
       "      <td>2.0</td>\n",
       "      <td>66</td>\n",
       "      <td>3.2</td>\n",
       "      <td>11.3</td>\n",
       "      <td>구름조금/안개</td>\n",
       "    </tr>\n",
       "    <tr>\n",
       "      <th>1434</th>\n",
       "      <td>suwon</td>\n",
       "      <td>2015-07-06</td>\n",
       "      <td>mon</td>\n",
       "      <td>24.2</td>\n",
       "      <td>31.8</td>\n",
       "      <td>18.6</td>\n",
       "      <td>-</td>\n",
       "      <td>-</td>\n",
       "      <td>1.6</td>\n",
       "      <td>63</td>\n",
       "      <td>4.0</td>\n",
       "      <td>11.0</td>\n",
       "      <td>구름조금</td>\n",
       "    </tr>\n",
       "    <tr>\n",
       "      <th>1435</th>\n",
       "      <td>suwon</td>\n",
       "      <td>2015-07-07</td>\n",
       "      <td>tue</td>\n",
       "      <td>24.1</td>\n",
       "      <td>28.2</td>\n",
       "      <td>20.2</td>\n",
       "      <td>-</td>\n",
       "      <td>-</td>\n",
       "      <td>2.2</td>\n",
       "      <td>63</td>\n",
       "      <td>8.6</td>\n",
       "      <td>2.4</td>\n",
       "      <td>흐림/안개</td>\n",
       "    </tr>\n",
       "    <tr>\n",
       "      <th>1436</th>\n",
       "      <td>suwon</td>\n",
       "      <td>2015-07-08</td>\n",
       "      <td>wed</td>\n",
       "      <td>22.6</td>\n",
       "      <td>25.8</td>\n",
       "      <td>19.7</td>\n",
       "      <td>1.1</td>\n",
       "      <td>-</td>\n",
       "      <td>3.3</td>\n",
       "      <td>78</td>\n",
       "      <td>9.4</td>\n",
       "      <td>0.0</td>\n",
       "      <td>흐림/비</td>\n",
       "    </tr>\n",
       "    <tr>\n",
       "      <th>1437</th>\n",
       "      <td>suwon</td>\n",
       "      <td>2015-07-09</td>\n",
       "      <td>thur</td>\n",
       "      <td>25.6</td>\n",
       "      <td>30.1</td>\n",
       "      <td>22.6</td>\n",
       "      <td>-</td>\n",
       "      <td>-</td>\n",
       "      <td>3.2</td>\n",
       "      <td>69</td>\n",
       "      <td>7.9</td>\n",
       "      <td>3.1</td>\n",
       "      <td>구름많음</td>\n",
       "    </tr>\n",
       "    <tr>\n",
       "      <th>1438</th>\n",
       "      <td>suwon</td>\n",
       "      <td>2015-07-10</td>\n",
       "      <td>fri</td>\n",
       "      <td>28.0</td>\n",
       "      <td>33.5</td>\n",
       "      <td>23.4</td>\n",
       "      <td>-</td>\n",
       "      <td>-</td>\n",
       "      <td>1.7</td>\n",
       "      <td>68</td>\n",
       "      <td>5.4</td>\n",
       "      <td>7.9</td>\n",
       "      <td>구름많음/안개</td>\n",
       "    </tr>\n",
       "    <tr>\n",
       "      <th>1439</th>\n",
       "      <td>suwon</td>\n",
       "      <td>2015-07-11</td>\n",
       "      <td>sat</td>\n",
       "      <td>29.3</td>\n",
       "      <td>35.0</td>\n",
       "      <td>24.7</td>\n",
       "      <td>0.2</td>\n",
       "      <td>-</td>\n",
       "      <td>1.8</td>\n",
       "      <td>69</td>\n",
       "      <td>7.0</td>\n",
       "      <td>9.4</td>\n",
       "      <td>구름많음/비/안개</td>\n",
       "    </tr>\n",
       "    <tr>\n",
       "      <th>1440</th>\n",
       "      <td>suwon</td>\n",
       "      <td>2015-07-12</td>\n",
       "      <td>sun</td>\n",
       "      <td>25.0</td>\n",
       "      <td>26.7</td>\n",
       "      <td>24.0</td>\n",
       "      <td>21.1</td>\n",
       "      <td>-</td>\n",
       "      <td>4.4</td>\n",
       "      <td>94</td>\n",
       "      <td>10.0</td>\n",
       "      <td>0.0</td>\n",
       "      <td>흐림/비</td>\n",
       "    </tr>\n",
       "    <tr>\n",
       "      <th>1441</th>\n",
       "      <td>suwon</td>\n",
       "      <td>2015-07-13</td>\n",
       "      <td>mon</td>\n",
       "      <td>23.1</td>\n",
       "      <td>25.4</td>\n",
       "      <td>21.5</td>\n",
       "      <td>16.3</td>\n",
       "      <td>-</td>\n",
       "      <td>3.8</td>\n",
       "      <td>96</td>\n",
       "      <td>9.0</td>\n",
       "      <td>0.6</td>\n",
       "      <td>흐림/비/안개</td>\n",
       "    </tr>\n",
       "    <tr>\n",
       "      <th>1442</th>\n",
       "      <td>suwon</td>\n",
       "      <td>2015-07-14</td>\n",
       "      <td>tue</td>\n",
       "      <td>25.2</td>\n",
       "      <td>31.0</td>\n",
       "      <td>21.9</td>\n",
       "      <td>-</td>\n",
       "      <td>-</td>\n",
       "      <td>2.0</td>\n",
       "      <td>82</td>\n",
       "      <td>5.8</td>\n",
       "      <td>8.9</td>\n",
       "      <td>구름많음/안개</td>\n",
       "    </tr>\n",
       "    <tr>\n",
       "      <th>1443</th>\n",
       "      <td>suwon</td>\n",
       "      <td>2015-07-15</td>\n",
       "      <td>wed</td>\n",
       "      <td>27.5</td>\n",
       "      <td>34.3</td>\n",
       "      <td>21.2</td>\n",
       "      <td>-</td>\n",
       "      <td>-</td>\n",
       "      <td>2.1</td>\n",
       "      <td>68</td>\n",
       "      <td>4.1</td>\n",
       "      <td>9.7</td>\n",
       "      <td>구름조금/안개</td>\n",
       "    </tr>\n",
       "    <tr>\n",
       "      <th>1444</th>\n",
       "      <td>suwon</td>\n",
       "      <td>2015-07-16</td>\n",
       "      <td>thur</td>\n",
       "      <td>25.0</td>\n",
       "      <td>29.5</td>\n",
       "      <td>21.1</td>\n",
       "      <td>-</td>\n",
       "      <td>-</td>\n",
       "      <td>4.0</td>\n",
       "      <td>54</td>\n",
       "      <td>3.5</td>\n",
       "      <td>11.3</td>\n",
       "      <td>구름조금</td>\n",
       "    </tr>\n",
       "    <tr>\n",
       "      <th>1445</th>\n",
       "      <td>suwon</td>\n",
       "      <td>2015-07-17</td>\n",
       "      <td>fri</td>\n",
       "      <td>24.0</td>\n",
       "      <td>29.5</td>\n",
       "      <td>19.0</td>\n",
       "      <td>-</td>\n",
       "      <td>-</td>\n",
       "      <td>2.9</td>\n",
       "      <td>52</td>\n",
       "      <td>6.1</td>\n",
       "      <td>8.6</td>\n",
       "      <td>구름많음</td>\n",
       "    </tr>\n",
       "    <tr>\n",
       "      <th>1446</th>\n",
       "      <td>suwon</td>\n",
       "      <td>2015-07-18</td>\n",
       "      <td>sat</td>\n",
       "      <td>23.8</td>\n",
       "      <td>27.4</td>\n",
       "      <td>22.4</td>\n",
       "      <td>0.2</td>\n",
       "      <td>-</td>\n",
       "      <td>1.7</td>\n",
       "      <td>70</td>\n",
       "      <td>9.6</td>\n",
       "      <td>0.2</td>\n",
       "      <td>흐림/비/안개</td>\n",
       "    </tr>\n",
       "    <tr>\n",
       "      <th>1447</th>\n",
       "      <td>suwon</td>\n",
       "      <td>2015-07-19</td>\n",
       "      <td>sun</td>\n",
       "      <td>24.8</td>\n",
       "      <td>29.1</td>\n",
       "      <td>20.6</td>\n",
       "      <td>9.7</td>\n",
       "      <td>-</td>\n",
       "      <td>1.4</td>\n",
       "      <td>85</td>\n",
       "      <td>8.6</td>\n",
       "      <td>1.8</td>\n",
       "      <td>흐림/비</td>\n",
       "    </tr>\n",
       "    <tr>\n",
       "      <th>1448</th>\n",
       "      <td>suwon</td>\n",
       "      <td>2015-07-20</td>\n",
       "      <td>mon</td>\n",
       "      <td>27.7</td>\n",
       "      <td>30.8</td>\n",
       "      <td>24.0</td>\n",
       "      <td>-</td>\n",
       "      <td>-</td>\n",
       "      <td>1.9</td>\n",
       "      <td>79</td>\n",
       "      <td>8.1</td>\n",
       "      <td>0.3</td>\n",
       "      <td>흐림</td>\n",
       "    </tr>\n",
       "    <tr>\n",
       "      <th>1449</th>\n",
       "      <td>suwon</td>\n",
       "      <td>2015-07-21</td>\n",
       "      <td>tue</td>\n",
       "      <td>26.7</td>\n",
       "      <td>30.5</td>\n",
       "      <td>24.3</td>\n",
       "      <td>0.3</td>\n",
       "      <td>-</td>\n",
       "      <td>1.4</td>\n",
       "      <td>86</td>\n",
       "      <td>9.4</td>\n",
       "      <td>0.3</td>\n",
       "      <td>흐림/비/안개</td>\n",
       "    </tr>\n",
       "    <tr>\n",
       "      <th>1450</th>\n",
       "      <td>suwon</td>\n",
       "      <td>2015-07-22</td>\n",
       "      <td>wed</td>\n",
       "      <td>27.0</td>\n",
       "      <td>31.5</td>\n",
       "      <td>24.2</td>\n",
       "      <td>0.3</td>\n",
       "      <td>-</td>\n",
       "      <td>1.4</td>\n",
       "      <td>83</td>\n",
       "      <td>8.4</td>\n",
       "      <td>1.9</td>\n",
       "      <td>흐림/소나기/안개</td>\n",
       "    </tr>\n",
       "    <tr>\n",
       "      <th>1451</th>\n",
       "      <td>suwon</td>\n",
       "      <td>2015-07-23</td>\n",
       "      <td>thur</td>\n",
       "      <td>26.2</td>\n",
       "      <td>30.9</td>\n",
       "      <td>24.2</td>\n",
       "      <td>14.5</td>\n",
       "      <td>-</td>\n",
       "      <td>1.4</td>\n",
       "      <td>90</td>\n",
       "      <td>9.6</td>\n",
       "      <td>1.1</td>\n",
       "      <td>흐림/비/안개</td>\n",
       "    </tr>\n",
       "    <tr>\n",
       "      <th>1452</th>\n",
       "      <td>suwon</td>\n",
       "      <td>2015-07-24</td>\n",
       "      <td>fri</td>\n",
       "      <td>24.5</td>\n",
       "      <td>25.3</td>\n",
       "      <td>23.5</td>\n",
       "      <td>23.8</td>\n",
       "      <td>-</td>\n",
       "      <td>1.2</td>\n",
       "      <td>100</td>\n",
       "      <td>10.0</td>\n",
       "      <td>0.0</td>\n",
       "      <td>흐림/비/안개</td>\n",
       "    </tr>\n",
       "    <tr>\n",
       "      <th>1453</th>\n",
       "      <td>suwon</td>\n",
       "      <td>2015-07-25</td>\n",
       "      <td>sat</td>\n",
       "      <td>25.4</td>\n",
       "      <td>27.4</td>\n",
       "      <td>23.6</td>\n",
       "      <td>56.4</td>\n",
       "      <td>-</td>\n",
       "      <td>2.2</td>\n",
       "      <td>96</td>\n",
       "      <td>10.0</td>\n",
       "      <td>0.0</td>\n",
       "      <td>흐림/비/안개</td>\n",
       "    </tr>\n",
       "    <tr>\n",
       "      <th>1454</th>\n",
       "      <td>suwon</td>\n",
       "      <td>2015-07-26</td>\n",
       "      <td>sun</td>\n",
       "      <td>27.5</td>\n",
       "      <td>32.9</td>\n",
       "      <td>24.0</td>\n",
       "      <td>14.7</td>\n",
       "      <td>-</td>\n",
       "      <td>1.7</td>\n",
       "      <td>83</td>\n",
       "      <td>6.5</td>\n",
       "      <td>9.0</td>\n",
       "      <td>구름많음/비/안개</td>\n",
       "    </tr>\n",
       "    <tr>\n",
       "      <th>1455</th>\n",
       "      <td>suwon</td>\n",
       "      <td>2015-07-27</td>\n",
       "      <td>mon</td>\n",
       "      <td>25.9</td>\n",
       "      <td>30.0</td>\n",
       "      <td>24.0</td>\n",
       "      <td>2.5</td>\n",
       "      <td>-</td>\n",
       "      <td>1.3</td>\n",
       "      <td>92</td>\n",
       "      <td>8.1</td>\n",
       "      <td>2.2</td>\n",
       "      <td>흐림/비/안개</td>\n",
       "    </tr>\n",
       "    <tr>\n",
       "      <th>1456</th>\n",
       "      <td>suwon</td>\n",
       "      <td>2015-07-28</td>\n",
       "      <td>tue</td>\n",
       "      <td>27.7</td>\n",
       "      <td>32.1</td>\n",
       "      <td>24.5</td>\n",
       "      <td>0</td>\n",
       "      <td>-</td>\n",
       "      <td>1.7</td>\n",
       "      <td>82</td>\n",
       "      <td>7.5</td>\n",
       "      <td>7.5</td>\n",
       "      <td>구름많음/안개/이슬비</td>\n",
       "    </tr>\n",
       "    <tr>\n",
       "      <th>1457</th>\n",
       "      <td>suwon</td>\n",
       "      <td>2015-07-29</td>\n",
       "      <td>wed</td>\n",
       "      <td>26.3</td>\n",
       "      <td>29.6</td>\n",
       "      <td>23.9</td>\n",
       "      <td>64.7</td>\n",
       "      <td>-</td>\n",
       "      <td>1.3</td>\n",
       "      <td>93</td>\n",
       "      <td>8.5</td>\n",
       "      <td>0.2</td>\n",
       "      <td>흐림/비/안개/천둥번개</td>\n",
       "    </tr>\n",
       "    <tr>\n",
       "      <th>1458</th>\n",
       "      <td>suwon</td>\n",
       "      <td>2015-07-30</td>\n",
       "      <td>thur</td>\n",
       "      <td>28.5</td>\n",
       "      <td>33.7</td>\n",
       "      <td>25.3</td>\n",
       "      <td>-</td>\n",
       "      <td>-</td>\n",
       "      <td>2.2</td>\n",
       "      <td>87</td>\n",
       "      <td>6.8</td>\n",
       "      <td>7.6</td>\n",
       "      <td>구름많음/안개</td>\n",
       "    </tr>\n",
       "    <tr>\n",
       "      <th>1459</th>\n",
       "      <td>suwon</td>\n",
       "      <td>2015-07-31</td>\n",
       "      <td>fri</td>\n",
       "      <td>27.6</td>\n",
       "      <td>32.8</td>\n",
       "      <td>25.2</td>\n",
       "      <td>-</td>\n",
       "      <td>-</td>\n",
       "      <td>1.8</td>\n",
       "      <td>85</td>\n",
       "      <td>7.1</td>\n",
       "      <td>7.1</td>\n",
       "      <td>구름많음/안개</td>\n",
       "    </tr>\n",
       "  </tbody>\n",
       "</table>\n",
       "<p>1460 rows × 13 columns</p>\n",
       "</div>"
      ],
      "text/plain": [
       "     location       date weekDay  avgTemp  highestTemp  lowestTemp  \\\n",
       "0       seoul 2013-08-01    thur     28.0         32.1        24.5   \n",
       "1       seoul 2013-08-02     fri     27.4         29.3        25.2   \n",
       "2       seoul 2013-08-03     sat     28.9         32.6        26.7   \n",
       "3       seoul 2013-08-04     sun     28.3         31.3        26.4   \n",
       "4       seoul 2013-08-05     mon     27.7         30.1        26.4   \n",
       "5       seoul 2013-08-06     tue     26.4         27.6        23.0   \n",
       "6       seoul 2013-08-07     wed     28.7         32.1        25.0   \n",
       "7       seoul 2013-08-08    thur     29.3         32.8        27.3   \n",
       "8       seoul 2013-08-09     fri     29.2         30.8        27.9   \n",
       "9       seoul 2013-08-10     sat     28.0         29.4        25.8   \n",
       "10      seoul 2013-08-11     sun     28.7         33.2        24.2   \n",
       "11      seoul 2013-08-12     mon     29.3         32.6        27.1   \n",
       "12      seoul 2013-08-13     tue     29.0         32.9        26.6   \n",
       "13      seoul 2013-08-14     wed     28.6         32.0        26.2   \n",
       "14      seoul 2013-08-15    thur     28.7         32.4        25.8   \n",
       "15      seoul 2013-08-16     fri     28.7         31.7        26.1   \n",
       "16      seoul 2013-08-17     sat     28.7         31.6        27.1   \n",
       "17      seoul 2013-08-18     sun     28.3         31.5        26.0   \n",
       "18      seoul 2013-08-19     mon     28.2         32.3        25.7   \n",
       "19      seoul 2013-08-20     tue     27.4         32.3        23.0   \n",
       "20      seoul 2013-08-21     wed     28.8         33.9        24.2   \n",
       "21      seoul 2013-08-22    thur     29.3         32.3        26.3   \n",
       "22      seoul 2013-08-23     fri     25.7         28.7        23.7   \n",
       "23      seoul 2013-08-24     sat     26.6         31.5        21.9   \n",
       "24      seoul 2013-08-25     sun     27.1         32.1        22.0   \n",
       "25      seoul 2013-08-26     mon     27.0         31.6        22.8   \n",
       "26      seoul 2013-08-27     tue     25.6         29.3        22.5   \n",
       "27      seoul 2013-08-28     wed     26.4         30.8        22.7   \n",
       "28      seoul 2013-08-29    thur     25.5         26.7        24.5   \n",
       "29      seoul 2013-08-30     fri     25.1         28.3        22.3   \n",
       "...       ...        ...     ...      ...          ...         ...   \n",
       "1430    suwon 2015-07-02    thur     23.4         29.9        19.6   \n",
       "1431    suwon 2015-07-03     fri     22.7         28.8        18.8   \n",
       "1432    suwon 2015-07-04     sat     23.1         30.2        16.8   \n",
       "1433    suwon 2015-07-05     sun     23.3         29.7        18.1   \n",
       "1434    suwon 2015-07-06     mon     24.2         31.8        18.6   \n",
       "1435    suwon 2015-07-07     tue     24.1         28.2        20.2   \n",
       "1436    suwon 2015-07-08     wed     22.6         25.8        19.7   \n",
       "1437    suwon 2015-07-09    thur     25.6         30.1        22.6   \n",
       "1438    suwon 2015-07-10     fri     28.0         33.5        23.4   \n",
       "1439    suwon 2015-07-11     sat     29.3         35.0        24.7   \n",
       "1440    suwon 2015-07-12     sun     25.0         26.7        24.0   \n",
       "1441    suwon 2015-07-13     mon     23.1         25.4        21.5   \n",
       "1442    suwon 2015-07-14     tue     25.2         31.0        21.9   \n",
       "1443    suwon 2015-07-15     wed     27.5         34.3        21.2   \n",
       "1444    suwon 2015-07-16    thur     25.0         29.5        21.1   \n",
       "1445    suwon 2015-07-17     fri     24.0         29.5        19.0   \n",
       "1446    suwon 2015-07-18     sat     23.8         27.4        22.4   \n",
       "1447    suwon 2015-07-19     sun     24.8         29.1        20.6   \n",
       "1448    suwon 2015-07-20     mon     27.7         30.8        24.0   \n",
       "1449    suwon 2015-07-21     tue     26.7         30.5        24.3   \n",
       "1450    suwon 2015-07-22     wed     27.0         31.5        24.2   \n",
       "1451    suwon 2015-07-23    thur     26.2         30.9        24.2   \n",
       "1452    suwon 2015-07-24     fri     24.5         25.3        23.5   \n",
       "1453    suwon 2015-07-25     sat     25.4         27.4        23.6   \n",
       "1454    suwon 2015-07-26     sun     27.5         32.9        24.0   \n",
       "1455    suwon 2015-07-27     mon     25.9         30.0        24.0   \n",
       "1456    suwon 2015-07-28     tue     27.7         32.1        24.5   \n",
       "1457    suwon 2015-07-29     wed     26.3         29.6        23.9   \n",
       "1458    suwon 2015-07-30    thur     28.5         33.7        25.3   \n",
       "1459    suwon 2015-07-31     fri     27.6         32.8        25.2   \n",
       "\n",
       "     precipitation snow  windSpeed  humidity  cloud  dayTime         weather  \n",
       "0                -    -        1.8        66    7.1      6.0            구름많음  \n",
       "1              7.5    -        2.1        79    9.1      0.9         흐림/안개/비  \n",
       "2              0.1    -        3.6        72    8.1      8.9          흐림/소나기  \n",
       "3              4.5    -        2.5        76    8.0      4.7       흐림/소나기/안개  \n",
       "4                7    -        3.3        78    7.0      4.5  구름많음/안개/천둥번개/비  \n",
       "5               45    -        2.3        81    6.6      2.8  구름많음/안개/천둥번개/비  \n",
       "6                -    -        2.2        73    7.5      1.3            구름많음  \n",
       "7                -    -        3.9        73    7.4      5.0         구름많음/안개  \n",
       "8                0    -        4.0        79    9.9      0.1           흐림/안개  \n",
       "9                2    -        2.3        81    7.1      2.6  구름많음/안개/천둥번개/비  \n",
       "10               -    -        2.2        72    5.8      9.6         구름많음/안개  \n",
       "11               -    -        2.9        69    5.2     10.7            구름많음  \n",
       "12               -    -        2.9        66    4.8     11.5            구름조금  \n",
       "13               -    -        2.7        66    5.0      9.9            구름많음  \n",
       "14               0    -        3.2        71    6.6      7.9        구름많음/소나기  \n",
       "15             4.5    -        3.8        71    7.5      7.2        구름많음/소나기  \n",
       "16               -    -        5.0        69    7.5      6.9            구름많음  \n",
       "17              13    -        4.1        72    9.8      2.8         흐림/안개/비  \n",
       "18               6    -        2.6        69    4.9      9.7       구름조금/안개/비  \n",
       "19               -    -        1.8        62    3.0     10.6            구름조금  \n",
       "20               -    -        2.4        55    3.8     11.6            구름조금  \n",
       "21               0    -        2.4        58    6.8      8.8            구름많음  \n",
       "22              35    -        2.4        78    8.2      1.0         흐림/안개/비  \n",
       "23               -    -        1.8        61    2.4     10.9            구름조금  \n",
       "24               -    -        1.7        53    4.1     12.0            구름조금  \n",
       "25               -    -        2.4        55    1.6     12.1              맑음  \n",
       "26               -    -        2.5        61    2.4     11.5         구름조금/안개  \n",
       "27               -    -        2.9        59    5.4      9.7         구름많음/안개  \n",
       "28            21.5    -        4.2        78    9.4      0.0    흐림/안개/천둥번개/비  \n",
       "29               -    -        3.4        69    5.1     10.7            구름많음  \n",
       "...            ...  ...        ...       ...    ...      ...             ...  \n",
       "1430             -    -        2.5        74    5.4      8.1         구름많음/안개  \n",
       "1431             -    -        2.1        69    3.5     11.1         구름조금/안개  \n",
       "1432             -    -        1.7        60    1.5     12.0           맑음/안개  \n",
       "1433             -    -        2.0        66    3.2     11.3         구름조금/안개  \n",
       "1434             -    -        1.6        63    4.0     11.0            구름조금  \n",
       "1435             -    -        2.2        63    8.6      2.4           흐림/안개  \n",
       "1436           1.1    -        3.3        78    9.4      0.0            흐림/비  \n",
       "1437             -    -        3.2        69    7.9      3.1            구름많음  \n",
       "1438             -    -        1.7        68    5.4      7.9         구름많음/안개  \n",
       "1439           0.2    -        1.8        69    7.0      9.4       구름많음/비/안개  \n",
       "1440          21.1    -        4.4        94   10.0      0.0            흐림/비  \n",
       "1441          16.3    -        3.8        96    9.0      0.6         흐림/비/안개  \n",
       "1442             -    -        2.0        82    5.8      8.9         구름많음/안개  \n",
       "1443             -    -        2.1        68    4.1      9.7         구름조금/안개  \n",
       "1444             -    -        4.0        54    3.5     11.3            구름조금  \n",
       "1445             -    -        2.9        52    6.1      8.6            구름많음  \n",
       "1446           0.2    -        1.7        70    9.6      0.2         흐림/비/안개  \n",
       "1447           9.7    -        1.4        85    8.6      1.8            흐림/비  \n",
       "1448             -    -        1.9        79    8.1      0.3              흐림  \n",
       "1449           0.3    -        1.4        86    9.4      0.3         흐림/비/안개  \n",
       "1450           0.3    -        1.4        83    8.4      1.9       흐림/소나기/안개  \n",
       "1451          14.5    -        1.4        90    9.6      1.1         흐림/비/안개  \n",
       "1452          23.8    -        1.2       100   10.0      0.0         흐림/비/안개  \n",
       "1453          56.4    -        2.2        96   10.0      0.0         흐림/비/안개  \n",
       "1454          14.7    -        1.7        83    6.5      9.0       구름많음/비/안개  \n",
       "1455           2.5    -        1.3        92    8.1      2.2         흐림/비/안개  \n",
       "1456             0    -        1.7        82    7.5      7.5     구름많음/안개/이슬비  \n",
       "1457          64.7    -        1.3        93    8.5      0.2    흐림/비/안개/천둥번개  \n",
       "1458             -    -        2.2        87    6.8      7.6         구름많음/안개  \n",
       "1459             -    -        1.8        85    7.1      7.1         구름많음/안개  \n",
       "\n",
       "[1460 rows x 13 columns]"
      ]
     },
     "execution_count": 218,
     "metadata": {},
     "output_type": "execute_result"
    }
   ],
   "source": [
    "pd.read_excel('data/weather.xlsx')"
   ]
  },
  {
   "cell_type": "markdown",
   "metadata": {},
   "source": [
    "위에 보는 것처럼 데이터에 숫자가 아니면... 학습할 수 없다"
   ]
  },
  {
   "cell_type": "markdown",
   "metadata": {},
   "source": [
    "1. 빼야할 데이터\n",
    "2. 숫자로 전환해야할 데이터\n",
    "3. 채워야할 데이터\n",
    "4. weather처럼 여러 값들이 들어 있는 데이터"
   ]
  },
  {
   "cell_type": "markdown",
   "metadata": {},
   "source": [
    "이런 데이터를 모델에 잘 제공하는 것이 관건이 된다"
   ]
  },
  {
   "cell_type": "code",
   "execution_count": 219,
   "metadata": {
    "collapsed": true
   },
   "outputs": [],
   "source": [
    "weather = pd.read_excel('data/weather.xlsx')"
   ]
  },
  {
   "cell_type": "code",
   "execution_count": 220,
   "metadata": {
    "collapsed": true
   },
   "outputs": [],
   "source": [
    "region = weather['location']"
   ]
  },
  {
   "cell_type": "code",
   "execution_count": 221,
   "metadata": {},
   "outputs": [
    {
     "data": {
      "text/plain": [
       "array(['seoul', 'suwon'], dtype=object)"
      ]
     },
     "execution_count": 221,
     "metadata": {},
     "output_type": "execute_result"
    }
   ],
   "source": [
    "np.unique(region)"
   ]
  },
  {
   "cell_type": "markdown",
   "metadata": {},
   "source": [
    "이런 범주형 변수를 seoul 0, 수원 1로 처리하면... 안 된다 (0 < 1) 이렇게 크기 비교가 될 수 있으면 곤란...\n",
    "\n",
    "서울과 수원에 수치적인 정도의 차이가 있다고 해석하면 안된다. \n",
    "\n",
    "벡터공간에서 완전히 다르게 분리가 되어야 한다"
   ]
  },
  {
   "cell_type": "markdown",
   "metadata": {},
   "source": [
    "원-핫-인코딩 (p273)"
   ]
  },
  {
   "cell_type": "code",
   "execution_count": 222,
   "metadata": {
    "collapsed": true
   },
   "outputs": [
    {
     "data": {
      "text/html": [
       "<div>\n",
       "<style>\n",
       "    .dataframe thead tr:only-child th {\n",
       "        text-align: right;\n",
       "    }\n",
       "\n",
       "    .dataframe thead th {\n",
       "        text-align: left;\n",
       "    }\n",
       "\n",
       "    .dataframe tbody tr th {\n",
       "        vertical-align: top;\n",
       "    }\n",
       "</style>\n",
       "<table border=\"1\" class=\"dataframe\">\n",
       "  <thead>\n",
       "    <tr style=\"text-align: right;\">\n",
       "      <th></th>\n",
       "      <th>seoul</th>\n",
       "      <th>suwon</th>\n",
       "    </tr>\n",
       "  </thead>\n",
       "  <tbody>\n",
       "    <tr>\n",
       "      <th>0</th>\n",
       "      <td>1</td>\n",
       "      <td>0</td>\n",
       "    </tr>\n",
       "    <tr>\n",
       "      <th>1</th>\n",
       "      <td>1</td>\n",
       "      <td>0</td>\n",
       "    </tr>\n",
       "    <tr>\n",
       "      <th>2</th>\n",
       "      <td>1</td>\n",
       "      <td>0</td>\n",
       "    </tr>\n",
       "    <tr>\n",
       "      <th>3</th>\n",
       "      <td>1</td>\n",
       "      <td>0</td>\n",
       "    </tr>\n",
       "    <tr>\n",
       "      <th>4</th>\n",
       "      <td>1</td>\n",
       "      <td>0</td>\n",
       "    </tr>\n",
       "    <tr>\n",
       "      <th>5</th>\n",
       "      <td>1</td>\n",
       "      <td>0</td>\n",
       "    </tr>\n",
       "    <tr>\n",
       "      <th>6</th>\n",
       "      <td>1</td>\n",
       "      <td>0</td>\n",
       "    </tr>\n",
       "    <tr>\n",
       "      <th>7</th>\n",
       "      <td>1</td>\n",
       "      <td>0</td>\n",
       "    </tr>\n",
       "    <tr>\n",
       "      <th>8</th>\n",
       "      <td>1</td>\n",
       "      <td>0</td>\n",
       "    </tr>\n",
       "    <tr>\n",
       "      <th>9</th>\n",
       "      <td>1</td>\n",
       "      <td>0</td>\n",
       "    </tr>\n",
       "    <tr>\n",
       "      <th>10</th>\n",
       "      <td>1</td>\n",
       "      <td>0</td>\n",
       "    </tr>\n",
       "    <tr>\n",
       "      <th>11</th>\n",
       "      <td>1</td>\n",
       "      <td>0</td>\n",
       "    </tr>\n",
       "    <tr>\n",
       "      <th>12</th>\n",
       "      <td>1</td>\n",
       "      <td>0</td>\n",
       "    </tr>\n",
       "    <tr>\n",
       "      <th>13</th>\n",
       "      <td>1</td>\n",
       "      <td>0</td>\n",
       "    </tr>\n",
       "    <tr>\n",
       "      <th>14</th>\n",
       "      <td>1</td>\n",
       "      <td>0</td>\n",
       "    </tr>\n",
       "    <tr>\n",
       "      <th>15</th>\n",
       "      <td>1</td>\n",
       "      <td>0</td>\n",
       "    </tr>\n",
       "    <tr>\n",
       "      <th>16</th>\n",
       "      <td>1</td>\n",
       "      <td>0</td>\n",
       "    </tr>\n",
       "    <tr>\n",
       "      <th>17</th>\n",
       "      <td>1</td>\n",
       "      <td>0</td>\n",
       "    </tr>\n",
       "    <tr>\n",
       "      <th>18</th>\n",
       "      <td>1</td>\n",
       "      <td>0</td>\n",
       "    </tr>\n",
       "    <tr>\n",
       "      <th>19</th>\n",
       "      <td>1</td>\n",
       "      <td>0</td>\n",
       "    </tr>\n",
       "    <tr>\n",
       "      <th>20</th>\n",
       "      <td>1</td>\n",
       "      <td>0</td>\n",
       "    </tr>\n",
       "    <tr>\n",
       "      <th>21</th>\n",
       "      <td>1</td>\n",
       "      <td>0</td>\n",
       "    </tr>\n",
       "    <tr>\n",
       "      <th>22</th>\n",
       "      <td>1</td>\n",
       "      <td>0</td>\n",
       "    </tr>\n",
       "    <tr>\n",
       "      <th>23</th>\n",
       "      <td>1</td>\n",
       "      <td>0</td>\n",
       "    </tr>\n",
       "    <tr>\n",
       "      <th>24</th>\n",
       "      <td>1</td>\n",
       "      <td>0</td>\n",
       "    </tr>\n",
       "    <tr>\n",
       "      <th>25</th>\n",
       "      <td>1</td>\n",
       "      <td>0</td>\n",
       "    </tr>\n",
       "    <tr>\n",
       "      <th>26</th>\n",
       "      <td>1</td>\n",
       "      <td>0</td>\n",
       "    </tr>\n",
       "    <tr>\n",
       "      <th>27</th>\n",
       "      <td>1</td>\n",
       "      <td>0</td>\n",
       "    </tr>\n",
       "    <tr>\n",
       "      <th>28</th>\n",
       "      <td>1</td>\n",
       "      <td>0</td>\n",
       "    </tr>\n",
       "    <tr>\n",
       "      <th>29</th>\n",
       "      <td>1</td>\n",
       "      <td>0</td>\n",
       "    </tr>\n",
       "    <tr>\n",
       "      <th>...</th>\n",
       "      <td>...</td>\n",
       "      <td>...</td>\n",
       "    </tr>\n",
       "    <tr>\n",
       "      <th>1430</th>\n",
       "      <td>0</td>\n",
       "      <td>1</td>\n",
       "    </tr>\n",
       "    <tr>\n",
       "      <th>1431</th>\n",
       "      <td>0</td>\n",
       "      <td>1</td>\n",
       "    </tr>\n",
       "    <tr>\n",
       "      <th>1432</th>\n",
       "      <td>0</td>\n",
       "      <td>1</td>\n",
       "    </tr>\n",
       "    <tr>\n",
       "      <th>1433</th>\n",
       "      <td>0</td>\n",
       "      <td>1</td>\n",
       "    </tr>\n",
       "    <tr>\n",
       "      <th>1434</th>\n",
       "      <td>0</td>\n",
       "      <td>1</td>\n",
       "    </tr>\n",
       "    <tr>\n",
       "      <th>1435</th>\n",
       "      <td>0</td>\n",
       "      <td>1</td>\n",
       "    </tr>\n",
       "    <tr>\n",
       "      <th>1436</th>\n",
       "      <td>0</td>\n",
       "      <td>1</td>\n",
       "    </tr>\n",
       "    <tr>\n",
       "      <th>1437</th>\n",
       "      <td>0</td>\n",
       "      <td>1</td>\n",
       "    </tr>\n",
       "    <tr>\n",
       "      <th>1438</th>\n",
       "      <td>0</td>\n",
       "      <td>1</td>\n",
       "    </tr>\n",
       "    <tr>\n",
       "      <th>1439</th>\n",
       "      <td>0</td>\n",
       "      <td>1</td>\n",
       "    </tr>\n",
       "    <tr>\n",
       "      <th>1440</th>\n",
       "      <td>0</td>\n",
       "      <td>1</td>\n",
       "    </tr>\n",
       "    <tr>\n",
       "      <th>1441</th>\n",
       "      <td>0</td>\n",
       "      <td>1</td>\n",
       "    </tr>\n",
       "    <tr>\n",
       "      <th>1442</th>\n",
       "      <td>0</td>\n",
       "      <td>1</td>\n",
       "    </tr>\n",
       "    <tr>\n",
       "      <th>1443</th>\n",
       "      <td>0</td>\n",
       "      <td>1</td>\n",
       "    </tr>\n",
       "    <tr>\n",
       "      <th>1444</th>\n",
       "      <td>0</td>\n",
       "      <td>1</td>\n",
       "    </tr>\n",
       "    <tr>\n",
       "      <th>1445</th>\n",
       "      <td>0</td>\n",
       "      <td>1</td>\n",
       "    </tr>\n",
       "    <tr>\n",
       "      <th>1446</th>\n",
       "      <td>0</td>\n",
       "      <td>1</td>\n",
       "    </tr>\n",
       "    <tr>\n",
       "      <th>1447</th>\n",
       "      <td>0</td>\n",
       "      <td>1</td>\n",
       "    </tr>\n",
       "    <tr>\n",
       "      <th>1448</th>\n",
       "      <td>0</td>\n",
       "      <td>1</td>\n",
       "    </tr>\n",
       "    <tr>\n",
       "      <th>1449</th>\n",
       "      <td>0</td>\n",
       "      <td>1</td>\n",
       "    </tr>\n",
       "    <tr>\n",
       "      <th>1450</th>\n",
       "      <td>0</td>\n",
       "      <td>1</td>\n",
       "    </tr>\n",
       "    <tr>\n",
       "      <th>1451</th>\n",
       "      <td>0</td>\n",
       "      <td>1</td>\n",
       "    </tr>\n",
       "    <tr>\n",
       "      <th>1452</th>\n",
       "      <td>0</td>\n",
       "      <td>1</td>\n",
       "    </tr>\n",
       "    <tr>\n",
       "      <th>1453</th>\n",
       "      <td>0</td>\n",
       "      <td>1</td>\n",
       "    </tr>\n",
       "    <tr>\n",
       "      <th>1454</th>\n",
       "      <td>0</td>\n",
       "      <td>1</td>\n",
       "    </tr>\n",
       "    <tr>\n",
       "      <th>1455</th>\n",
       "      <td>0</td>\n",
       "      <td>1</td>\n",
       "    </tr>\n",
       "    <tr>\n",
       "      <th>1456</th>\n",
       "      <td>0</td>\n",
       "      <td>1</td>\n",
       "    </tr>\n",
       "    <tr>\n",
       "      <th>1457</th>\n",
       "      <td>0</td>\n",
       "      <td>1</td>\n",
       "    </tr>\n",
       "    <tr>\n",
       "      <th>1458</th>\n",
       "      <td>0</td>\n",
       "      <td>1</td>\n",
       "    </tr>\n",
       "    <tr>\n",
       "      <th>1459</th>\n",
       "      <td>0</td>\n",
       "      <td>1</td>\n",
       "    </tr>\n",
       "  </tbody>\n",
       "</table>\n",
       "<p>1460 rows × 2 columns</p>\n",
       "</div>"
      ],
      "text/plain": [
       "      seoul  suwon\n",
       "0         1      0\n",
       "1         1      0\n",
       "2         1      0\n",
       "3         1      0\n",
       "4         1      0\n",
       "5         1      0\n",
       "6         1      0\n",
       "7         1      0\n",
       "8         1      0\n",
       "9         1      0\n",
       "10        1      0\n",
       "11        1      0\n",
       "12        1      0\n",
       "13        1      0\n",
       "14        1      0\n",
       "15        1      0\n",
       "16        1      0\n",
       "17        1      0\n",
       "18        1      0\n",
       "19        1      0\n",
       "20        1      0\n",
       "21        1      0\n",
       "22        1      0\n",
       "23        1      0\n",
       "24        1      0\n",
       "25        1      0\n",
       "26        1      0\n",
       "27        1      0\n",
       "28        1      0\n",
       "29        1      0\n",
       "...     ...    ...\n",
       "1430      0      1\n",
       "1431      0      1\n",
       "1432      0      1\n",
       "1433      0      1\n",
       "1434      0      1\n",
       "1435      0      1\n",
       "1436      0      1\n",
       "1437      0      1\n",
       "1438      0      1\n",
       "1439      0      1\n",
       "1440      0      1\n",
       "1441      0      1\n",
       "1442      0      1\n",
       "1443      0      1\n",
       "1444      0      1\n",
       "1445      0      1\n",
       "1446      0      1\n",
       "1447      0      1\n",
       "1448      0      1\n",
       "1449      0      1\n",
       "1450      0      1\n",
       "1451      0      1\n",
       "1452      0      1\n",
       "1453      0      1\n",
       "1454      0      1\n",
       "1455      0      1\n",
       "1456      0      1\n",
       "1457      0      1\n",
       "1458      0      1\n",
       "1459      0      1\n",
       "\n",
       "[1460 rows x 2 columns]"
      ]
     },
     "execution_count": 222,
     "metadata": {},
     "output_type": "execute_result"
    }
   ],
   "source": [
    "pd.get_dummies(region)"
   ]
  },
  {
   "cell_type": "code",
   "execution_count": 223,
   "metadata": {},
   "outputs": [
    {
     "data": {
      "text/html": [
       "<div>\n",
       "<style>\n",
       "    .dataframe thead tr:only-child th {\n",
       "        text-align: right;\n",
       "    }\n",
       "\n",
       "    .dataframe thead th {\n",
       "        text-align: left;\n",
       "    }\n",
       "\n",
       "    .dataframe tbody tr th {\n",
       "        vertical-align: top;\n",
       "    }\n",
       "</style>\n",
       "<table border=\"1\" class=\"dataframe\">\n",
       "  <thead>\n",
       "    <tr style=\"text-align: right;\">\n",
       "      <th></th>\n",
       "      <th>location</th>\n",
       "      <th>date</th>\n",
       "      <th>weekDay</th>\n",
       "      <th>avgTemp</th>\n",
       "      <th>highestTemp</th>\n",
       "      <th>lowestTemp</th>\n",
       "      <th>precipitation</th>\n",
       "      <th>snow</th>\n",
       "      <th>windSpeed</th>\n",
       "      <th>humidity</th>\n",
       "      <th>cloud</th>\n",
       "      <th>dayTime</th>\n",
       "      <th>weather</th>\n",
       "    </tr>\n",
       "  </thead>\n",
       "  <tbody>\n",
       "    <tr>\n",
       "      <th>0</th>\n",
       "      <td>seoul</td>\n",
       "      <td>2013-08-01</td>\n",
       "      <td>thur</td>\n",
       "      <td>28.0</td>\n",
       "      <td>32.1</td>\n",
       "      <td>24.5</td>\n",
       "      <td>-</td>\n",
       "      <td>-</td>\n",
       "      <td>1.8</td>\n",
       "      <td>66</td>\n",
       "      <td>7.1</td>\n",
       "      <td>6.0</td>\n",
       "      <td>구름많음</td>\n",
       "    </tr>\n",
       "    <tr>\n",
       "      <th>1</th>\n",
       "      <td>seoul</td>\n",
       "      <td>2013-08-02</td>\n",
       "      <td>fri</td>\n",
       "      <td>27.4</td>\n",
       "      <td>29.3</td>\n",
       "      <td>25.2</td>\n",
       "      <td>7.5</td>\n",
       "      <td>-</td>\n",
       "      <td>2.1</td>\n",
       "      <td>79</td>\n",
       "      <td>9.1</td>\n",
       "      <td>0.9</td>\n",
       "      <td>흐림/안개/비</td>\n",
       "    </tr>\n",
       "    <tr>\n",
       "      <th>2</th>\n",
       "      <td>seoul</td>\n",
       "      <td>2013-08-03</td>\n",
       "      <td>sat</td>\n",
       "      <td>28.9</td>\n",
       "      <td>32.6</td>\n",
       "      <td>26.7</td>\n",
       "      <td>0.1</td>\n",
       "      <td>-</td>\n",
       "      <td>3.6</td>\n",
       "      <td>72</td>\n",
       "      <td>8.1</td>\n",
       "      <td>8.9</td>\n",
       "      <td>흐림/소나기</td>\n",
       "    </tr>\n",
       "    <tr>\n",
       "      <th>3</th>\n",
       "      <td>seoul</td>\n",
       "      <td>2013-08-04</td>\n",
       "      <td>sun</td>\n",
       "      <td>28.3</td>\n",
       "      <td>31.3</td>\n",
       "      <td>26.4</td>\n",
       "      <td>4.5</td>\n",
       "      <td>-</td>\n",
       "      <td>2.5</td>\n",
       "      <td>76</td>\n",
       "      <td>8.0</td>\n",
       "      <td>4.7</td>\n",
       "      <td>흐림/소나기/안개</td>\n",
       "    </tr>\n",
       "    <tr>\n",
       "      <th>4</th>\n",
       "      <td>seoul</td>\n",
       "      <td>2013-08-05</td>\n",
       "      <td>mon</td>\n",
       "      <td>27.7</td>\n",
       "      <td>30.1</td>\n",
       "      <td>26.4</td>\n",
       "      <td>7</td>\n",
       "      <td>-</td>\n",
       "      <td>3.3</td>\n",
       "      <td>78</td>\n",
       "      <td>7.0</td>\n",
       "      <td>4.5</td>\n",
       "      <td>구름많음/안개/천둥번개/비</td>\n",
       "    </tr>\n",
       "  </tbody>\n",
       "</table>\n",
       "</div>"
      ],
      "text/plain": [
       "  location       date weekDay  avgTemp  highestTemp  lowestTemp precipitation  \\\n",
       "0    seoul 2013-08-01    thur     28.0         32.1        24.5             -   \n",
       "1    seoul 2013-08-02     fri     27.4         29.3        25.2           7.5   \n",
       "2    seoul 2013-08-03     sat     28.9         32.6        26.7           0.1   \n",
       "3    seoul 2013-08-04     sun     28.3         31.3        26.4           4.5   \n",
       "4    seoul 2013-08-05     mon     27.7         30.1        26.4             7   \n",
       "\n",
       "  snow  windSpeed  humidity  cloud  dayTime         weather  \n",
       "0    -        1.8        66    7.1      6.0            구름많음  \n",
       "1    -        2.1        79    9.1      0.9         흐림/안개/비  \n",
       "2    -        3.6        72    8.1      8.9          흐림/소나기  \n",
       "3    -        2.5        76    8.0      4.7       흐림/소나기/안개  \n",
       "4    -        3.3        78    7.0      4.5  구름많음/안개/천둥번개/비  "
      ]
     },
     "execution_count": 223,
     "metadata": {},
     "output_type": "execute_result"
    }
   ],
   "source": [
    "weather[:5]"
   ]
  },
  {
   "cell_type": "markdown",
   "metadata": {},
   "source": [
    "1. 빼는 특질 - weekday\n",
    "2. 그냥 쓰기에 문제가 있는 특질 - date (월정도는 분리를 해야하지 않을까?) --> 이런 논의를 도메인전문가와 정하기\n",
    "3. 누락된 데이터 (강수량 : precipitation)\n",
    "\n",
    "전문가의 지식을 활용하는 것 (p311) --> 분야 전문가의 관점으로 feeding하는 데이터를 구성해야 한다\n",
    " - SVM을 사용해서 성능을 내는 것 (이제는 많은 사람이 할 수 있는 것)\n",
    " - 분석할 데이터를 구성하는 것 (전문가에 의해서 성과가 날 수 있는 부분)"
   ]
  },
  {
   "cell_type": "markdown",
   "metadata": {},
   "source": [
    "date열에서 월 정보 추출 (전문가 지식 활용)"
   ]
  },
  {
   "cell_type": "code",
   "execution_count": 226,
   "metadata": {
    "collapsed": true
   },
   "outputs": [],
   "source": [
    "mon = weather['date'].map(lambda 날짜: 날짜.month)  # pandas의 지식이 필요한 부분"
   ]
  },
  {
   "cell_type": "code",
   "execution_count": 225,
   "metadata": {},
   "outputs": [
    {
     "data": {
      "text/plain": [
       "array([ 1,  2,  3,  4,  5,  6,  7,  8,  9, 10, 11, 12], dtype=int64)"
      ]
     },
     "execution_count": 225,
     "metadata": {},
     "output_type": "execute_result"
    }
   ],
   "source": [
    "np.unique(mon)"
   ]
  },
  {
   "cell_type": "markdown",
   "metadata": {},
   "source": [
    "월 데이터는 숫자이지만... 숫자가 아니다 (명목형 정보이다) -> 원핫인코딩이 필요 <-- 전문가의 판단이 필요함\n",
    "\n",
    "12 다음에 13이 아니고, 1이 되는 것..."
   ]
  },
  {
   "cell_type": "code",
   "execution_count": 228,
   "metadata": {
    "collapsed": true
   },
   "outputs": [
    {
     "data": {
      "text/html": [
       "<div>\n",
       "<style>\n",
       "    .dataframe thead tr:only-child th {\n",
       "        text-align: right;\n",
       "    }\n",
       "\n",
       "    .dataframe thead th {\n",
       "        text-align: left;\n",
       "    }\n",
       "\n",
       "    .dataframe tbody tr th {\n",
       "        vertical-align: top;\n",
       "    }\n",
       "</style>\n",
       "<table border=\"1\" class=\"dataframe\">\n",
       "  <thead>\n",
       "    <tr style=\"text-align: right;\">\n",
       "      <th></th>\n",
       "      <th>1</th>\n",
       "      <th>2</th>\n",
       "      <th>3</th>\n",
       "      <th>4</th>\n",
       "      <th>5</th>\n",
       "      <th>6</th>\n",
       "      <th>7</th>\n",
       "      <th>8</th>\n",
       "      <th>9</th>\n",
       "      <th>10</th>\n",
       "      <th>11</th>\n",
       "      <th>12</th>\n",
       "    </tr>\n",
       "  </thead>\n",
       "  <tbody>\n",
       "    <tr>\n",
       "      <th>0</th>\n",
       "      <td>0</td>\n",
       "      <td>0</td>\n",
       "      <td>0</td>\n",
       "      <td>0</td>\n",
       "      <td>0</td>\n",
       "      <td>0</td>\n",
       "      <td>0</td>\n",
       "      <td>1</td>\n",
       "      <td>0</td>\n",
       "      <td>0</td>\n",
       "      <td>0</td>\n",
       "      <td>0</td>\n",
       "    </tr>\n",
       "    <tr>\n",
       "      <th>1</th>\n",
       "      <td>0</td>\n",
       "      <td>0</td>\n",
       "      <td>0</td>\n",
       "      <td>0</td>\n",
       "      <td>0</td>\n",
       "      <td>0</td>\n",
       "      <td>0</td>\n",
       "      <td>1</td>\n",
       "      <td>0</td>\n",
       "      <td>0</td>\n",
       "      <td>0</td>\n",
       "      <td>0</td>\n",
       "    </tr>\n",
       "    <tr>\n",
       "      <th>2</th>\n",
       "      <td>0</td>\n",
       "      <td>0</td>\n",
       "      <td>0</td>\n",
       "      <td>0</td>\n",
       "      <td>0</td>\n",
       "      <td>0</td>\n",
       "      <td>0</td>\n",
       "      <td>1</td>\n",
       "      <td>0</td>\n",
       "      <td>0</td>\n",
       "      <td>0</td>\n",
       "      <td>0</td>\n",
       "    </tr>\n",
       "    <tr>\n",
       "      <th>3</th>\n",
       "      <td>0</td>\n",
       "      <td>0</td>\n",
       "      <td>0</td>\n",
       "      <td>0</td>\n",
       "      <td>0</td>\n",
       "      <td>0</td>\n",
       "      <td>0</td>\n",
       "      <td>1</td>\n",
       "      <td>0</td>\n",
       "      <td>0</td>\n",
       "      <td>0</td>\n",
       "      <td>0</td>\n",
       "    </tr>\n",
       "    <tr>\n",
       "      <th>4</th>\n",
       "      <td>0</td>\n",
       "      <td>0</td>\n",
       "      <td>0</td>\n",
       "      <td>0</td>\n",
       "      <td>0</td>\n",
       "      <td>0</td>\n",
       "      <td>0</td>\n",
       "      <td>1</td>\n",
       "      <td>0</td>\n",
       "      <td>0</td>\n",
       "      <td>0</td>\n",
       "      <td>0</td>\n",
       "    </tr>\n",
       "    <tr>\n",
       "      <th>5</th>\n",
       "      <td>0</td>\n",
       "      <td>0</td>\n",
       "      <td>0</td>\n",
       "      <td>0</td>\n",
       "      <td>0</td>\n",
       "      <td>0</td>\n",
       "      <td>0</td>\n",
       "      <td>1</td>\n",
       "      <td>0</td>\n",
       "      <td>0</td>\n",
       "      <td>0</td>\n",
       "      <td>0</td>\n",
       "    </tr>\n",
       "    <tr>\n",
       "      <th>6</th>\n",
       "      <td>0</td>\n",
       "      <td>0</td>\n",
       "      <td>0</td>\n",
       "      <td>0</td>\n",
       "      <td>0</td>\n",
       "      <td>0</td>\n",
       "      <td>0</td>\n",
       "      <td>1</td>\n",
       "      <td>0</td>\n",
       "      <td>0</td>\n",
       "      <td>0</td>\n",
       "      <td>0</td>\n",
       "    </tr>\n",
       "    <tr>\n",
       "      <th>7</th>\n",
       "      <td>0</td>\n",
       "      <td>0</td>\n",
       "      <td>0</td>\n",
       "      <td>0</td>\n",
       "      <td>0</td>\n",
       "      <td>0</td>\n",
       "      <td>0</td>\n",
       "      <td>1</td>\n",
       "      <td>0</td>\n",
       "      <td>0</td>\n",
       "      <td>0</td>\n",
       "      <td>0</td>\n",
       "    </tr>\n",
       "    <tr>\n",
       "      <th>8</th>\n",
       "      <td>0</td>\n",
       "      <td>0</td>\n",
       "      <td>0</td>\n",
       "      <td>0</td>\n",
       "      <td>0</td>\n",
       "      <td>0</td>\n",
       "      <td>0</td>\n",
       "      <td>1</td>\n",
       "      <td>0</td>\n",
       "      <td>0</td>\n",
       "      <td>0</td>\n",
       "      <td>0</td>\n",
       "    </tr>\n",
       "    <tr>\n",
       "      <th>9</th>\n",
       "      <td>0</td>\n",
       "      <td>0</td>\n",
       "      <td>0</td>\n",
       "      <td>0</td>\n",
       "      <td>0</td>\n",
       "      <td>0</td>\n",
       "      <td>0</td>\n",
       "      <td>1</td>\n",
       "      <td>0</td>\n",
       "      <td>0</td>\n",
       "      <td>0</td>\n",
       "      <td>0</td>\n",
       "    </tr>\n",
       "    <tr>\n",
       "      <th>10</th>\n",
       "      <td>0</td>\n",
       "      <td>0</td>\n",
       "      <td>0</td>\n",
       "      <td>0</td>\n",
       "      <td>0</td>\n",
       "      <td>0</td>\n",
       "      <td>0</td>\n",
       "      <td>1</td>\n",
       "      <td>0</td>\n",
       "      <td>0</td>\n",
       "      <td>0</td>\n",
       "      <td>0</td>\n",
       "    </tr>\n",
       "    <tr>\n",
       "      <th>11</th>\n",
       "      <td>0</td>\n",
       "      <td>0</td>\n",
       "      <td>0</td>\n",
       "      <td>0</td>\n",
       "      <td>0</td>\n",
       "      <td>0</td>\n",
       "      <td>0</td>\n",
       "      <td>1</td>\n",
       "      <td>0</td>\n",
       "      <td>0</td>\n",
       "      <td>0</td>\n",
       "      <td>0</td>\n",
       "    </tr>\n",
       "    <tr>\n",
       "      <th>12</th>\n",
       "      <td>0</td>\n",
       "      <td>0</td>\n",
       "      <td>0</td>\n",
       "      <td>0</td>\n",
       "      <td>0</td>\n",
       "      <td>0</td>\n",
       "      <td>0</td>\n",
       "      <td>1</td>\n",
       "      <td>0</td>\n",
       "      <td>0</td>\n",
       "      <td>0</td>\n",
       "      <td>0</td>\n",
       "    </tr>\n",
       "    <tr>\n",
       "      <th>13</th>\n",
       "      <td>0</td>\n",
       "      <td>0</td>\n",
       "      <td>0</td>\n",
       "      <td>0</td>\n",
       "      <td>0</td>\n",
       "      <td>0</td>\n",
       "      <td>0</td>\n",
       "      <td>1</td>\n",
       "      <td>0</td>\n",
       "      <td>0</td>\n",
       "      <td>0</td>\n",
       "      <td>0</td>\n",
       "    </tr>\n",
       "    <tr>\n",
       "      <th>14</th>\n",
       "      <td>0</td>\n",
       "      <td>0</td>\n",
       "      <td>0</td>\n",
       "      <td>0</td>\n",
       "      <td>0</td>\n",
       "      <td>0</td>\n",
       "      <td>0</td>\n",
       "      <td>1</td>\n",
       "      <td>0</td>\n",
       "      <td>0</td>\n",
       "      <td>0</td>\n",
       "      <td>0</td>\n",
       "    </tr>\n",
       "    <tr>\n",
       "      <th>15</th>\n",
       "      <td>0</td>\n",
       "      <td>0</td>\n",
       "      <td>0</td>\n",
       "      <td>0</td>\n",
       "      <td>0</td>\n",
       "      <td>0</td>\n",
       "      <td>0</td>\n",
       "      <td>1</td>\n",
       "      <td>0</td>\n",
       "      <td>0</td>\n",
       "      <td>0</td>\n",
       "      <td>0</td>\n",
       "    </tr>\n",
       "    <tr>\n",
       "      <th>16</th>\n",
       "      <td>0</td>\n",
       "      <td>0</td>\n",
       "      <td>0</td>\n",
       "      <td>0</td>\n",
       "      <td>0</td>\n",
       "      <td>0</td>\n",
       "      <td>0</td>\n",
       "      <td>1</td>\n",
       "      <td>0</td>\n",
       "      <td>0</td>\n",
       "      <td>0</td>\n",
       "      <td>0</td>\n",
       "    </tr>\n",
       "    <tr>\n",
       "      <th>17</th>\n",
       "      <td>0</td>\n",
       "      <td>0</td>\n",
       "      <td>0</td>\n",
       "      <td>0</td>\n",
       "      <td>0</td>\n",
       "      <td>0</td>\n",
       "      <td>0</td>\n",
       "      <td>1</td>\n",
       "      <td>0</td>\n",
       "      <td>0</td>\n",
       "      <td>0</td>\n",
       "      <td>0</td>\n",
       "    </tr>\n",
       "    <tr>\n",
       "      <th>18</th>\n",
       "      <td>0</td>\n",
       "      <td>0</td>\n",
       "      <td>0</td>\n",
       "      <td>0</td>\n",
       "      <td>0</td>\n",
       "      <td>0</td>\n",
       "      <td>0</td>\n",
       "      <td>1</td>\n",
       "      <td>0</td>\n",
       "      <td>0</td>\n",
       "      <td>0</td>\n",
       "      <td>0</td>\n",
       "    </tr>\n",
       "    <tr>\n",
       "      <th>19</th>\n",
       "      <td>0</td>\n",
       "      <td>0</td>\n",
       "      <td>0</td>\n",
       "      <td>0</td>\n",
       "      <td>0</td>\n",
       "      <td>0</td>\n",
       "      <td>0</td>\n",
       "      <td>1</td>\n",
       "      <td>0</td>\n",
       "      <td>0</td>\n",
       "      <td>0</td>\n",
       "      <td>0</td>\n",
       "    </tr>\n",
       "    <tr>\n",
       "      <th>20</th>\n",
       "      <td>0</td>\n",
       "      <td>0</td>\n",
       "      <td>0</td>\n",
       "      <td>0</td>\n",
       "      <td>0</td>\n",
       "      <td>0</td>\n",
       "      <td>0</td>\n",
       "      <td>1</td>\n",
       "      <td>0</td>\n",
       "      <td>0</td>\n",
       "      <td>0</td>\n",
       "      <td>0</td>\n",
       "    </tr>\n",
       "    <tr>\n",
       "      <th>21</th>\n",
       "      <td>0</td>\n",
       "      <td>0</td>\n",
       "      <td>0</td>\n",
       "      <td>0</td>\n",
       "      <td>0</td>\n",
       "      <td>0</td>\n",
       "      <td>0</td>\n",
       "      <td>1</td>\n",
       "      <td>0</td>\n",
       "      <td>0</td>\n",
       "      <td>0</td>\n",
       "      <td>0</td>\n",
       "    </tr>\n",
       "    <tr>\n",
       "      <th>22</th>\n",
       "      <td>0</td>\n",
       "      <td>0</td>\n",
       "      <td>0</td>\n",
       "      <td>0</td>\n",
       "      <td>0</td>\n",
       "      <td>0</td>\n",
       "      <td>0</td>\n",
       "      <td>1</td>\n",
       "      <td>0</td>\n",
       "      <td>0</td>\n",
       "      <td>0</td>\n",
       "      <td>0</td>\n",
       "    </tr>\n",
       "    <tr>\n",
       "      <th>23</th>\n",
       "      <td>0</td>\n",
       "      <td>0</td>\n",
       "      <td>0</td>\n",
       "      <td>0</td>\n",
       "      <td>0</td>\n",
       "      <td>0</td>\n",
       "      <td>0</td>\n",
       "      <td>1</td>\n",
       "      <td>0</td>\n",
       "      <td>0</td>\n",
       "      <td>0</td>\n",
       "      <td>0</td>\n",
       "    </tr>\n",
       "    <tr>\n",
       "      <th>24</th>\n",
       "      <td>0</td>\n",
       "      <td>0</td>\n",
       "      <td>0</td>\n",
       "      <td>0</td>\n",
       "      <td>0</td>\n",
       "      <td>0</td>\n",
       "      <td>0</td>\n",
       "      <td>1</td>\n",
       "      <td>0</td>\n",
       "      <td>0</td>\n",
       "      <td>0</td>\n",
       "      <td>0</td>\n",
       "    </tr>\n",
       "    <tr>\n",
       "      <th>25</th>\n",
       "      <td>0</td>\n",
       "      <td>0</td>\n",
       "      <td>0</td>\n",
       "      <td>0</td>\n",
       "      <td>0</td>\n",
       "      <td>0</td>\n",
       "      <td>0</td>\n",
       "      <td>1</td>\n",
       "      <td>0</td>\n",
       "      <td>0</td>\n",
       "      <td>0</td>\n",
       "      <td>0</td>\n",
       "    </tr>\n",
       "    <tr>\n",
       "      <th>26</th>\n",
       "      <td>0</td>\n",
       "      <td>0</td>\n",
       "      <td>0</td>\n",
       "      <td>0</td>\n",
       "      <td>0</td>\n",
       "      <td>0</td>\n",
       "      <td>0</td>\n",
       "      <td>1</td>\n",
       "      <td>0</td>\n",
       "      <td>0</td>\n",
       "      <td>0</td>\n",
       "      <td>0</td>\n",
       "    </tr>\n",
       "    <tr>\n",
       "      <th>27</th>\n",
       "      <td>0</td>\n",
       "      <td>0</td>\n",
       "      <td>0</td>\n",
       "      <td>0</td>\n",
       "      <td>0</td>\n",
       "      <td>0</td>\n",
       "      <td>0</td>\n",
       "      <td>1</td>\n",
       "      <td>0</td>\n",
       "      <td>0</td>\n",
       "      <td>0</td>\n",
       "      <td>0</td>\n",
       "    </tr>\n",
       "    <tr>\n",
       "      <th>28</th>\n",
       "      <td>0</td>\n",
       "      <td>0</td>\n",
       "      <td>0</td>\n",
       "      <td>0</td>\n",
       "      <td>0</td>\n",
       "      <td>0</td>\n",
       "      <td>0</td>\n",
       "      <td>1</td>\n",
       "      <td>0</td>\n",
       "      <td>0</td>\n",
       "      <td>0</td>\n",
       "      <td>0</td>\n",
       "    </tr>\n",
       "    <tr>\n",
       "      <th>29</th>\n",
       "      <td>0</td>\n",
       "      <td>0</td>\n",
       "      <td>0</td>\n",
       "      <td>0</td>\n",
       "      <td>0</td>\n",
       "      <td>0</td>\n",
       "      <td>0</td>\n",
       "      <td>1</td>\n",
       "      <td>0</td>\n",
       "      <td>0</td>\n",
       "      <td>0</td>\n",
       "      <td>0</td>\n",
       "    </tr>\n",
       "    <tr>\n",
       "      <th>...</th>\n",
       "      <td>...</td>\n",
       "      <td>...</td>\n",
       "      <td>...</td>\n",
       "      <td>...</td>\n",
       "      <td>...</td>\n",
       "      <td>...</td>\n",
       "      <td>...</td>\n",
       "      <td>...</td>\n",
       "      <td>...</td>\n",
       "      <td>...</td>\n",
       "      <td>...</td>\n",
       "      <td>...</td>\n",
       "    </tr>\n",
       "    <tr>\n",
       "      <th>1430</th>\n",
       "      <td>0</td>\n",
       "      <td>0</td>\n",
       "      <td>0</td>\n",
       "      <td>0</td>\n",
       "      <td>0</td>\n",
       "      <td>0</td>\n",
       "      <td>1</td>\n",
       "      <td>0</td>\n",
       "      <td>0</td>\n",
       "      <td>0</td>\n",
       "      <td>0</td>\n",
       "      <td>0</td>\n",
       "    </tr>\n",
       "    <tr>\n",
       "      <th>1431</th>\n",
       "      <td>0</td>\n",
       "      <td>0</td>\n",
       "      <td>0</td>\n",
       "      <td>0</td>\n",
       "      <td>0</td>\n",
       "      <td>0</td>\n",
       "      <td>1</td>\n",
       "      <td>0</td>\n",
       "      <td>0</td>\n",
       "      <td>0</td>\n",
       "      <td>0</td>\n",
       "      <td>0</td>\n",
       "    </tr>\n",
       "    <tr>\n",
       "      <th>1432</th>\n",
       "      <td>0</td>\n",
       "      <td>0</td>\n",
       "      <td>0</td>\n",
       "      <td>0</td>\n",
       "      <td>0</td>\n",
       "      <td>0</td>\n",
       "      <td>1</td>\n",
       "      <td>0</td>\n",
       "      <td>0</td>\n",
       "      <td>0</td>\n",
       "      <td>0</td>\n",
       "      <td>0</td>\n",
       "    </tr>\n",
       "    <tr>\n",
       "      <th>1433</th>\n",
       "      <td>0</td>\n",
       "      <td>0</td>\n",
       "      <td>0</td>\n",
       "      <td>0</td>\n",
       "      <td>0</td>\n",
       "      <td>0</td>\n",
       "      <td>1</td>\n",
       "      <td>0</td>\n",
       "      <td>0</td>\n",
       "      <td>0</td>\n",
       "      <td>0</td>\n",
       "      <td>0</td>\n",
       "    </tr>\n",
       "    <tr>\n",
       "      <th>1434</th>\n",
       "      <td>0</td>\n",
       "      <td>0</td>\n",
       "      <td>0</td>\n",
       "      <td>0</td>\n",
       "      <td>0</td>\n",
       "      <td>0</td>\n",
       "      <td>1</td>\n",
       "      <td>0</td>\n",
       "      <td>0</td>\n",
       "      <td>0</td>\n",
       "      <td>0</td>\n",
       "      <td>0</td>\n",
       "    </tr>\n",
       "    <tr>\n",
       "      <th>1435</th>\n",
       "      <td>0</td>\n",
       "      <td>0</td>\n",
       "      <td>0</td>\n",
       "      <td>0</td>\n",
       "      <td>0</td>\n",
       "      <td>0</td>\n",
       "      <td>1</td>\n",
       "      <td>0</td>\n",
       "      <td>0</td>\n",
       "      <td>0</td>\n",
       "      <td>0</td>\n",
       "      <td>0</td>\n",
       "    </tr>\n",
       "    <tr>\n",
       "      <th>1436</th>\n",
       "      <td>0</td>\n",
       "      <td>0</td>\n",
       "      <td>0</td>\n",
       "      <td>0</td>\n",
       "      <td>0</td>\n",
       "      <td>0</td>\n",
       "      <td>1</td>\n",
       "      <td>0</td>\n",
       "      <td>0</td>\n",
       "      <td>0</td>\n",
       "      <td>0</td>\n",
       "      <td>0</td>\n",
       "    </tr>\n",
       "    <tr>\n",
       "      <th>1437</th>\n",
       "      <td>0</td>\n",
       "      <td>0</td>\n",
       "      <td>0</td>\n",
       "      <td>0</td>\n",
       "      <td>0</td>\n",
       "      <td>0</td>\n",
       "      <td>1</td>\n",
       "      <td>0</td>\n",
       "      <td>0</td>\n",
       "      <td>0</td>\n",
       "      <td>0</td>\n",
       "      <td>0</td>\n",
       "    </tr>\n",
       "    <tr>\n",
       "      <th>1438</th>\n",
       "      <td>0</td>\n",
       "      <td>0</td>\n",
       "      <td>0</td>\n",
       "      <td>0</td>\n",
       "      <td>0</td>\n",
       "      <td>0</td>\n",
       "      <td>1</td>\n",
       "      <td>0</td>\n",
       "      <td>0</td>\n",
       "      <td>0</td>\n",
       "      <td>0</td>\n",
       "      <td>0</td>\n",
       "    </tr>\n",
       "    <tr>\n",
       "      <th>1439</th>\n",
       "      <td>0</td>\n",
       "      <td>0</td>\n",
       "      <td>0</td>\n",
       "      <td>0</td>\n",
       "      <td>0</td>\n",
       "      <td>0</td>\n",
       "      <td>1</td>\n",
       "      <td>0</td>\n",
       "      <td>0</td>\n",
       "      <td>0</td>\n",
       "      <td>0</td>\n",
       "      <td>0</td>\n",
       "    </tr>\n",
       "    <tr>\n",
       "      <th>1440</th>\n",
       "      <td>0</td>\n",
       "      <td>0</td>\n",
       "      <td>0</td>\n",
       "      <td>0</td>\n",
       "      <td>0</td>\n",
       "      <td>0</td>\n",
       "      <td>1</td>\n",
       "      <td>0</td>\n",
       "      <td>0</td>\n",
       "      <td>0</td>\n",
       "      <td>0</td>\n",
       "      <td>0</td>\n",
       "    </tr>\n",
       "    <tr>\n",
       "      <th>1441</th>\n",
       "      <td>0</td>\n",
       "      <td>0</td>\n",
       "      <td>0</td>\n",
       "      <td>0</td>\n",
       "      <td>0</td>\n",
       "      <td>0</td>\n",
       "      <td>1</td>\n",
       "      <td>0</td>\n",
       "      <td>0</td>\n",
       "      <td>0</td>\n",
       "      <td>0</td>\n",
       "      <td>0</td>\n",
       "    </tr>\n",
       "    <tr>\n",
       "      <th>1442</th>\n",
       "      <td>0</td>\n",
       "      <td>0</td>\n",
       "      <td>0</td>\n",
       "      <td>0</td>\n",
       "      <td>0</td>\n",
       "      <td>0</td>\n",
       "      <td>1</td>\n",
       "      <td>0</td>\n",
       "      <td>0</td>\n",
       "      <td>0</td>\n",
       "      <td>0</td>\n",
       "      <td>0</td>\n",
       "    </tr>\n",
       "    <tr>\n",
       "      <th>1443</th>\n",
       "      <td>0</td>\n",
       "      <td>0</td>\n",
       "      <td>0</td>\n",
       "      <td>0</td>\n",
       "      <td>0</td>\n",
       "      <td>0</td>\n",
       "      <td>1</td>\n",
       "      <td>0</td>\n",
       "      <td>0</td>\n",
       "      <td>0</td>\n",
       "      <td>0</td>\n",
       "      <td>0</td>\n",
       "    </tr>\n",
       "    <tr>\n",
       "      <th>1444</th>\n",
       "      <td>0</td>\n",
       "      <td>0</td>\n",
       "      <td>0</td>\n",
       "      <td>0</td>\n",
       "      <td>0</td>\n",
       "      <td>0</td>\n",
       "      <td>1</td>\n",
       "      <td>0</td>\n",
       "      <td>0</td>\n",
       "      <td>0</td>\n",
       "      <td>0</td>\n",
       "      <td>0</td>\n",
       "    </tr>\n",
       "    <tr>\n",
       "      <th>1445</th>\n",
       "      <td>0</td>\n",
       "      <td>0</td>\n",
       "      <td>0</td>\n",
       "      <td>0</td>\n",
       "      <td>0</td>\n",
       "      <td>0</td>\n",
       "      <td>1</td>\n",
       "      <td>0</td>\n",
       "      <td>0</td>\n",
       "      <td>0</td>\n",
       "      <td>0</td>\n",
       "      <td>0</td>\n",
       "    </tr>\n",
       "    <tr>\n",
       "      <th>1446</th>\n",
       "      <td>0</td>\n",
       "      <td>0</td>\n",
       "      <td>0</td>\n",
       "      <td>0</td>\n",
       "      <td>0</td>\n",
       "      <td>0</td>\n",
       "      <td>1</td>\n",
       "      <td>0</td>\n",
       "      <td>0</td>\n",
       "      <td>0</td>\n",
       "      <td>0</td>\n",
       "      <td>0</td>\n",
       "    </tr>\n",
       "    <tr>\n",
       "      <th>1447</th>\n",
       "      <td>0</td>\n",
       "      <td>0</td>\n",
       "      <td>0</td>\n",
       "      <td>0</td>\n",
       "      <td>0</td>\n",
       "      <td>0</td>\n",
       "      <td>1</td>\n",
       "      <td>0</td>\n",
       "      <td>0</td>\n",
       "      <td>0</td>\n",
       "      <td>0</td>\n",
       "      <td>0</td>\n",
       "    </tr>\n",
       "    <tr>\n",
       "      <th>1448</th>\n",
       "      <td>0</td>\n",
       "      <td>0</td>\n",
       "      <td>0</td>\n",
       "      <td>0</td>\n",
       "      <td>0</td>\n",
       "      <td>0</td>\n",
       "      <td>1</td>\n",
       "      <td>0</td>\n",
       "      <td>0</td>\n",
       "      <td>0</td>\n",
       "      <td>0</td>\n",
       "      <td>0</td>\n",
       "    </tr>\n",
       "    <tr>\n",
       "      <th>1449</th>\n",
       "      <td>0</td>\n",
       "      <td>0</td>\n",
       "      <td>0</td>\n",
       "      <td>0</td>\n",
       "      <td>0</td>\n",
       "      <td>0</td>\n",
       "      <td>1</td>\n",
       "      <td>0</td>\n",
       "      <td>0</td>\n",
       "      <td>0</td>\n",
       "      <td>0</td>\n",
       "      <td>0</td>\n",
       "    </tr>\n",
       "    <tr>\n",
       "      <th>1450</th>\n",
       "      <td>0</td>\n",
       "      <td>0</td>\n",
       "      <td>0</td>\n",
       "      <td>0</td>\n",
       "      <td>0</td>\n",
       "      <td>0</td>\n",
       "      <td>1</td>\n",
       "      <td>0</td>\n",
       "      <td>0</td>\n",
       "      <td>0</td>\n",
       "      <td>0</td>\n",
       "      <td>0</td>\n",
       "    </tr>\n",
       "    <tr>\n",
       "      <th>1451</th>\n",
       "      <td>0</td>\n",
       "      <td>0</td>\n",
       "      <td>0</td>\n",
       "      <td>0</td>\n",
       "      <td>0</td>\n",
       "      <td>0</td>\n",
       "      <td>1</td>\n",
       "      <td>0</td>\n",
       "      <td>0</td>\n",
       "      <td>0</td>\n",
       "      <td>0</td>\n",
       "      <td>0</td>\n",
       "    </tr>\n",
       "    <tr>\n",
       "      <th>1452</th>\n",
       "      <td>0</td>\n",
       "      <td>0</td>\n",
       "      <td>0</td>\n",
       "      <td>0</td>\n",
       "      <td>0</td>\n",
       "      <td>0</td>\n",
       "      <td>1</td>\n",
       "      <td>0</td>\n",
       "      <td>0</td>\n",
       "      <td>0</td>\n",
       "      <td>0</td>\n",
       "      <td>0</td>\n",
       "    </tr>\n",
       "    <tr>\n",
       "      <th>1453</th>\n",
       "      <td>0</td>\n",
       "      <td>0</td>\n",
       "      <td>0</td>\n",
       "      <td>0</td>\n",
       "      <td>0</td>\n",
       "      <td>0</td>\n",
       "      <td>1</td>\n",
       "      <td>0</td>\n",
       "      <td>0</td>\n",
       "      <td>0</td>\n",
       "      <td>0</td>\n",
       "      <td>0</td>\n",
       "    </tr>\n",
       "    <tr>\n",
       "      <th>1454</th>\n",
       "      <td>0</td>\n",
       "      <td>0</td>\n",
       "      <td>0</td>\n",
       "      <td>0</td>\n",
       "      <td>0</td>\n",
       "      <td>0</td>\n",
       "      <td>1</td>\n",
       "      <td>0</td>\n",
       "      <td>0</td>\n",
       "      <td>0</td>\n",
       "      <td>0</td>\n",
       "      <td>0</td>\n",
       "    </tr>\n",
       "    <tr>\n",
       "      <th>1455</th>\n",
       "      <td>0</td>\n",
       "      <td>0</td>\n",
       "      <td>0</td>\n",
       "      <td>0</td>\n",
       "      <td>0</td>\n",
       "      <td>0</td>\n",
       "      <td>1</td>\n",
       "      <td>0</td>\n",
       "      <td>0</td>\n",
       "      <td>0</td>\n",
       "      <td>0</td>\n",
       "      <td>0</td>\n",
       "    </tr>\n",
       "    <tr>\n",
       "      <th>1456</th>\n",
       "      <td>0</td>\n",
       "      <td>0</td>\n",
       "      <td>0</td>\n",
       "      <td>0</td>\n",
       "      <td>0</td>\n",
       "      <td>0</td>\n",
       "      <td>1</td>\n",
       "      <td>0</td>\n",
       "      <td>0</td>\n",
       "      <td>0</td>\n",
       "      <td>0</td>\n",
       "      <td>0</td>\n",
       "    </tr>\n",
       "    <tr>\n",
       "      <th>1457</th>\n",
       "      <td>0</td>\n",
       "      <td>0</td>\n",
       "      <td>0</td>\n",
       "      <td>0</td>\n",
       "      <td>0</td>\n",
       "      <td>0</td>\n",
       "      <td>1</td>\n",
       "      <td>0</td>\n",
       "      <td>0</td>\n",
       "      <td>0</td>\n",
       "      <td>0</td>\n",
       "      <td>0</td>\n",
       "    </tr>\n",
       "    <tr>\n",
       "      <th>1458</th>\n",
       "      <td>0</td>\n",
       "      <td>0</td>\n",
       "      <td>0</td>\n",
       "      <td>0</td>\n",
       "      <td>0</td>\n",
       "      <td>0</td>\n",
       "      <td>1</td>\n",
       "      <td>0</td>\n",
       "      <td>0</td>\n",
       "      <td>0</td>\n",
       "      <td>0</td>\n",
       "      <td>0</td>\n",
       "    </tr>\n",
       "    <tr>\n",
       "      <th>1459</th>\n",
       "      <td>0</td>\n",
       "      <td>0</td>\n",
       "      <td>0</td>\n",
       "      <td>0</td>\n",
       "      <td>0</td>\n",
       "      <td>0</td>\n",
       "      <td>1</td>\n",
       "      <td>0</td>\n",
       "      <td>0</td>\n",
       "      <td>0</td>\n",
       "      <td>0</td>\n",
       "      <td>0</td>\n",
       "    </tr>\n",
       "  </tbody>\n",
       "</table>\n",
       "<p>1460 rows × 12 columns</p>\n",
       "</div>"
      ],
      "text/plain": [
       "      1   2   3   4   5   6   7   8   9   10  11  12\n",
       "0      0   0   0   0   0   0   0   1   0   0   0   0\n",
       "1      0   0   0   0   0   0   0   1   0   0   0   0\n",
       "2      0   0   0   0   0   0   0   1   0   0   0   0\n",
       "3      0   0   0   0   0   0   0   1   0   0   0   0\n",
       "4      0   0   0   0   0   0   0   1   0   0   0   0\n",
       "5      0   0   0   0   0   0   0   1   0   0   0   0\n",
       "6      0   0   0   0   0   0   0   1   0   0   0   0\n",
       "7      0   0   0   0   0   0   0   1   0   0   0   0\n",
       "8      0   0   0   0   0   0   0   1   0   0   0   0\n",
       "9      0   0   0   0   0   0   0   1   0   0   0   0\n",
       "10     0   0   0   0   0   0   0   1   0   0   0   0\n",
       "11     0   0   0   0   0   0   0   1   0   0   0   0\n",
       "12     0   0   0   0   0   0   0   1   0   0   0   0\n",
       "13     0   0   0   0   0   0   0   1   0   0   0   0\n",
       "14     0   0   0   0   0   0   0   1   0   0   0   0\n",
       "15     0   0   0   0   0   0   0   1   0   0   0   0\n",
       "16     0   0   0   0   0   0   0   1   0   0   0   0\n",
       "17     0   0   0   0   0   0   0   1   0   0   0   0\n",
       "18     0   0   0   0   0   0   0   1   0   0   0   0\n",
       "19     0   0   0   0   0   0   0   1   0   0   0   0\n",
       "20     0   0   0   0   0   0   0   1   0   0   0   0\n",
       "21     0   0   0   0   0   0   0   1   0   0   0   0\n",
       "22     0   0   0   0   0   0   0   1   0   0   0   0\n",
       "23     0   0   0   0   0   0   0   1   0   0   0   0\n",
       "24     0   0   0   0   0   0   0   1   0   0   0   0\n",
       "25     0   0   0   0   0   0   0   1   0   0   0   0\n",
       "26     0   0   0   0   0   0   0   1   0   0   0   0\n",
       "27     0   0   0   0   0   0   0   1   0   0   0   0\n",
       "28     0   0   0   0   0   0   0   1   0   0   0   0\n",
       "29     0   0   0   0   0   0   0   1   0   0   0   0\n",
       "...   ..  ..  ..  ..  ..  ..  ..  ..  ..  ..  ..  ..\n",
       "1430   0   0   0   0   0   0   1   0   0   0   0   0\n",
       "1431   0   0   0   0   0   0   1   0   0   0   0   0\n",
       "1432   0   0   0   0   0   0   1   0   0   0   0   0\n",
       "1433   0   0   0   0   0   0   1   0   0   0   0   0\n",
       "1434   0   0   0   0   0   0   1   0   0   0   0   0\n",
       "1435   0   0   0   0   0   0   1   0   0   0   0   0\n",
       "1436   0   0   0   0   0   0   1   0   0   0   0   0\n",
       "1437   0   0   0   0   0   0   1   0   0   0   0   0\n",
       "1438   0   0   0   0   0   0   1   0   0   0   0   0\n",
       "1439   0   0   0   0   0   0   1   0   0   0   0   0\n",
       "1440   0   0   0   0   0   0   1   0   0   0   0   0\n",
       "1441   0   0   0   0   0   0   1   0   0   0   0   0\n",
       "1442   0   0   0   0   0   0   1   0   0   0   0   0\n",
       "1443   0   0   0   0   0   0   1   0   0   0   0   0\n",
       "1444   0   0   0   0   0   0   1   0   0   0   0   0\n",
       "1445   0   0   0   0   0   0   1   0   0   0   0   0\n",
       "1446   0   0   0   0   0   0   1   0   0   0   0   0\n",
       "1447   0   0   0   0   0   0   1   0   0   0   0   0\n",
       "1448   0   0   0   0   0   0   1   0   0   0   0   0\n",
       "1449   0   0   0   0   0   0   1   0   0   0   0   0\n",
       "1450   0   0   0   0   0   0   1   0   0   0   0   0\n",
       "1451   0   0   0   0   0   0   1   0   0   0   0   0\n",
       "1452   0   0   0   0   0   0   1   0   0   0   0   0\n",
       "1453   0   0   0   0   0   0   1   0   0   0   0   0\n",
       "1454   0   0   0   0   0   0   1   0   0   0   0   0\n",
       "1455   0   0   0   0   0   0   1   0   0   0   0   0\n",
       "1456   0   0   0   0   0   0   1   0   0   0   0   0\n",
       "1457   0   0   0   0   0   0   1   0   0   0   0   0\n",
       "1458   0   0   0   0   0   0   1   0   0   0   0   0\n",
       "1459   0   0   0   0   0   0   1   0   0   0   0   0\n",
       "\n",
       "[1460 rows x 12 columns]"
      ]
     },
     "execution_count": 228,
     "metadata": {},
     "output_type": "execute_result"
    }
   ],
   "source": [
    "pd.get_dummies(mon)"
   ]
  },
  {
   "cell_type": "markdown",
   "metadata": {},
   "source": [
    "제외할 것은 제외하고, 바꿀 것은 바꾸고, 채울 것은 채운다."
   ]
  },
  {
   "cell_type": "code",
   "execution_count": 235,
   "metadata": {
    "collapsed": true
   },
   "outputs": [
    {
     "ename": "ValueError",
     "evalue": "labels ['weekDay'] not contained in axis",
     "output_type": "error",
     "traceback": [
      "\u001b[1;31m---------------------------------------------------------------------------\u001b[0m",
      "\u001b[1;31mValueError\u001b[0m                                Traceback (most recent call last)",
      "\u001b[1;32m<ipython-input-235-654809eeb39c>\u001b[0m in \u001b[0;36m<module>\u001b[1;34m()\u001b[0m\n\u001b[1;32m----> 1\u001b[1;33m \u001b[0mdata\u001b[0m \u001b[1;33m=\u001b[0m \u001b[0mweather\u001b[0m\u001b[1;33m.\u001b[0m\u001b[0mdrop\u001b[0m\u001b[1;33m(\u001b[0m\u001b[1;33m[\u001b[0m\u001b[1;34m'date'\u001b[0m\u001b[1;33m,\u001b[0m\u001b[1;34m'weekDay'\u001b[0m\u001b[1;33m]\u001b[0m\u001b[1;33m,\u001b[0m \u001b[0maxis\u001b[0m \u001b[1;33m=\u001b[0m \u001b[1;36m1\u001b[0m\u001b[1;33m)\u001b[0m\u001b[1;33m\u001b[0m\u001b[0m\n\u001b[0m",
      "\u001b[1;32mC:\\ProgramData\\Anaconda3\\lib\\site-packages\\pandas\\core\\generic.py\u001b[0m in \u001b[0;36mdrop\u001b[1;34m(self, labels, axis, level, inplace, errors)\u001b[0m\n\u001b[0;32m   2159\u001b[0m                 \u001b[0mnew_axis\u001b[0m \u001b[1;33m=\u001b[0m \u001b[0maxis\u001b[0m\u001b[1;33m.\u001b[0m\u001b[0mdrop\u001b[0m\u001b[1;33m(\u001b[0m\u001b[0mlabels\u001b[0m\u001b[1;33m,\u001b[0m \u001b[0mlevel\u001b[0m\u001b[1;33m=\u001b[0m\u001b[0mlevel\u001b[0m\u001b[1;33m,\u001b[0m \u001b[0merrors\u001b[0m\u001b[1;33m=\u001b[0m\u001b[0merrors\u001b[0m\u001b[1;33m)\u001b[0m\u001b[1;33m\u001b[0m\u001b[0m\n\u001b[0;32m   2160\u001b[0m             \u001b[1;32melse\u001b[0m\u001b[1;33m:\u001b[0m\u001b[1;33m\u001b[0m\u001b[0m\n\u001b[1;32m-> 2161\u001b[1;33m                 \u001b[0mnew_axis\u001b[0m \u001b[1;33m=\u001b[0m \u001b[0maxis\u001b[0m\u001b[1;33m.\u001b[0m\u001b[0mdrop\u001b[0m\u001b[1;33m(\u001b[0m\u001b[0mlabels\u001b[0m\u001b[1;33m,\u001b[0m \u001b[0merrors\u001b[0m\u001b[1;33m=\u001b[0m\u001b[0merrors\u001b[0m\u001b[1;33m)\u001b[0m\u001b[1;33m\u001b[0m\u001b[0m\n\u001b[0m\u001b[0;32m   2162\u001b[0m             \u001b[0mdropped\u001b[0m \u001b[1;33m=\u001b[0m \u001b[0mself\u001b[0m\u001b[1;33m.\u001b[0m\u001b[0mreindex\u001b[0m\u001b[1;33m(\u001b[0m\u001b[1;33m**\u001b[0m\u001b[1;33m{\u001b[0m\u001b[0maxis_name\u001b[0m\u001b[1;33m:\u001b[0m \u001b[0mnew_axis\u001b[0m\u001b[1;33m}\u001b[0m\u001b[1;33m)\u001b[0m\u001b[1;33m\u001b[0m\u001b[0m\n\u001b[0;32m   2163\u001b[0m             \u001b[1;32mtry\u001b[0m\u001b[1;33m:\u001b[0m\u001b[1;33m\u001b[0m\u001b[0m\n",
      "\u001b[1;32mC:\\ProgramData\\Anaconda3\\lib\\site-packages\\pandas\\core\\indexes\\base.py\u001b[0m in \u001b[0;36mdrop\u001b[1;34m(self, labels, errors)\u001b[0m\n\u001b[0;32m   3622\u001b[0m             \u001b[1;32mif\u001b[0m \u001b[0merrors\u001b[0m \u001b[1;33m!=\u001b[0m \u001b[1;34m'ignore'\u001b[0m\u001b[1;33m:\u001b[0m\u001b[1;33m\u001b[0m\u001b[0m\n\u001b[0;32m   3623\u001b[0m                 raise ValueError('labels %s not contained in axis' %\n\u001b[1;32m-> 3624\u001b[1;33m                                  labels[mask])\n\u001b[0m\u001b[0;32m   3625\u001b[0m             \u001b[0mindexer\u001b[0m \u001b[1;33m=\u001b[0m \u001b[0mindexer\u001b[0m\u001b[1;33m[\u001b[0m\u001b[1;33m~\u001b[0m\u001b[0mmask\u001b[0m\u001b[1;33m]\u001b[0m\u001b[1;33m\u001b[0m\u001b[0m\n\u001b[0;32m   3626\u001b[0m         \u001b[1;32mreturn\u001b[0m \u001b[0mself\u001b[0m\u001b[1;33m.\u001b[0m\u001b[0mdelete\u001b[0m\u001b[1;33m(\u001b[0m\u001b[0mindexer\u001b[0m\u001b[1;33m)\u001b[0m\u001b[1;33m\u001b[0m\u001b[0m\n",
      "\u001b[1;31mValueError\u001b[0m: labels ['weekDay'] not contained in axis"
     ]
    }
   ],
   "source": [
    "data = weather.drop(['date','weekDay'], axis = 1)\n",
    "data['month'] = mon\n",
    "data = data.replace('-',0.0) # 누락된 데이터가 0.0이어야하는 것은 아니므로 이것은 판단이 필요\n",
    "data = pd.get_dummies(data, columns= ['location', 'month']) # 원핫인코딩\n",
    "\n",
    "y = data['weather']\n",
    "X = data.drop('weather', axis =1).values.astype('float32')"
   ]
  },
  {
   "cell_type": "code",
   "execution_count": 238,
   "metadata": {},
   "outputs": [
    {
     "data": {
      "text/plain": [
       "(506, 13)"
      ]
     },
     "execution_count": 238,
     "metadata": {},
     "output_type": "execute_result"
    }
   ],
   "source": [
    "X.shape"
   ]
  },
  {
   "cell_type": "code",
   "execution_count": null,
   "metadata": {
    "collapsed": true
   },
   "outputs": [],
   "source": [
    "w_class = np.unique(y) # 분류의 갯수"
   ]
  },
  {
   "cell_type": "code",
   "execution_count": null,
   "metadata": {
    "collapsed": true
   },
   "outputs": [],
   "source": [
    "len(w_class) # 79개 --> 그대로 사용할 수 없다 (정해야 한다 --> 이진분류로 만들어 본다 비/눈이 왔나?안왔나?)"
   ]
  },
  {
   "cell_type": "code",
   "execution_count": null,
   "metadata": {
    "collapsed": true
   },
   "outputs": [],
   "source": [
    "y.str.contains('비|눈').replace([True, False], ['눈비', '안옴']) # 정규표현식"
   ]
  },
  {
   "cell_type": "code",
   "execution_count": null,
   "metadata": {
    "collapsed": true
   },
   "outputs": [],
   "source": [
    "np.unique(y) # 이렇게 가공해야 한다"
   ]
  },
  {
   "cell_type": "code",
   "execution_count": null,
   "metadata": {
    "collapsed": true
   },
   "outputs": [],
   "source": [
    "X.shape, y.shape"
   ]
  },
  {
   "cell_type": "code",
   "execution_count": null,
   "metadata": {
    "collapsed": true
   },
   "outputs": [],
   "source": [
    "X_train, X_test, y_train, y_test = train_test_split(X, y)"
   ]
  },
  {
   "cell_type": "markdown",
   "metadata": {},
   "source": [
    "이제 어떻게 할까\n",
    "\n",
    "(p171)의 요약을 본다\n",
    "\n",
    "1. 첫번째 선형모델을 적용해본다\n",
    "2. 선형모델인 경우 데이터에 손을 대본다 (데이터 공학)\n",
    "3. 모델을 바꾸거나 (\n",
    "  - 랜텀 포레스트를 써볼까? --> 고차원 희소데이터는 안 맞는다는데\n",
    "  - 원핫인코딩을 하면서 희소데이터 효과가 생기게 되었다\n",
    "  - 걱정이 되긴 하지만, 한번 해본다"
   ]
  },
  {
   "cell_type": "code",
   "execution_count": 239,
   "metadata": {
    "collapsed": true
   },
   "outputs": [],
   "source": [
    "from sklearn.linear_model import LogisticRegression"
   ]
  },
  {
   "cell_type": "code",
   "execution_count": null,
   "metadata": {
    "collapsed": true
   },
   "outputs": [],
   "source": [
    "logreg = LogisticRegression().fit(X_train, y_train)\n",
    "logreg.score(X_train, y_train), logreg.score(X_test, y_test)"
   ]
  },
  {
   "cell_type": "markdown",
   "metadata": {},
   "source": [
    "0.8 정도의 정확도가 나왔는데...\n",
    "\n",
    "내일의 날씨를 예측하는 것이므로...\n",
    "\n",
    "오늘의 속성으로 내일을 예측해야 하는 것이므로, 데이터 구성이 잘못되어 있다 \n",
    "\n",
    "--> 데이터에서 y를 한칸씩 올려야 한다 (오늘의 속성 + 내일의 날씨)"
   ]
  },
  {
   "cell_type": "code",
   "execution_count": 240,
   "metadata": {
    "collapsed": true
   },
   "outputs": [],
   "source": [
    "y = y[1:] # 두번째 값부터 끝까지\n",
    "X = X[:-1] # 처음부터 마지막값 전까지"
   ]
  },
  {
   "cell_type": "code",
   "execution_count": null,
   "metadata": {
    "collapsed": true
   },
   "outputs": [],
   "source": [
    "X.shape, y.shape"
   ]
  },
  {
   "cell_type": "markdown",
   "metadata": {},
   "source": [
    "랜덤 포레스트"
   ]
  },
  {
   "cell_type": "code",
   "execution_count": null,
   "metadata": {
    "collapsed": true
   },
   "outputs": [],
   "source": [
    "from sklearn.ensemble import RandomForestClassifier"
   ]
  },
  {
   "cell_type": "code",
   "execution_count": null,
   "metadata": {
    "collapsed": true
   },
   "outputs": [],
   "source": [
    "forest = RandomForestClassifier().fit(X_train, y_train)\n",
    "forest.score(X_train, y_train), forest.score(X_test, y_test)"
   ]
  },
  {
   "cell_type": "markdown",
   "metadata": {},
   "source": [
    "1.0, 0.71로 나왔으므로\n",
    "\n",
    "과대적합이므로, 파라미터를 조절한다 "
   ]
  },
  {
   "cell_type": "code",
   "execution_count": null,
   "metadata": {
    "collapsed": true
   },
   "outputs": [],
   "source": [
    "forest = RandomForestClassifier(n_estimators=100).fit(X_train, y_train)\n",
    "forest.score(X_train, y_train), forest.score(X_test, y_test)"
   ]
  },
  {
   "cell_type": "markdown",
   "metadata": {},
   "source": [
    "1.0, 0.67로 나왔으므로 개선되지 않았다.\n",
    "\n",
    "즉... 모델을 선택하고, 파라미터 뽑는 것뿐만 아니라...\n",
    "\n",
    "데이터에 대한 고민을 해야한다\n",
    "\n",
    "분야전문성 + 데이터과학자의 노력이 필요하다\n",
    "\n"
   ]
  },
  {
   "cell_type": "markdown",
   "metadata": {},
   "source": [
    "#### 노하우는 모델은 같은 것을 쓰지만, 데이터를 어떻게 구성해서 feeding 해주는가가 관건이다"
   ]
  },
  {
   "cell_type": "code",
   "execution_count": null,
   "metadata": {
    "collapsed": true
   },
   "outputs": [],
   "source": []
  }
 ],
 "metadata": {
  "kernelspec": {
   "display_name": "Python 3",
   "language": "python",
   "name": "python3"
  },
  "language_info": {
   "codemirror_mode": {
    "name": "ipython",
    "version": 3
   },
   "file_extension": ".py",
   "mimetype": "text/x-python",
   "name": "python",
   "nbconvert_exporter": "python",
   "pygments_lexer": "ipython3",
   "version": "3.7.3"
  }
 },
 "nbformat": 4,
 "nbformat_minor": 2
}
